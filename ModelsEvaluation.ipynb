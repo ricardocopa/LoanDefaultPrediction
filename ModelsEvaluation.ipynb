{
 "cells": [
  {
   "cell_type": "markdown",
   "metadata": {
    "colab_type": "text",
    "id": "xfNHa5AGW4R-"
   },
   "source": [
    "# <font color=#004090>LOAN DEFAULT PREDICTION</font>\n",
    "-----\n",
    "## Machine Learning Engineer Nanodegree<br>Capstone Project Notebook\n",
    "Ricardo Szczerbacki <br>\n",
    "October 2019\n",
    "\n",
    "This is the work notebook where the models where implemented and evaluated.\n",
    "\n",
    "\n"
   ]
  },
  {
   "cell_type": "code",
   "execution_count": 1,
   "metadata": {
    "colab": {},
    "colab_type": "code",
    "id": "SnK-Q6eWW4SF"
   },
   "outputs": [],
   "source": [
    "import os\n",
    "import time\n",
    "import datetime\n",
    "import numpy as np\n",
    "import pandas as pd\n",
    "import matplotlib.pyplot as plt\n",
    "import pickle\n",
    "from sklearn.model_selection import train_test_split\n",
    "from sklearn.model_selection import cross_val_score\n",
    "from sklearn.model_selection import KFold\n",
    "from sklearn.metrics import roc_curve, auc\n",
    "from sklearn.model_selection import RandomizedSearchCV\n",
    "from sklearn.ensemble import ExtraTreesClassifier, RandomForestClassifier, VotingClassifier\n",
    "from sklearn.dummy import DummyClassifier\n",
    "from sklearn.linear_model import LogisticRegression\n",
    "from xgboost import XGBClassifier\n",
    "from warnings import simplefilter\n",
    "simplefilter(action='ignore', category=FutureWarning)\n"
   ]
  },
  {
   "cell_type": "code",
   "execution_count": 2,
   "metadata": {
    "colab": {},
    "colab_type": "code",
    "id": "sdSYGHzoNz4w"
   },
   "outputs": [],
   "source": [
    "outputdir = 'data'\n",
    "start_log_datetime = datetime.datetime.now().strftime(\"%Y-%m-%d_%H:%M:%S\")\n",
    "log_path = \"\"\n",
    "logfilename = \"\"\n",
    "\n",
    "def startLog():\n",
    "    global log_path\n",
    "    global logfilename\n",
    "    \n",
    "    start_log_datetime = datetime.datetime.now().strftime(\"%Y-%m-%d_%H_%M_%S\")\n",
    "    log_path = os.path.join(outputdir, start_log_datetime)\n",
    "    logfilename = os.path.join(log_path,'process.txt')\n",
    "\n",
    "    if not (os.path.isdir(log_path)):\n",
    "        os.mkdir(os.path.join(os.getcwd(), log_path))\n",
    "        open(logfilename, 'a+').close()\n",
    "\n",
    "def log(*args, **kwargs):\n",
    "    print(*args, **kwargs)\n",
    "    \n",
    "    output_file = open(logfilename, 'a')\n",
    "    print(*args, **kwargs, file=output_file)\n"
   ]
  },
  {
   "cell_type": "code",
   "execution_count": 3,
   "metadata": {
    "colab": {},
    "colab_type": "code",
    "id": "7dcs85MKW4Tj"
   },
   "outputs": [],
   "source": [
    "def dumpToFile(obj, filename):\n",
    "    file = open(os.path.join('data',filename),\"wb\")\n",
    "    pickle.dump(obj,file)\n",
    "    file.close()\n",
    "    \n",
    "def loadFromFile(filename):\n",
    "    file = open(os.path.join('data',filename),\"rb\")\n",
    "    data = pickle.load(file)\n",
    "    file.close()\n",
    "    \n",
    "    return data\n",
    "    "
   ]
  },
  {
   "cell_type": "code",
   "execution_count": 4,
   "metadata": {
    "colab": {
     "base_uri": "https://localhost:8080/",
     "height": 255
    },
    "colab_type": "code",
    "id": "AwlZcbbrW4SP",
    "outputId": "79028d40-78f0-4a92-8bb1-d5ce26e1b0ae"
   },
   "outputs": [
    {
     "data": {
      "text/html": [
       "<div>\n",
       "<style scoped>\n",
       "    .dataframe tbody tr th:only-of-type {\n",
       "        vertical-align: middle;\n",
       "    }\n",
       "\n",
       "    .dataframe tbody tr th {\n",
       "        vertical-align: top;\n",
       "    }\n",
       "\n",
       "    .dataframe thead th {\n",
       "        text-align: right;\n",
       "    }\n",
       "</style>\n",
       "<table border=\"1\" class=\"dataframe\">\n",
       "  <thead>\n",
       "    <tr style=\"text-align: right;\">\n",
       "      <th></th>\n",
       "      <th>TARGET</th>\n",
       "      <th>FLAG_OWN_CAR</th>\n",
       "      <th>FLAG_OWN_REALTY</th>\n",
       "      <th>CNT_CHILDREN</th>\n",
       "      <th>AMT_INCOME_TOTAL</th>\n",
       "      <th>AMT_CREDIT</th>\n",
       "      <th>AMT_ANNUITY</th>\n",
       "      <th>AMT_GOODS_PRICE</th>\n",
       "      <th>REGION_POPULATION_RELATIVE</th>\n",
       "      <th>DAYS_BIRTH</th>\n",
       "      <th>...</th>\n",
       "      <th>APPROVED_COUNT</th>\n",
       "      <th>REFUSED_COUNT</th>\n",
       "      <th>DIFF_APPROVED_REFUSED</th>\n",
       "      <th>AMT_INSTALMENT_MAX</th>\n",
       "      <th>AMT_INSTALMENT_MEAN</th>\n",
       "      <th>AMT_PAYMENT_MAX</th>\n",
       "      <th>AMT_PAYMENT_MEAN</th>\n",
       "      <th>DIFF_INST_PAYMENT_MAX</th>\n",
       "      <th>DIFF_INST_PAYMENT_MEAN</th>\n",
       "      <th>DEBIT_TO_INCOME</th>\n",
       "    </tr>\n",
       "  </thead>\n",
       "  <tbody>\n",
       "    <tr>\n",
       "      <th>0</th>\n",
       "      <td>1</td>\n",
       "      <td>0</td>\n",
       "      <td>1</td>\n",
       "      <td>0.0</td>\n",
       "      <td>0.245235</td>\n",
       "      <td>0.489168</td>\n",
       "      <td>0.537543</td>\n",
       "      <td>0.468926</td>\n",
       "      <td>0.256321</td>\n",
       "      <td>0.888839</td>\n",
       "      <td>...</td>\n",
       "      <td>0.000000</td>\n",
       "      <td>0.02165</td>\n",
       "      <td>0.089919</td>\n",
       "      <td>0.014078</td>\n",
       "      <td>0.004615</td>\n",
       "      <td>0.014078</td>\n",
       "      <td>0.004615</td>\n",
       "      <td>0.020545</td>\n",
       "      <td>0.000000</td>\n",
       "      <td>0.015549</td>\n",
       "    </tr>\n",
       "    <tr>\n",
       "      <th>1</th>\n",
       "      <td>0</td>\n",
       "      <td>0</td>\n",
       "      <td>0</td>\n",
       "      <td>0.0</td>\n",
       "      <td>0.279379</td>\n",
       "      <td>0.746353</td>\n",
       "      <td>0.610134</td>\n",
       "      <td>0.722716</td>\n",
       "      <td>0.045016</td>\n",
       "      <td>0.477114</td>\n",
       "      <td>...</td>\n",
       "      <td>0.076923</td>\n",
       "      <td>0.02165</td>\n",
       "      <td>0.089919</td>\n",
       "      <td>0.148704</td>\n",
       "      <td>0.025854</td>\n",
       "      <td>0.148704</td>\n",
       "      <td>0.025854</td>\n",
       "      <td>0.020545</td>\n",
       "      <td>0.000000</td>\n",
       "      <td>0.014825</td>\n",
       "    </tr>\n",
       "    <tr>\n",
       "      <th>2</th>\n",
       "      <td>0</td>\n",
       "      <td>1</td>\n",
       "      <td>1</td>\n",
       "      <td>0.0</td>\n",
       "      <td>0.114842</td>\n",
       "      <td>0.244146</td>\n",
       "      <td>0.281841</td>\n",
       "      <td>0.261439</td>\n",
       "      <td>0.134897</td>\n",
       "      <td>0.348534</td>\n",
       "      <td>...</td>\n",
       "      <td>0.000000</td>\n",
       "      <td>0.02165</td>\n",
       "      <td>0.089919</td>\n",
       "      <td>0.002804</td>\n",
       "      <td>0.002833</td>\n",
       "      <td>0.002804</td>\n",
       "      <td>0.002833</td>\n",
       "      <td>0.020545</td>\n",
       "      <td>0.000000</td>\n",
       "      <td>0.014825</td>\n",
       "    </tr>\n",
       "    <tr>\n",
       "      <th>3</th>\n",
       "      <td>0</td>\n",
       "      <td>0</td>\n",
       "      <td>1</td>\n",
       "      <td>0.0</td>\n",
       "      <td>0.197110</td>\n",
       "      <td>0.430802</td>\n",
       "      <td>0.573785</td>\n",
       "      <td>0.432651</td>\n",
       "      <td>0.107023</td>\n",
       "      <td>0.350846</td>\n",
       "      <td>...</td>\n",
       "      <td>0.153846</td>\n",
       "      <td>0.00000</td>\n",
       "      <td>0.153846</td>\n",
       "      <td>0.183425</td>\n",
       "      <td>0.025133</td>\n",
       "      <td>0.183425</td>\n",
       "      <td>0.025133</td>\n",
       "      <td>0.020545</td>\n",
       "      <td>0.000000</td>\n",
       "      <td>0.014825</td>\n",
       "    </tr>\n",
       "    <tr>\n",
       "      <th>4</th>\n",
       "      <td>0</td>\n",
       "      <td>0</td>\n",
       "      <td>1</td>\n",
       "      <td>0.0</td>\n",
       "      <td>0.184605</td>\n",
       "      <td>0.540826</td>\n",
       "      <td>0.513513</td>\n",
       "      <td>0.551331</td>\n",
       "      <td>0.392880</td>\n",
       "      <td>0.298591</td>\n",
       "      <td>...</td>\n",
       "      <td>0.192308</td>\n",
       "      <td>0.02165</td>\n",
       "      <td>0.089919</td>\n",
       "      <td>0.006013</td>\n",
       "      <td>0.005057</td>\n",
       "      <td>0.006013</td>\n",
       "      <td>0.004877</td>\n",
       "      <td>0.029697</td>\n",
       "      <td>0.000935</td>\n",
       "      <td>0.014825</td>\n",
       "    </tr>\n",
       "  </tbody>\n",
       "</table>\n",
       "<p>5 rows × 308 columns</p>\n",
       "</div>"
      ],
      "text/plain": [
       "   TARGET  FLAG_OWN_CAR  FLAG_OWN_REALTY  CNT_CHILDREN  AMT_INCOME_TOTAL  \\\n",
       "0       1             0                1           0.0          0.245235   \n",
       "1       0             0                0           0.0          0.279379   \n",
       "2       0             1                1           0.0          0.114842   \n",
       "3       0             0                1           0.0          0.197110   \n",
       "4       0             0                1           0.0          0.184605   \n",
       "\n",
       "   AMT_CREDIT  AMT_ANNUITY  AMT_GOODS_PRICE  REGION_POPULATION_RELATIVE  \\\n",
       "0    0.489168     0.537543         0.468926                    0.256321   \n",
       "1    0.746353     0.610134         0.722716                    0.045016   \n",
       "2    0.244146     0.281841         0.261439                    0.134897   \n",
       "3    0.430802     0.573785         0.432651                    0.107023   \n",
       "4    0.540826     0.513513         0.551331                    0.392880   \n",
       "\n",
       "   DAYS_BIRTH       ...         APPROVED_COUNT  REFUSED_COUNT  \\\n",
       "0    0.888839       ...               0.000000        0.02165   \n",
       "1    0.477114       ...               0.076923        0.02165   \n",
       "2    0.348534       ...               0.000000        0.02165   \n",
       "3    0.350846       ...               0.153846        0.00000   \n",
       "4    0.298591       ...               0.192308        0.02165   \n",
       "\n",
       "   DIFF_APPROVED_REFUSED  AMT_INSTALMENT_MAX  AMT_INSTALMENT_MEAN  \\\n",
       "0               0.089919            0.014078             0.004615   \n",
       "1               0.089919            0.148704             0.025854   \n",
       "2               0.089919            0.002804             0.002833   \n",
       "3               0.153846            0.183425             0.025133   \n",
       "4               0.089919            0.006013             0.005057   \n",
       "\n",
       "   AMT_PAYMENT_MAX  AMT_PAYMENT_MEAN  DIFF_INST_PAYMENT_MAX  \\\n",
       "0         0.014078          0.004615               0.020545   \n",
       "1         0.148704          0.025854               0.020545   \n",
       "2         0.002804          0.002833               0.020545   \n",
       "3         0.183425          0.025133               0.020545   \n",
       "4         0.006013          0.004877               0.029697   \n",
       "\n",
       "   DIFF_INST_PAYMENT_MEAN  DEBIT_TO_INCOME  \n",
       "0                0.000000         0.015549  \n",
       "1                0.000000         0.014825  \n",
       "2                0.000000         0.014825  \n",
       "3                0.000000         0.014825  \n",
       "4                0.000935         0.014825  \n",
       "\n",
       "[5 rows x 308 columns]"
      ]
     },
     "execution_count": 4,
     "metadata": {},
     "output_type": "execute_result"
    }
   ],
   "source": [
    "train_data = pd.read_pickle('data/processed_data')\n",
    "train_data.head()"
   ]
  },
  {
   "cell_type": "code",
   "execution_count": 11,
   "metadata": {
    "colab": {},
    "colab_type": "code",
    "id": "-YLMYsFQW4Sd"
   },
   "outputs": [
    {
     "name": "stdout",
     "output_type": "stream",
     "text": [
      "Shape of the original train dataset: (302054, 308)\n",
      "Shape of the tuning subset of the train dataset: (271848, 307)\n",
      "Shape of the remaining train dataset: (30206, 307)\n"
     ]
    }
   ],
   "source": [
    "# Separate approximately 10% of the training set to hyperparameters tuning\n",
    "y = train_data['TARGET']\n",
    "X = train_data.drop('TARGET', axis=1)\n",
    "\n",
    "X, X_tuning, y, y_tuning = train_test_split(X, y, test_size=.10, random_state=42)\n",
    "\n",
    "print(\"Shape of the original train dataset: {}\".format(train_data.shape))\n",
    "print(\"Shape of the tuning subset of the train dataset: {}\".format(X.shape))\n",
    "print(\"Shape of the remaining train dataset: {}\".format(X_tuning.shape))\n"
   ]
  },
  {
   "cell_type": "markdown",
   "metadata": {
    "colab_type": "text",
    "id": "y9aE5yGeW4Sl"
   },
   "source": [
    "### Feature Ranking\n",
    "In this step I will use a tree classifier to obtain the estimated importance of the features, so we can make a ranking and evaluate all our models with different number of features.\n"
   ]
  },
  {
   "cell_type": "code",
   "execution_count": 12,
   "metadata": {
    "colab": {},
    "colab_type": "code",
    "id": "NBvI1WU8W4Sq"
   },
   "outputs": [],
   "source": [
    "if (os.path.exists('data/importances') and os.path.exists('data/indices')):\n",
    "    importances = np.load('data/importances', allow_pickle=True)\n",
    "    indices = np.load('data/indices', allow_pickle=True)\n",
    "else:\n",
    "    tree_classifier = ExtraTreesClassifier(n_estimators=250, random_state=0)\n",
    "    tree_classifier.fit(X, y)\n",
    "    importances = tree_classifier.feature_importances_\n",
    "    indices = np.argsort(importances)[::-1]\n",
    "    importances.dump('data/importances')\n",
    "    indices.dump('data/indices')"
   ]
  },
  {
   "cell_type": "code",
   "execution_count": 13,
   "metadata": {
    "colab": {
     "base_uri": "https://localhost:8080/",
     "height": 1000
    },
    "colab_type": "code",
    "id": "axi-EB7dW4S1",
    "outputId": "7354c85c-570c-4b4d-ec0f-c4621ecc8c9a"
   },
   "outputs": [
    {
     "name": "stdout",
     "output_type": "stream",
     "text": [
      "FEATURE RANKING\n",
      "\n",
      "Pos Feature                        Importance\n",
      "---------------------------------------------------------------\n",
      "001 EXT_SOURCE_2                   0.021780562861958903\n",
      "002 EXT_SOURCE_3                   0.020207222767413355\n",
      "003 DAYS_BIRTH                     0.010679916639200393\n",
      "004 EXT_SOURCE_1                   0.01039131957682519\n",
      "005 CNT_INSTALMENT_FUTURE_MEAN     0.010119667809326188\n",
      "006 DAYS_ID_PUBLISH                0.010032990541482736\n",
      "007 DAYS_LAST_PHONE_CHANGE         0.009769291871930846\n",
      "008 DAYS_REGISTRATION              0.009596356829694884\n",
      "009 CNT_INSTALMENT_MEAN            0.009457888456776703\n",
      "010 HOUR_APPR_PROCESS_START        0.009451960108060804\n",
      "011 AMT_INCOME_TOTAL               0.00937869493762779\n",
      "012 DIFF_APPROVED_REFUSED          0.00922300524215831\n",
      "013 REFUSED_COUNT                  0.009158518169210407\n",
      "014 REGION_POPULATION_RELATIVE     0.009155577610998505\n",
      "015 AMT_CREDIT                     0.009021422662603059\n",
      "016 AMT_ANNUITY                    0.009011047181048252\n",
      "017 AMT_GOODS_PRICE                0.008993685289683919\n",
      "018 AMT_INSTALMENT_MEAN            0.00898894753902348\n",
      "019 AMT_APPLICATION_MEAN           0.00897976257435144\n",
      "020 AMT_PAYMENT_MEAN               0.008906641847911862\n",
      "021 AMT_ANNUITY_MEAN_y             0.008857375336547884\n",
      "022 AMT_PAYMENT_MAX                0.008738909009864126\n",
      "023 DIFF_INST_PAYMENT_MEAN         0.008725887703113819\n",
      "024 AMT_APPLICATION_MAX            0.008723725672578501\n",
      "025 CNT_INSTALMENT_MAX             0.00870082454924965\n",
      "026 AMT_INSTALMENT_MAX             0.008689899816747218\n",
      "027 AMT_CREDIT_MAX_OVERDUE_MAX     0.008682091848126162\n",
      "028 AMT_ANNUITY_MAX_y              0.008661575026691019\n",
      "029 CNT_INSTALMENT_FUTURE_MAX      0.008654394823623152\n",
      "030 DIFF_INST_PAYMENT_MAX          0.0085710483939488\n",
      "031 DAYS_EMPLOYED                  0.008543829901939255\n",
      "032 AMT_DOWN_PAYMENT_MEAN          0.008488127225486626\n",
      "033 AMT_DOWN_PAYMENT_MAX           0.008461996430912819\n",
      "034 DEBIT_TO_INCOME                0.008360822865485484\n",
      "035 APPROVED_COUNT                 0.00825775876093069\n",
      "036 AMT_CREDIT_SUM_DEBT_MEAN       0.008096092552060988\n",
      "037 AMT_REQ_CREDIT_BUREAU_YEAR     0.008006648917082818\n",
      "038 AMT_CREDIT_SUM_DEBT_MAX        0.007815459628754436\n",
      "039 SK_DPD_DEF_MEAN_x              0.007773828236995714\n",
      "040 AMT_CREDIT_SUM_MAX             0.007644345468257246\n",
      "041 AMT_CREDIT_SUM_MEAN            0.007640994532820121\n",
      "042 CNT_FAM_MEMBERS                0.007420493344941989\n",
      "043 OBS_30_CNT_SOCIAL_CIRCLE       0.007262051327280217\n",
      "044 OBS_60_CNT_SOCIAL_CIRCLE       0.007168345971023306\n",
      "045 SK_DPD_DEF_MAX_x               0.007101324652091129\n",
      "046 STATUS_MEAN_MEAN               0.0069745991292296085\n",
      "047 SK_DPD_MEAN_x                  0.006792526991911589\n",
      "048 SK_DPD_MAX_x                   0.006612621133933203\n",
      "049 CNT_CHILDREN                   0.00657617361317092\n",
      "050 CNT_DRAWINGS_ATM_CURRENT_MEAN  0.00650639991970255\n",
      "051 AMT_CREDIT_SUM_LIMIT_MEAN      0.006388069949192428\n",
      "052 AMT_CREDIT_SUM_LIMIT_MAX       0.0063412200412529636\n",
      "053 STATUS_MAX_MAX                 0.0062425216991654695\n",
      "054 FLAG_OWN_REALTY                0.006180500802047449\n",
      "055 AMT_ANNUITY_MAX_x              0.006074263700430883\n",
      "056 AMT_BALANCE_MEAN               0.006055888001248385\n",
      "057 AMT_REQ_CREDIT_BUREAU_QRT      0.0059471325931741105\n",
      "058 AMT_ANNUITY_MEAN_x             0.005877706645875189\n",
      "059 OWN_CAR_AGE                    0.005745987302257837\n",
      "060 CNT_DRAWINGS_ATM_CURRENT_MAX   0.005525716682160478\n",
      "061 AMT_REQ_CREDIT_BUREAU_MON      0.005475931878683599\n",
      "062 AMT_BALANCE_MAX                0.005392144428835314\n",
      "063 FLAG_PHONE                     0.005361771892011541\n",
      "064 WD_TUESDAY                     0.005160647697345796\n",
      "065 WD_WEDNESDAY                   0.005139727902319195\n",
      "066 FLAG_WORK_PHONE                0.005127193017662883\n",
      "067 ORGT_BUSINESS_ENTITY_TYPE_3    0.005046554131873161\n",
      "068 FAM_MARRIED                    0.00504146821903169\n",
      "069 WD_THURSDAY                    0.00503647868179096\n",
      "070 WD_FRIDAY                      0.005009762763973128\n",
      "071 FLAG_OWN_CAR                   0.0049448154645369904\n",
      "072 AMT_CREDIT_LIMIT_ACTUAL_MAX    0.004798831718136208\n",
      "073 WD_MONDAY                      0.004774557056504001\n",
      "074 AMT_CREDIT_LIMIT_ACTUAL_MEAN   0.004724164414062735\n",
      "075 CNT_INSTALMENT_MATURE_CUM_MEAN 0.004633238356801537\n",
      "076 SK_DPD_DEF_MEAN_y              0.004621372102517532\n",
      "077 CNT_INSTALMENT_MATURE_CUM_MAX  0.004618314980127474\n",
      "078 NTS_UNACCOMPANIED              0.0045469554741676054\n",
      "079 ORGT_SELF-EMPLOYED             0.004541167758035426\n",
      "080 AMT_CREDIT_SUM_OVERDUE_MAX     0.004527437473434897\n",
      "081 AMT_CREDIT_SUM_OVERDUE_MEAN    0.004467570571079344\n",
      "082 SK_DPD_DEF_MAX_y               0.004383066199121734\n",
      "083 DEF_30_CNT_SOCIAL_CIRCLE       0.004326545876128308\n",
      "084 OCCT_LABORERS                  0.004282130401204034\n",
      "085 WD_SATURDAY                    0.004149261323224317\n",
      "086 SK_DPD_MEAN_y                  0.004109796806212271\n",
      "087 SK_DPD_MAX_y                   0.004086797481009464\n",
      "088 NTS_FAMILY                     0.004060668225257873\n",
      "089 INCTYP_WORKING                 0.003933813605839692\n",
      "090 FAM_SINGLE                     0.003921724527084914\n",
      "091 CNT_CREDIT_PROLONG_MAX         0.0038894047592685655\n",
      "092 REG_CITY_NOT_WORK_CITY         0.003840904402737546\n",
      "093 AMT_REQ_CREDIT_BUREAU_WEEK     0.0038254334217612002\n",
      "094 FLAG_DOCUMENT_3                0.003817894560252412\n",
      "095 OCCT_NONE                      0.0038095035959756366\n",
      "096 LIVE_CITY_NOT_WORK_CITY        0.003749466674137479\n",
      "097 FAM_CIVIL_MARRIAGE             0.003738329698762349\n",
      "098 CREDIT_DAY_OVERDUE_MEAN        0.003693214831908758\n",
      "099 YEARS_BEGINEXPLUATATION_AVG    0.003682745724468069\n",
      "100 CREDIT_DAY_OVERDUE_MAX         0.00366922397070171\n",
      "101 YEARS_BEGINEXPLUATATION_MEDI   0.0036337962919839226\n",
      "102 YEARS_BEGINEXPLUATATION_MODE   0.003623144284626937\n",
      "103 HOUST_HOUSE                    0.0035269236667930383\n",
      "104 DEF_60_CNT_SOCIAL_CIRCLE       0.003463961051691437\n",
      "105 REG_CITY_NOT_LIVE_CITY         0.0034552513149998516\n",
      "106 OCCT_SALES_STAFF               0.003451184485886957\n",
      "107 TOTALAREA_MODE                 0.0033172970461159456\n",
      "108 LIVINGAREA_MEDI                0.003288711791814891\n",
      "109 EDU_SECONDARY_SPECIAL          0.003269375145379188\n",
      "110 LIVINGAREA_MODE                0.003267568150992521\n",
      "111 LIVINGAREA_AVG                 0.003250960530118531\n",
      "112 INCTYP_COMMERCIAL_ASSOCIATE    0.003235388224644159\n",
      "113 AMT_REQ_CREDIT_BUREAU_DAY      0.003233764825428971\n",
      "114 ENTRANCES_AVG                  0.003230077176999386\n",
      "115 LANDAREA_MEDI                  0.003204032122615761\n",
      "116 LANDAREA_MODE                  0.003200785511608941\n",
      "117 ENTRANCES_MEDI                 0.0031958275936105414\n",
      "118 ENTRANCES_MODE                 0.003191714758891245\n",
      "119 LANDAREA_AVG                   0.003182503898861952\n",
      "120 APARTMENTS_AVG                 0.0031348946004372815\n",
      "121 APARTMENTS_MEDI                0.003131349916466848\n",
      "122 APARTMENTS_MODE                0.0031256923112355514\n",
      "123 NONLIVINGAREA_MEDI             0.0030642308359577408\n",
      "124 AMT_REQ_CREDIT_BUREAU_HOUR     0.0030639678496888864\n",
      "125 NONLIVINGAREA_AVG              0.0030591715597824355\n",
      "126 NONLIVINGAREA_MODE             0.0030526403892825655\n",
      "127 BASEMENTAREA_AVG               0.003029064966111941\n",
      "128 WD_SUNDAY                      0.0030261392775579217\n",
      "129 BASEMENTAREA_MEDI              0.003014018412523847\n",
      "130 BASEMENTAREA_MODE              0.003005093176834937\n",
      "131 GEND_M                         0.002980494203872886\n",
      "132 GEND_F                         0.0029467823717303668\n",
      "133 FAM_SEPARATED                  0.002922664569964549\n",
      "134 FLOORSMAX_MEDI                 0.002884752846640867\n",
      "135 FLOORSMAX_AVG                  0.002879386720918544\n",
      "136 EDU_HIGHER_EDUCATION           0.0028611539853240693\n",
      "137 FLOORSMAX_MODE                 0.0028552880221480795\n",
      "138 YEARS_BUILD_MEDI               0.002842731727836212\n",
      "139 YEARS_BUILD_AVG                0.0028425173637329137\n",
      "140 YEARS_BUILD_MODE               0.0028322096823654806\n",
      "141 FLAG_EMAIL                     0.0027762494900553185\n",
      "142 ORGT_OTHER                     0.0027704741210938426\n",
      "143 COMMONAREA_MODE                0.0026597279705213393\n",
      "144 COMMONAREA_AVG                 0.0026505901696700558\n",
      "145 OCCT_DRIVERS                   0.0026492617034184103\n",
      "146 HOUST_WITH_PARENTS             0.0026456128853807087\n",
      "147 COMMONAREA_MEDI                0.002638799653549373\n",
      "148 LIVINGAPARTMENTS_MEDI          0.0025930386392905426\n",
      "149 LIVINGAPARTMENTS_AVG           0.0025781817763374766\n",
      "150 LIVINGAPARTMENTS_MODE          0.002577235088001976\n",
      "151 NONLIVINGAPARTMENTS_AVG        0.0025316253263898253\n",
      "152 FLOORSMIN_AVG                  0.002529784670939039\n",
      "153 FLOORSMIN_MODE                 0.0025060104739810787\n",
      "154 FLOORSMIN_MEDI                 0.002505933025854023\n",
      "155 NONLIVINGAPARTMENTS_MEDI       0.0025000173648996207\n",
      "156 NONLIVINGAPARTMENTS_MODE       0.0024821218305639643\n",
      "157 OCCT_CORE_STAFF                0.002409940553315024\n",
      "158 REGION_3                       0.002383131364617373\n",
      "159 ELEVATORS_AVG                  0.00237895410552283\n",
      "160 WMOD_STONE,_BRICK              0.002351239517332527\n",
      "161 ELEVATORS_MEDI                 0.0023386979716493667\n",
      "162 NTS_SPOUSE,_PARTNER            0.00233143936222002\n",
      "163 ELEVATORS_MODE                 0.0022981781654631914\n",
      "164 ORGT_CONSTRUCTION              0.0022711089231552705\n",
      "165 ORGT_BUSINESS_ENTITY_TYPE_2    0.0022419155714815185\n",
      "166 OCCT_MANAGERS                  0.0021965121989256293\n",
      "167 REGIONCTY_3                    0.002175393011841378\n",
      "168 ORGT_TRADE:_TYPE_7             0.00214449213407893\n",
      "169 REGION_2                       0.0021428249902884925\n",
      "170 REGIONCTY_2                    0.002103482957912351\n",
      "171 HOUST_MUNICIPAL_APARTMENT      0.002085030278560243\n",
      "172 REG_REGION_NOT_WORK_REGION     0.0020815920293092483\n",
      "173 WMOD_PANEL                     0.0020729388764001828\n",
      "174 ORGT_GOVERNMENT                0.0020490797015664114\n",
      "175 FONDKA_REG_OPER_ACCOUNT        0.0020383495718275233\n",
      "176 FLAG_DOCUMENT_8                0.002036675416464667\n",
      "177 FONDKA_UNSPEC                  0.0018802265076496743\n",
      "178 OCCT_SECURITY_STAFF            0.0018730066009351733\n",
      "179 LIVE_REGION_NOT_WORK_REGION    0.0018262213682191037\n",
      "180 OCCT_COOKING_STAFF             0.0018094405804294905\n",
      "181 FAM_WIDOW                      0.0017782547802841482\n",
      "182 ORGT_TRANSPORT:_TYPE_4         0.0017475894307980332\n",
      "183 OCCT_HIGH_SKILL_TECH_STAFF     0.0017449089584781244\n",
      "184 HOUST_RENTED_APARTMENT         0.001743855068992595\n",
      "185 ORGT_BUSINESS_ENTITY_TYPE_1    0.0016956239099380644\n",
      "186 EMGMODE_NO                     0.0016843225153504485\n",
      "187 ORGT_MEDICINE                  0.0016788043108435084\n",
      "188 INCTYP_STATE_SERVANT           0.0016519417232765071\n",
      "189 CTYPE_CASH_LOANS               0.0016155608659598327\n",
      "190 CTYPE_REVOLVING_LOANS          0.0015968561793150496\n",
      "191 ORGT_SCHOOL                    0.0015624744017419022\n",
      "192 HTM_BLOCK_OF_FLATS             0.0015447345548802618\n",
      "193 ORGT_INDUSTRY:_TYPE_3          0.001507787664926313\n",
      "194 EDU_INCOMPLETE_HIGHER          0.0014844828374756013\n",
      "195 OCCT_LOW-SKILL_LABORERS        0.0014844567714276074\n",
      "196 WMOD_UNSPEC                    0.0014762583149184258\n",
      "197 ORGT_TRADE:_TYPE_3             0.0014714460851861192\n",
      "198 OCCT_CLEANING_STAFF            0.0014585741755869161\n",
      "199 ORGT_KINDERGARTEN              0.0014205071783376661\n",
      "200 EDU_LOWER_SECONDARY            0.0014093091427482116\n",
      "201 FLAG_DOCUMENT_6                0.0014077488328696015\n",
      "202 EMGMODE_UNSPEC                 0.0013777215730434778\n",
      "203 HTM_UNSPEC                     0.0013699553720674345\n",
      "204 FLAG_DOCUMENT_5                0.0013261299972209006\n",
      "205 OCCT_MEDICINE_STAFF            0.001301885576112796\n",
      "206 FONDKA_REG_OPER_SPEC_ACCOUNT   0.0012741305314555426\n",
      "207 REGIONCTY_1                    0.0012730411436550361\n",
      "208 WMOD_BLOCK                     0.0012443545347552555\n",
      "209 ORGT_AGRICULTURE               0.001240938537891615\n",
      "210 NTS_CHILDREN                   0.001224408608957941\n",
      "211 ORGT_INDUSTRY:_TYPE_11         0.0012139943627124843\n",
      "212 ORGT_SECURITY                  0.001194821335500876\n",
      "213 OCCT_ACCOUNTANTS               0.0011676659299474216\n",
      "214 ORGT_HOUSING                   0.0011556149112618632\n",
      "215 RATE_INTEREST_PRIVILEGED_MAX   0.0011495378274825711\n",
      "216 RATE_INTEREST_PRIMARY_MAX      0.0011407650186811488\n",
      "217 RATE_INTEREST_PRIVILEGED_MEAN  0.0011365296811945464\n",
      "218 ORGT_TRANSPORT:_TYPE_3         0.0011297930527356943\n",
      "219 RATE_INTEREST_PRIMARY_MEAN     0.0011210962917014098\n",
      "220 NTS_OTHER_B                    0.001110982842420832\n",
      "221 ORGT_RESTAURANT                0.0011086400971819467\n",
      "222 REGION_1                       0.0011064920195160573\n",
      "223 REG_REGION_NOT_LIVE_REGION     0.0011058625366467802\n",
      "224 WMOD_WOODEN                    0.0009781204864511717\n",
      "225 FONDKA_NOT_SPECIFIED           0.0009507358697487818\n",
      "226 ORGT_INDUSTRY:_TYPE_9          0.0009506010746767885\n",
      "227 ORGT_POSTAL                    0.0009441603736500305\n",
      "228 ORGT_TRANSPORT:_TYPE_2         0.0009112332429269473\n",
      "229 OCCT_WAITERSBARMEN             0.0008723848807979841\n",
      "230 HOUST_OFFICE_APARTMENT         0.0008639544248044004\n",
      "231 ORGT_INDUSTRY:_TYPE_1          0.0008275390893928837\n",
      "232 FONDKA_ORG_SPEC_ACCOUNT        0.0008066623022941991\n",
      "233 OCCT_PRIVATE_SERVICE_STAFF     0.0007941301152435384\n",
      "234 ORGT_INDUSTRY:_TYPE_7          0.0007218846982336441\n",
      "235 ORGT_INDUSTRY:_TYPE_4          0.0007063526374816208\n",
      "236 ORGT_XNA                       0.0006997638955786835\n",
      "237 FLAG_EMP_PHONE                 0.0006990234005026877\n",
      "238 WMOD_MIXED                     0.0006699682070225556\n",
      "239 INCTYP_PENSIONER               0.0006680327605777274\n",
      "240 FLAG_DOCUMENT_16               0.0006605453876591834\n",
      "241 FLAG_DOCUMENT_18               0.0006415347642376653\n",
      "242 WMOD_OTHERS                    0.0006358506387664073\n",
      "243 ORGT_BANK                      0.0006319469827419238\n",
      "244 ORGT_TRADE:_TYPE_2             0.0006244533918684968\n",
      "245 HTM_SPECIFIC_HOUSING           0.0006218353561795682\n",
      "246 NTS_OTHER_A                    0.0006143669371944888\n",
      "247 EMGMODE_YES                    0.0006077652662055212\n",
      "248 ORGT_MILITARY                  0.0005875375702954875\n",
      "249 ORGT_SERVICES                  0.0005863390156559703\n",
      "250 OCCT_SECRETARIES               0.0005608754106145515\n",
      "251 ORGT_POLICE                    0.0005411290069612171\n",
      "252 ORGT_SECURITY_MINISTRIES       0.0005269492220188394\n",
      "253 HOUST_CO-OP_APARTMENT          0.0005197774306740245\n",
      "254 ORGT_HOTEL                     0.000507242445962042\n",
      "255 ORGT_UNIVERSITY                0.0004821211270909846\n",
      "256 FLAG_DOCUMENT_9                0.0004570766953925822\n",
      "257 OCCT_REALTY_AGENTS             0.0004508337174660016\n",
      "258 ORGT_ELECTRICITY               0.0004487580325213133\n",
      "259 ORGT_REALTOR                   0.0004173502167309857\n",
      "260 HTM_TERRACED_HOUSE             0.0004147758070750506\n",
      "261 ORGT_TELECOM                   0.00040572606002722074\n",
      "262 ORGT_INDUSTRY:_TYPE_5          0.0003626637418822042\n",
      "263 ORGT_ADVERTISING               0.0003569651894457892\n",
      "264 NTS_OTHER                      0.00034186282925411076\n",
      "265 ORGT_EMERGENCY                 0.00033742931488443996\n",
      "266 ORGT_INDUSTRY:_TYPE_2          0.00033199127863954906\n",
      "267 FLAG_CONT_MOBILE               0.00032325790624480253\n",
      "268 FLAG_DOCUMENT_11               0.00031483829345348944\n",
      "269 WMOD_MONOLITHIC                0.0003082394171950877\n",
      "270 ORGT_CLEANING                  0.000306026815336055\n",
      "271 ORGT_TRADE:_TYPE_1             0.0003047316674547426\n",
      "272 OCCT_HR_STAFF                  0.00028742088505272375\n",
      "273 ORGT_MOBILE                    0.0002862944201249741\n",
      "274 ORGT_INSURANCE                 0.00028148345884623544\n",
      "275 OCCT_IT_STAFF                  0.00028118067645243504\n",
      "276 NTS_GROUP_OF_PEOPLE            0.00025707657125574807\n",
      "277 ORGT_TRADE:_TYPE_6             0.0002502232975812485\n",
      "278 ORGT_CULTURE                   0.00024127323940993423\n",
      "279 ORGT_LEGAL_SERVICES            0.00023813424943024337\n",
      "280 FLAG_DOCUMENT_13               0.0001764361184885267\n",
      "281 FLAG_DOCUMENT_14               0.00017514350408999555\n",
      "282 ORGT_INDUSTRY:_TYPE_12         0.00016388951838108056\n",
      "283 FLAG_DOCUMENT_19               0.0001396154389516397\n",
      "284 FLAG_DOCUMENT_20               0.0001262030505699037\n",
      "285 FLAG_DOCUMENT_21               0.00012410507675551287\n",
      "286 ORGT_TRANSPORT:_TYPE_1         0.00010957348393936168\n",
      "287 ORGT_INDUSTRY:_TYPE_6          0.00010939057728336225\n",
      "288 ORGT_INDUSTRY:_TYPE_13         0.00010509259729876637\n",
      "289 FLAG_DOCUMENT_15               9.891516068620316e-05\n",
      "290 INCTYP_UNEMPLOYED              9.18505218156195e-05\n",
      "291 ORGT_INDUSTRY:_TYPE_10         8.78733574705456e-05\n",
      "292 ORGT_RELIGION                  7.209007663269194e-05\n",
      "293 FLAG_DOCUMENT_2                6.758165459933562e-05\n",
      "294 ORGT_TRADE:_TYPE_5             5.47555026566728e-05\n",
      "295 ORGT_INDUSTRY:_TYPE_8          5.224115075191871e-05\n",
      "296 ORGT_TRADE:_TYPE_4             3.54283339551511e-05\n",
      "297 EDU_ACADEMIC_DEGREE            3.393853917422379e-05\n",
      "298 FLAG_DOCUMENT_17               2.790688486834556e-05\n",
      "299 INCTYP_MATERNITY_LEAVE         2.724943967574407e-05\n",
      "300 FLAG_DOCUMENT_7                1.4373495727046595e-05\n",
      "301 INCTYP_STUDENT                 8.250127389002545e-07\n",
      "302 FLAG_DOCUMENT_4                2.949026480954131e-07\n",
      "303 FLAG_DOCUMENT_10               1.484897136536763e-07\n",
      "304 INCTYP_BUSINESSMAN             2.3758354184588206e-08\n",
      "305 GEND_XNA                       2.227345704805145e-08\n",
      "306 FLAG_DOCUMENT_12               0.0\n",
      "307 FLAG_MOBIL                     0.0\n"
     ]
    }
   ],
   "source": [
    "print(\"FEATURE RANKING\")\n",
    "print()\n",
    "print(\"Pos Feature                        Importance\")\n",
    "print(\"---------------------------------------------------------------\")\n",
    "\n",
    "for i in range(X.shape[1]):\n",
    "    print(\"{:03d} {:30} {}\".format(i+1, X.columns[indices[i]], importances[indices[i]]))"
   ]
  },
  {
   "cell_type": "code",
   "execution_count": 14,
   "metadata": {
    "colab": {
     "base_uri": "https://localhost:8080/",
     "height": 281
    },
    "colab_type": "code",
    "id": "mrE2miJgW4TJ",
    "outputId": "7c88c083-0229-4ec2-8877-72d874ddc500"
   },
   "outputs": [
    {
     "data": {
      "image/png": "[encoded data removed]",
      "text/plain": [
       "<Figure size 432x288 with 1 Axes>"
      ]
     },
     "metadata": {
      "needs_background": "light"
     },
     "output_type": "display_data"
    }
   ],
   "source": [
    "plt.figure()\n",
    "plt.title(\"Feature Importances\")\n",
    "plt.plot(range(X.shape[1]), importances[indices],'k--')\n",
    "plt.fill_between(range(X.shape[1]), importances[indices], color='#539ecd')\n",
    "plt.xlim([-1, X.shape[1]])\n",
    "plt.ylim([0, np.amax(importances)])\n",
    "\n",
    "plt.show()"
   ]
  },
  {
   "cell_type": "markdown",
   "metadata": {
    "colab_type": "text",
    "id": "7-6SSao_W4TX"
   },
   "source": [
    "## Hyperparameters Tuning\n",
    "Here I will use the Randomized Search implementation of the sklearn to optimize the hyperparameter for the Random Trees and the XGBoost models."
   ]
  },
  {
   "cell_type": "code",
   "execution_count": 15,
   "metadata": {},
   "outputs": [],
   "source": [
    "startLog()"
   ]
  },
  {
   "cell_type": "code",
   "execution_count": 16,
   "metadata": {},
   "outputs": [
    {
     "name": "stdout",
     "output_type": "stream",
     "text": [
      "Random Search for the Random Forest Classifier\n",
      "------------------------------------------------\n",
      "Fitting 3 folds for each of 100 candidates, totalling 300 fits\n"
     ]
    },
    {
     "name": "stderr",
     "output_type": "stream",
     "text": [
      "[Parallel(n_jobs=-1)]: Using backend LokyBackend with 4 concurrent workers.\n",
      "[Parallel(n_jobs=-1)]: Done   5 tasks      | elapsed:   52.0s\n",
      "[Parallel(n_jobs=-1)]: Done  10 tasks      | elapsed:  1.3min\n",
      "[Parallel(n_jobs=-1)]: Done  17 tasks      | elapsed:  1.4min\n",
      "[Parallel(n_jobs=-1)]: Done  24 tasks      | elapsed:  1.7min\n",
      "[Parallel(n_jobs=-1)]: Done  33 tasks      | elapsed:  3.5min\n",
      "[Parallel(n_jobs=-1)]: Done  42 tasks      | elapsed:  4.2min\n",
      "[Parallel(n_jobs=-1)]: Done  53 tasks      | elapsed:  5.0min\n",
      "[Parallel(n_jobs=-1)]: Done  64 tasks      | elapsed:  6.7min\n",
      "[Parallel(n_jobs=-1)]: Done  77 tasks      | elapsed:  8.9min\n",
      "[Parallel(n_jobs=-1)]: Done  90 tasks      | elapsed:  9.2min\n",
      "[Parallel(n_jobs=-1)]: Done 105 tasks      | elapsed: 10.5min\n",
      "[Parallel(n_jobs=-1)]: Done 120 tasks      | elapsed: 12.7min\n",
      "[Parallel(n_jobs=-1)]: Done 137 tasks      | elapsed: 13.8min\n",
      "[Parallel(n_jobs=-1)]: Done 154 tasks      | elapsed: 16.2min\n",
      "[Parallel(n_jobs=-1)]: Done 173 tasks      | elapsed: 19.4min\n",
      "[Parallel(n_jobs=-1)]: Done 192 tasks      | elapsed: 21.1min\n",
      "[Parallel(n_jobs=-1)]: Done 213 tasks      | elapsed: 23.9min\n",
      "[Parallel(n_jobs=-1)]: Done 234 tasks      | elapsed: 25.7min\n",
      "[Parallel(n_jobs=-1)]: Done 257 tasks      | elapsed: 30.5min\n",
      "[Parallel(n_jobs=-1)]: Done 280 tasks      | elapsed: 32.5min\n",
      "[Parallel(n_jobs=-1)]: Done 300 out of 300 | elapsed: 33.9min finished\n"
     ]
    },
    {
     "name": "stdout",
     "output_type": "stream",
     "text": [
      "Time: 2068.9070041179657 sec\n",
      "Best score: 0.7375722238665305\n",
      "Best estimator:\n",
      "{'bootstrap': True, 'class_weight': None, 'criterion': 'gini', 'max_depth': 10, 'max_features': 'auto', 'max_leaf_nodes': None, 'min_impurity_decrease': 0.0, 'min_impurity_split': None, 'min_samples_leaf': 4, 'min_samples_split': 10, 'min_weight_fraction_leaf': 0.0, 'n_estimators': 500, 'n_jobs': None, 'oob_score': False, 'random_state': None, 'verbose': 0, 'warm_start': False}\n"
     ]
    }
   ],
   "source": [
    "# Random Search for the Random Forest Classifier\n",
    "if (os.path.exists('data/rf_params.dat')):\n",
    "    rf_params = loadFromFile('rf_params.dat')\n",
    "else:\n",
    "    rf_grid = {'max_depth': [10, 50, 100, None],\n",
    "               'min_samples_leaf': [1, 2, 4],\n",
    "               'min_samples_split': [2, 5, 10],\n",
    "               'n_estimators': [20, 100, 200, 500]}\n",
    "\n",
    "\n",
    "    # Use only 10% of the data for better performance\n",
    "    log(\"Random Search for the Random Forest Classifier\")\n",
    "    log(\"------------------------------------------------\")\n",
    "    pre_train_time = time.time()\n",
    "\n",
    "    random_forest = RandomForestClassifier()\n",
    "    rf_random = RandomizedSearchCV(estimator = random_forest, param_distributions = rf_grid, n_iter = 100, cv = 3, verbose=10, random_state=42, n_jobs = -1, scoring='roc_auc')\n",
    "    rf_random.fit(X_tuning, y_tuning)\n",
    "\n",
    "    log(\"Time: \" + str(time.time() - pre_train_time) + \" sec\")\n",
    "    log(\"Best score: \" + str(rf_random.best_score_))\n",
    "    log(\"Best estimator:\")\n",
    "    log(rf_random.best_estimator_.get_params())\n",
    "    rf_params = rf_random.best_estimator_.get_params()\n",
    "    dumpToFile(rf_params, 'rf_params.dat')\n",
    "\n",
    "\n",
    "\n"
   ]
  },
  {
   "cell_type": "code",
   "execution_count": 17,
   "metadata": {},
   "outputs": [
    {
     "name": "stdout",
     "output_type": "stream",
     "text": [
      "\n",
      "Random Search for the XGBoost Classifier\n",
      "------------------------------------------------\n",
      "Fitting 3 folds for each of 100 candidates, totalling 300 fits\n"
     ]
    },
    {
     "name": "stderr",
     "output_type": "stream",
     "text": [
      "[Parallel(n_jobs=-1)]: Using backend LokyBackend with 4 concurrent workers.\n",
      "[Parallel(n_jobs=-1)]: Done   5 tasks      | elapsed:    7.2s\n",
      "[Parallel(n_jobs=-1)]: Done  10 tasks      | elapsed:   21.9s\n",
      "[Parallel(n_jobs=-1)]: Done  17 tasks      | elapsed:   38.6s\n",
      "[Parallel(n_jobs=-1)]: Done  24 tasks      | elapsed:  1.2min\n",
      "[Parallel(n_jobs=-1)]: Done  33 tasks      | elapsed:  2.0min\n",
      "[Parallel(n_jobs=-1)]: Done  42 tasks      | elapsed:  2.6min\n",
      "[Parallel(n_jobs=-1)]: Done  53 tasks      | elapsed:  3.3min\n",
      "[Parallel(n_jobs=-1)]: Done  64 tasks      | elapsed:  4.1min\n",
      "[Parallel(n_jobs=-1)]: Done  77 tasks      | elapsed:  5.3min\n",
      "[Parallel(n_jobs=-1)]: Done  90 tasks      | elapsed:  6.3min\n",
      "[Parallel(n_jobs=-1)]: Done 105 tasks      | elapsed:  6.7min\n",
      "[Parallel(n_jobs=-1)]: Done 120 tasks      | elapsed:  7.8min\n",
      "[Parallel(n_jobs=-1)]: Done 137 tasks      | elapsed:  8.9min\n",
      "[Parallel(n_jobs=-1)]: Done 154 tasks      | elapsed:  9.9min\n",
      "[Parallel(n_jobs=-1)]: Done 173 tasks      | elapsed: 11.4min\n",
      "[Parallel(n_jobs=-1)]: Done 192 tasks      | elapsed: 12.3min\n",
      "[Parallel(n_jobs=-1)]: Done 213 tasks      | elapsed: 14.8min\n",
      "[Parallel(n_jobs=-1)]: Done 234 tasks      | elapsed: 16.0min\n",
      "[Parallel(n_jobs=-1)]: Done 257 tasks      | elapsed: 17.8min\n",
      "[Parallel(n_jobs=-1)]: Done 280 tasks      | elapsed: 19.6min\n",
      "[Parallel(n_jobs=-1)]: Done 300 out of 300 | elapsed: 21.1min finished\n"
     ]
    },
    {
     "name": "stdout",
     "output_type": "stream",
     "text": [
      "Time: 1302.6115396022797 sec\n",
      "Best score: 0.7524861478834752\n",
      "Best estimator:\n",
      "{'base_score': 0.5, 'booster': 'gbtree', 'colsample_bylevel': 0.7, 'colsample_bynode': 1, 'colsample_bytree': 1.0, 'gamma': 0.25, 'learning_rate': 0.1, 'max_delta_step': 0, 'max_depth': 10, 'min_child_weight': 10.0, 'missing': None, 'n_estimators': 100, 'n_jobs': 1, 'nthread': None, 'objective': 'binary:logistic', 'random_state': 0, 'reg_alpha': 0, 'reg_lambda': 100.0, 'scale_pos_weight': 1, 'seed': None, 'silent': False, 'subsample': 1.0, 'verbosity': 1}\n"
     ]
    }
   ],
   "source": [
    "# Random Search for the XGBoost Classifier\n",
    "if (os.path.exists('data/xgb_params.dat')):\n",
    "    xgb_params = loadFromFile('xgb_params.dat')\n",
    "else:\n",
    "    xgboost_grid = {'silent': [False],\n",
    "                    'max_depth': [6, 10, 20],\n",
    "                    'learning_rate': [0.001, 0.01, 0.1, 0.2, 0,3],\n",
    "                    'subsample': [0.5, 0.8, 1.0],\n",
    "                    'colsample_bytree': [0.4, 0.7, 1.0],\n",
    "                    'colsample_bylevel': [0.4, 0.7, 1.0],\n",
    "                    'min_child_weight': [0.5, 3.0, 5.0, 10.0],\n",
    "                    'gamma': [0, 0.25, 0.5, 1.0],\n",
    "                    'reg_lambda': [0.1, 1.0, 10.0, 50.0, 100.0],\n",
    "                    'n_estimators': [20, 50, 100]}\n",
    "    log(\"\")\n",
    "    log(\"Random Search for the XGBoost Classifier\")\n",
    "    log(\"------------------------------------------------\")\n",
    "    pre_train_time = time.time()\n",
    "\n",
    "    xgboost_classifier = XGBClassifier()\n",
    "    xgb_random = RandomizedSearchCV(estimator = xgboost_classifier, param_distributions = xgboost_grid, n_iter = 100, cv = 3, verbose=10, random_state=42, n_jobs = -1, scoring='roc_auc')\n",
    "    xgb_random.fit(X_tuning, y_tuning)\n",
    "\n",
    "    log(\"Time: \" + str(time.time() - pre_train_time) + \" sec\")\n",
    "    log(\"Best score: \" + str(xgb_random.best_score_))\n",
    "    log(\"Best estimator:\")\n",
    "    log(xgb_random.best_estimator_.get_params())\n",
    "    xgb_params = xgb_random.best_estimator_.get_params()\n",
    "    dumpToFile(xgb_params, 'xgb_params.dat')"
   ]
  },
  {
   "cell_type": "markdown",
   "metadata": {
    "colab_type": "text",
    "id": "Ss4CSHriW4Td"
   },
   "source": [
    "## Models Evaluation\n",
    "\n",
    "Now, with a ranking of the features and the optimized hyperparameters we can evalute the models increasing gradually the number of features used, so we can decide the number of features to be used in the final solution."
   ]
  },
  {
   "cell_type": "code",
   "execution_count": 18,
   "metadata": {
    "colab": {
     "base_uri": "https://localhost:8080/",
     "height": 82
    },
    "colab_type": "code",
    "id": "NEoH5peuW4Tq",
    "outputId": "d17ab4da-32dd-42a5-cd4e-29d45d2e2f50"
   },
   "outputs": [
    {
     "name": "stdout",
     "output_type": "stream",
     "text": [
      "2019-10-24 21:20:01\n",
      "First 16 features\n",
      "----------------------------------\n",
      "Random Classifier (baseline) CV score: mean: 0.50000, min: 0.50000, max: 0.50000, std: 0.00000 (time 0.5 secs)\n",
      "Logistic Regression Classifier CV score: mean: 0.72941, min: 0.71932, max: 0.74381, std: 0.00636 (time 28.0 secs)\n",
      "Random Forest Classifier CV score: mean: 0.73739, min: 0.72764, max: 0.75000, std: 0.00600 (time 2435.7 secs)\n",
      "XGBoost Classifier CV score: mean: 0.74606, min: 0.73357, max: 0.75291, std: 0.00519 (time 421.6 secs)\n",
      "\n",
      "Iteration Time: 2885.8 seconds\n",
      "\n",
      "First 31 features\n",
      "----------------------------------\n",
      "Random Classifier (baseline) CV score: mean: 0.50000, min: 0.50000, max: 0.50000, std: 0.00000 (time 0.7 secs)\n",
      "Logistic Regression Classifier CV score: mean: 0.73979, min: 0.72907, max: 0.75313, std: 0.00598 (time 69.4 secs)\n",
      "Random Forest Classifier CV score: mean: 0.74724, min: 0.74035, max: 0.75972, std: 0.00582 (time 3218.0 secs)\n",
      "XGBoost Classifier CV score: mean: 0.76015, min: 0.74857, max: 0.76805, std: 0.00540 (time 784.5 secs)\n",
      "\n",
      "Iteration Time: 4072.7 seconds\n",
      "\n",
      "First 46 features\n",
      "----------------------------------\n",
      "Random Classifier (baseline) CV score: mean: 0.50000, min: 0.50000, max: 0.50000, std: 0.00000 (time 1.0 secs)\n",
      "Logistic Regression Classifier CV score: mean: 0.74168, min: 0.73135, max: 0.75471, std: 0.00585 (time 100.7 secs)\n",
      "Random Forest Classifier CV score: mean: 0.74978, min: 0.74276, max: 0.76167, std: 0.00547 (time 3406.0 secs)\n",
      "XGBoost Classifier CV score: mean: 0.76537, min: 0.75483, max: 0.77394, std: 0.00527 (time 1063.7 secs)\n",
      "\n",
      "Iteration Time: 4571.5 seconds\n",
      "\n",
      "First 62 features\n",
      "----------------------------------\n",
      "Random Classifier (baseline) CV score: mean: 0.50000, min: 0.50000, max: 0.50000, std: 0.00000 (time 1.2 secs)\n",
      "Logistic Regression Classifier CV score: mean: 0.74622, min: 0.73610, max: 0.75978, std: 0.00605 (time 122.9 secs)\n",
      "Random Forest Classifier CV score: mean: 0.75285, min: 0.74719, max: 0.76277, std: 0.00477 (time 3322.7 secs)\n",
      "XGBoost Classifier CV score: mean: 0.76972, min: 0.76167, max: 0.77710, std: 0.00451 (time 1244.3 secs)\n",
      "\n",
      "Iteration Time: 4691.3 seconds\n",
      "\n",
      "First 77 features\n",
      "----------------------------------\n",
      "Random Classifier (baseline) CV score: mean: 0.50000, min: 0.50000, max: 0.50000, std: 0.00000 (time 1.4 secs)\n",
      "Logistic Regression Classifier CV score: mean: 0.74927, min: 0.74000, max: 0.76257, std: 0.00601 (time 159.6 secs)\n",
      "Random Forest Classifier CV score: mean: 0.75275, min: 0.74720, max: 0.76325, std: 0.00505 (time 3271.9 secs)\n",
      "XGBoost Classifier CV score: mean: 0.76973, min: 0.76006, max: 0.77721, std: 0.00494 (time 1380.9 secs)\n",
      "\n",
      "Iteration Time: 4814.0 seconds\n",
      "\n",
      "First 92 features\n",
      "----------------------------------\n",
      "Random Classifier (baseline) CV score: mean: 0.50000, min: 0.50000, max: 0.50000, std: 0.00000 (time 1.6 secs)\n",
      "Logistic Regression Classifier CV score: mean: 0.75233, min: 0.74268, max: 0.76680, std: 0.00625 (time 189.5 secs)\n",
      "Random Forest Classifier CV score: mean: 0.75379, min: 0.74877, max: 0.76419, std: 0.00469 (time 3249.9 secs)\n",
      "XGBoost Classifier CV score: mean: 0.77145, min: 0.76386, max: 0.77962, std: 0.00447 (time 1528.0 secs)\n",
      "\n",
      "Iteration Time: 4969.2 seconds\n",
      "\n",
      "First 108 features\n",
      "----------------------------------\n",
      "Random Classifier (baseline) CV score: mean: 0.50000, min: 0.50000, max: 0.50000, std: 0.00000 (time 1.7 secs)\n",
      "Logistic Regression Classifier CV score: mean: 0.75279, min: 0.74271, max: 0.76662, std: 0.00608 (time 262.3 secs)\n",
      "Random Forest Classifier CV score: mean: 0.75432, min: 0.74933, max: 0.76399, std: 0.00457 (time 3334.3 secs)\n",
      "XGBoost Classifier CV score: mean: 0.77195, min: 0.76308, max: 0.77944, std: 0.00444 (time 1680.0 secs)\n",
      "\n",
      "Iteration Time: 5278.5 seconds\n",
      "\n",
      "First 123 features\n",
      "----------------------------------\n",
      "Random Classifier (baseline) CV score: mean: 0.50000, min: 0.50000, max: 0.50000, std: 0.00000 (time 2.2 secs)\n",
      "Logistic Regression Classifier CV score: mean: 0.75444, min: 0.74552, max: 0.76683, std: 0.00552 (time 327.0 secs)\n",
      "Random Forest Classifier CV score: mean: 0.75542, min: 0.75032, max: 0.76551, std: 0.00467 (time 3538.4 secs)\n",
      "XGBoost Classifier CV score: mean: 0.77306, min: 0.76404, max: 0.78016, std: 0.00446 (time 1856.6 secs)\n",
      "\n",
      "Iteration Time: 5724.4 seconds\n",
      "\n",
      "First 138 features\n",
      "----------------------------------\n",
      "Random Classifier (baseline) CV score: mean: 0.50000, min: 0.50000, max: 0.50000, std: 0.00000 (time 2.3 secs)\n",
      "Logistic Regression Classifier CV score: mean: 0.75815, min: 0.74626, max: 0.76903, std: 0.00564 (time 439.2 secs)\n",
      "Random Forest Classifier CV score: mean: 0.75890, min: 0.75291, max: 0.76695, std: 0.00459 (time 3410.9 secs)\n",
      "XGBoost Classifier CV score: mean: 0.77563, min: 0.76525, max: 0.78212, std: 0.00466 (time 2002.8 secs)\n",
      "\n",
      "Iteration Time: 5855.3 seconds\n",
      "\n",
      "First 153 features\n",
      "----------------------------------\n",
      "Random Classifier (baseline) CV score: mean: 0.50000, min: 0.50000, max: 0.50000, std: 0.00000 (time 2.3 secs)\n",
      "Logistic Regression Classifier CV score: mean: 0.75825, min: 0.74614, max: 0.76921, std: 0.00573 (time 541.8 secs)\n",
      "Random Forest Classifier CV score: mean: 0.75861, min: 0.75302, max: 0.76703, std: 0.00461 (time 3531.6 secs)\n",
      "XGBoost Classifier CV score: mean: 0.77569, min: 0.76479, max: 0.78191, std: 0.00490 (time 2159.8 secs)\n",
      "\n",
      "Iteration Time: 6235.7 seconds\n",
      "\n",
      "Total Time: 49098.4 seconds\n",
      "\n"
     ]
    }
   ],
   "source": [
    "start_time = time.time()\n",
    "\n",
    "# Classifiers\n",
    "# For the Random Prediction implementation I will use the Sci-kit Learn DummyClassifier.\n",
    "baseline = DummyClassifier(strategy='uniform', random_state=42)\n",
    "logistic_regression = LogisticRegression(solver='saga', max_iter=4000)\n",
    "random_forest = RandomForestClassifier()\n",
    "random_forest.set_params(**rf_params)\n",
    "xgboost_classifier = XGBClassifier()\n",
    "xgboost_classifier.set_params(**xgb_params)\n",
    "\n",
    "baseline_best_score = -1000.\n",
    "lr_best_score = -1000.\n",
    "rf_best_score = -1000.\n",
    "xgb_best_score = -1000.\n",
    "\n",
    "baseline_scores = list(range(10)) \n",
    "baseline_training_times = list(range(10)) \n",
    "lr_scores = list(range(10)) \n",
    "lr_training_times = list(range(10)) \n",
    "rf_scores = list(range(10)) \n",
    "rf_training_times = list(range(10)) \n",
    "xgb_scores = list(range(10)) \n",
    "xgb_training_times = list(range(10)) \n",
    "\n",
    "\n",
    "# Percent of the number features to increase at each iteration\n",
    "steps = 10\n",
    "#total_number_of_features = len(X.columns)\n",
    "total_number_of_features = int(len(X.columns) / 2) # use only half of the features and check if it is enough\n",
    "now = datetime.datetime.now()\n",
    "log(now.strftime(\"%Y-%m-%d %H:%M:%S\"))\n",
    "for i in range(0, steps):\n",
    "    iteration_time = time.time()\n",
    "\n",
    "    last_feature_ind = int(np.ceil((total_number_of_features * ((i+1) * steps))/100.))\n",
    "    selected_features = X.columns[indices[:last_feature_ind]]\n",
    "    Xs = X[selected_features]\n",
    "\n",
    "    log(\"First {} features\".format(last_feature_ind))\n",
    "    log(\"----------------------------------\")\n",
    "    \n",
    "    inner_cv = KFold(n_splits=10, shuffle=True, random_state=42)\n",
    "    outer_cv = KFold(n_splits=10, shuffle=True, random_state=42)\n",
    "    \n",
    "    # Baseline\n",
    "    pre_train_time = time.time()\n",
    "    baseline_scores[i] = cross_val_score(baseline, Xs, y, cv=outer_cv, scoring='roc_auc')\n",
    "    baseline_training_times[i] = time.time() - pre_train_time\n",
    "    log(\"Random Classifier (baseline) CV score: mean: {:.5f}, min: {:.5f}, max: {:.5f}, std: {:.5f} (time {:.1f} secs)\"\n",
    "          .format(baseline_scores[i].mean(), baseline_scores[i].min(), \n",
    "                  baseline_scores[i].max(), baseline_scores[i].std(),\n",
    "                  baseline_training_times[i]))\n",
    "    if baseline_scores[i].mean() > baseline_best_score:\n",
    "        baseline_best_score = baseline_scores[i].mean()\n",
    "        baseline_best_iteration = i\n",
    "    \n",
    "    # Logistic Regression\n",
    "    pre_train_time = time.time()\n",
    "    lr_scores[i] = cross_val_score(logistic_regression, Xs, y, cv=outer_cv, scoring='roc_auc')\n",
    "    lr_training_times[i] = time.time() - pre_train_time\n",
    "    log(\"Logistic Regression Classifier CV score: mean: {:.5f}, min: {:.5f}, max: {:.5f}, std: {:.5f} (time {:.1f} secs)\"\n",
    "          .format(lr_scores[i].mean(), lr_scores[i].min(), \n",
    "                  lr_scores[i].max(), lr_scores[i].std(),\n",
    "                  lr_training_times[i]))\n",
    "    if lr_scores[i].mean() > lr_best_score:\n",
    "        lr_best_score = lr_scores[i].mean()\n",
    "        lr_best_iteration = i\n",
    "    \n",
    "    # Random Forest\n",
    "    pre_train_time = time.time()\n",
    "    rf_scores[i] = cross_val_score(random_forest, Xs, y, cv=outer_cv, scoring='roc_auc')\n",
    "    rf_training_times[i] = time.time() - pre_train_time\n",
    "    log(\"Random Forest Classifier CV score: mean: {:.5f}, min: {:.5f}, max: {:.5f}, std: {:.5f} (time {:.1f} secs)\"\n",
    "          .format(rf_scores[i].mean(), rf_scores[i].min(), \n",
    "                  rf_scores[i].max(), rf_scores[i].std(),\n",
    "                  rf_training_times[i]))\n",
    "    if rf_scores[i].mean() > rf_best_score:\n",
    "        rf_best_score = rf_scores[i].mean()\n",
    "        rf_best_iteration = i\n",
    "    \n",
    "    # XGBoost\n",
    "    pre_train_time = time.time()\n",
    "    xgb_scores[i] = cross_val_score(xgboost_classifier, Xs, y, cv=outer_cv, scoring='roc_auc')\n",
    "    xgb_training_times[i] = time.time() - pre_train_time\n",
    "    log(\"XGBoost Classifier CV score: mean: {:.5f}, min: {:.5f}, max: {:.5f}, std: {:.5f} (time {:.1f} secs)\"\n",
    "          .format(xgb_scores[i].mean(), xgb_scores[i].min(), \n",
    "                  xgb_scores[i].max(), xgb_scores[i].std(),\n",
    "                  xgb_training_times[i]))\n",
    "    if xgb_scores[i].mean() > xgb_best_score:\n",
    "        xgb_best_score = xgb_scores[i].mean()\n",
    "        xgb_best_iteration = i\n",
    "        \n",
    "    log(\"\")\n",
    "    log(\"Iteration Time: {:.1f} seconds\".format(time.time() - iteration_time))\n",
    "    iteration_time = time.time()\n",
    "    log(\"\")\n",
    "\n",
    "log(\"Total Time: {:.1f} seconds\".format(time.time() - start_time))\n",
    "log(\"\")\n",
    "\n",
    "\n",
    "# As the values seems to stabilize near the 10th interation (where i = 9)\n",
    "# I will use the 153 first features in the final model\n",
    "dumpToFile(lr_scores[9], 'final_lr_scores.dat')\n",
    "dumpToFile(rf_scores[9], 'final_rf_scores.dat')\n",
    "dumpToFile(xgb_scores[9], 'final_xgb_scores.dat')\n"
   ]
  },
  {
   "cell_type": "code",
   "execution_count": 25,
   "metadata": {},
   "outputs": [
    {
     "name": "stdout",
     "output_type": "stream",
     "text": [
      "[16, 31, 46, 62, 77, 92, 108, 123, 138, 153]\n"
     ]
    }
   ],
   "source": [
    "# Show how training time increases as we increase the number of feaures\n",
    "number_of_features = [ int(np.ceil((total_number_of_features * ((i+1) * steps))/100.)) for i in range(0,steps)]\n",
    "print(number_of_features)"
   ]
  },
  {
   "cell_type": "code",
   "execution_count": 28,
   "metadata": {
    "colab": {},
    "colab_type": "code",
    "id": "wyX28FBeW4Tu"
   },
   "outputs": [
    {
     "data": {
      "image/png": "[encoded data removed]",
      "text/plain": [
       "<Figure size 432x288 with 1 Axes>"
      ]
     },
     "metadata": {
      "needs_background": "light"
     },
     "output_type": "display_data"
    },
    {
     "data": {
      "text/plain": [
       "<Figure size 432x288 with 0 Axes>"
      ]
     },
     "metadata": {},
     "output_type": "display_data"
    },
    {
     "data": {
      "image/png": "[encoded data removed]",
      "text/plain": [
       "<Figure size 432x288 with 1 Axes>"
      ]
     },
     "metadata": {
      "needs_background": "light"
     },
     "output_type": "display_data"
    },
    {
     "data": {
      "text/plain": [
       "<Figure size 432x288 with 0 Axes>"
      ]
     },
     "metadata": {},
     "output_type": "display_data"
    },
    {
     "data": {
      "image/png": "[encoded data removed]",
      "text/plain": [
       "<Figure size 432x288 with 1 Axes>"
      ]
     },
     "metadata": {
      "needs_background": "light"
     },
     "output_type": "display_data"
    },
    {
     "data": {
      "text/plain": [
       "<Figure size 432x288 with 0 Axes>"
      ]
     },
     "metadata": {},
     "output_type": "display_data"
    },
    {
     "data": {
      "image/png": "[encoded data removed]",
      "text/plain": [
       "<Figure size 432x288 with 1 Axes>"
      ]
     },
     "metadata": {
      "needs_background": "light"
     },
     "output_type": "display_data"
    },
    {
     "data": {
      "text/plain": [
       "<Figure size 432x288 with 0 Axes>"
      ]
     },
     "metadata": {},
     "output_type": "display_data"
    }
   ],
   "source": [
    "# Check statistics on scores for the folds\n",
    "# Baseline\n",
    "plt.figure()\n",
    "plt.title(\"Baseline Model Scores\")\n",
    "plt.xlabel('Number of Features')\n",
    "plt.ylabel('Score')\n",
    "plt.boxplot(baseline_scores, labels=number_of_features)\n",
    "plt.show()\n",
    "plt.savefig(log_path + '/baseline_scores_plot.png')\n",
    "\n",
    "# Logistic Regression\n",
    "plt.figure()\n",
    "plt.title(\"Logistic Regression Scores\")\n",
    "plt.xlabel('Number of Features')\n",
    "plt.ylabel('Score')\n",
    "plt.boxplot(lr_scores, labels=number_of_features)\n",
    "plt.show()\n",
    "plt.savefig(log_path + '/lr_scores_plot.png')\n",
    "\n",
    "# Random Forest\n",
    "plt.figure()\n",
    "plt.title(\"Random Forest Scores\")\n",
    "plt.xlabel('Number of Features')\n",
    "plt.ylabel('Score')\n",
    "plt.boxplot(rf_scores, labels=number_of_features)\n",
    "plt.show()\n",
    "plt.savefig(log_path + '/rf_scores_plot.png')\n",
    "\n",
    "# XGBoost\n",
    "plt.figure()\n",
    "plt.title(\"XGBoost Scores\")\n",
    "plt.xlabel('Number of Features')\n",
    "plt.ylabel('Score')\n",
    "plt.boxplot(xgb_scores, labels=number_of_features)\n",
    "plt.show()\n",
    "plt.savefig(log_path + '/xgb_scores_plot.png')"
   ]
  },
  {
   "cell_type": "code",
   "execution_count": 29,
   "metadata": {
    "colab": {},
    "colab_type": "code",
    "id": "fZ_JUYAeW4T4"
   },
   "outputs": [
    {
     "data": {
      "image/png": "[encoded data removed]",
      "text/plain": [
       "<Figure size 432x288 with 1 Axes>"
      ]
     },
     "metadata": {
      "needs_background": "light"
     },
     "output_type": "display_data"
    },
    {
     "data": {
      "text/plain": [
       "<Figure size 432x288 with 0 Axes>"
      ]
     },
     "metadata": {},
     "output_type": "display_data"
    },
    {
     "data": {
      "image/png": "[encoded data removed]",
      "text/plain": [
       "<Figure size 432x288 with 1 Axes>"
      ]
     },
     "metadata": {
      "needs_background": "light"
     },
     "output_type": "display_data"
    },
    {
     "data": {
      "text/plain": [
       "<Figure size 432x288 with 0 Axes>"
      ]
     },
     "metadata": {},
     "output_type": "display_data"
    },
    {
     "data": {
      "image/png": "[encoded data removed]",
      "text/plain": [
       "<Figure size 432x288 with 1 Axes>"
      ]
     },
     "metadata": {
      "needs_background": "light"
     },
     "output_type": "display_data"
    },
    {
     "data": {
      "text/plain": [
       "<Figure size 432x288 with 0 Axes>"
      ]
     },
     "metadata": {},
     "output_type": "display_data"
    },
    {
     "data": {
      "image/png": "[encoded data removed]",
      "text/plain": [
       "<Figure size 432x288 with 1 Axes>"
      ]
     },
     "metadata": {
      "needs_background": "light"
     },
     "output_type": "display_data"
    },
    {
     "data": {
      "text/plain": [
       "<Figure size 432x288 with 0 Axes>"
      ]
     },
     "metadata": {},
     "output_type": "display_data"
    }
   ],
   "source": [
    "# Baseline\n",
    "plt.figure()\n",
    "plt.title(\"Baseline Model Training Times\")\n",
    "plt.xlabel('Number of Features')\n",
    "plt.ylabel('Time (seconds)')\n",
    "plt.plot(number_of_features, baseline_training_times, marker='o', linewidth=2, markersize=12)\n",
    "plt.show()\n",
    "plt.savefig(log_path + '/baseline_times_plot.png')\n",
    "\n",
    "# Logistic Regression\n",
    "plt.figure()\n",
    "plt.title(\"Logistic Regression Model Training Times\")\n",
    "plt.xlabel('Number of Features')\n",
    "plt.ylabel('Time (seconds)')\n",
    "plt.plot(number_of_features, lr_training_times, marker='o', linewidth=2, markersize=12)\n",
    "plt.show()\n",
    "plt.savefig(log_path + '/lr_times_plot.png')\n",
    "\n",
    "# Random Forest\n",
    "plt.figure()\n",
    "plt.title(\"Logistic Regression Model Training Times\")\n",
    "plt.xlabel('Number of Features')\n",
    "plt.ylabel('Time (seconds)')\n",
    "plt.plot(number_of_features, lr_training_times, marker='o', linewidth=2, markersize=12)\n",
    "plt.show()\n",
    "plt.savefig(log_path + '/rf_times_plot.png')\n",
    "\n",
    "# XGBoost\n",
    "plt.figure()\n",
    "plt.title(\"XGBoost Model Training Times\")\n",
    "plt.xlabel('Number of Features')\n",
    "plt.ylabel('Time (seconds)')\n",
    "plt.plot(number_of_features, lr_training_times, marker='o', linewidth=2, markersize=12)\n",
    "plt.show()\n",
    "plt.savefig(log_path + '/xgb_times_plot.png')"
   ]
  },
  {
   "cell_type": "markdown",
   "metadata": {
    "colab": {},
    "colab_type": "code",
    "id": "xyrKu9ugpbjN"
   },
   "source": [
    "## Ensembling Models\n",
    "\n",
    "<p>Now I will combine the models to check if any combination of the evaluated models will produce a better result then then models alone.</p>\n",
    "\n",
    "First I will combine the three models (Linear Regression, Random Forest and XGBoost) then I will combine each two models."
   ]
  },
  {
   "cell_type": "code",
   "execution_count": 30,
   "metadata": {},
   "outputs": [
    {
     "name": "stdout",
     "output_type": "stream",
     "text": [
      "\n",
      "Ensembling Evaluated Methods\n",
      "----------------------------------------\n",
      "2019-10-25 20:10:42\n",
      "Ensemble of LR, RF and XGBoost: mean: 0.77496, min: 0.76490, max: 0.78355, std: 0.00505 (time 4342.4 secs)\n",
      "Ensemble of LR and RF: mean: 0.76734, min: 0.75788, max: 0.77748, std: 0.00512 (time 3672.0 secs)\n",
      "Ensemble of LR and XGBoost: mean: 0.77492, min: 0.76334, max: 0.78357, std: 0.00544 (time 2315.6 secs)\n",
      "Ensemble RF and XGBoost: mean: 0.77399, min: 0.76500, max: 0.78056, std: 0.00456 (time 4181.1 secs)\n",
      "Total Time: 14511.4 seconds\n",
      "\n"
     ]
    }
   ],
   "source": [
    "start_time = time.time()\n",
    "\n",
    "log(\"\")\n",
    "log(\"Ensembling Evaluated Methods\")\n",
    "log(\"----------------------------------------\")\n",
    "\n",
    "\n",
    "# Classifiers\n",
    "logistic_regression = LogisticRegression(solver='saga', max_iter=4000)\n",
    "random_forest = RandomForestClassifier()\n",
    "random_forest.set_params(**rf_params)\n",
    "xgboost_classifier = XGBClassifier()\n",
    "xgboost_classifier.set_params(**xgb_params)\n",
    "\n",
    "lr_rf_xgb_scores = list(range(10)) \n",
    "lr_rf_xgb_training_times = list(range(10)) \n",
    "\n",
    "lr_rf_scores = list(range(10)) \n",
    "lr_rf_training_times = list(range(10)) \n",
    "\n",
    "lr_xgb_scores = list(range(10)) \n",
    "lr_xgb_training_times = list(range(10)) \n",
    "\n",
    "rf_xgb_scores = list(range(10)) \n",
    "rf_xgb_training_times = list(range(10)) \n",
    "\n",
    "\n",
    "now = datetime.datetime.now()\n",
    "log(now.strftime(\"%Y-%m-%d %H:%M:%S\"))\n",
    "iteration_time = time.time()\n",
    "\n",
    "# The last step (10th) evaluated, with 153 features, will be used for the ensembling\n",
    "last_feature_ind = 153\n",
    "selected_features = X.columns[indices[:last_feature_ind]]\n",
    "Xs = X[selected_features]\n",
    "\n",
    "outer_cv = KFold(n_splits=10, shuffle=True, random_state=42)\n",
    "    \n",
    "# Logistic Regression, Random Forest and XGBoost\n",
    "pre_train_time = time.time()\n",
    "lr_rf_xgb = VotingClassifier(estimators=\n",
    "                             [('lr', logistic_regression), ('rf', random_forest),('xgb', xgboost_classifier)], \n",
    "                             voting='soft', n_jobs=-1)\n",
    "lr_rf_xgb_scores = cross_val_score(lr_rf_xgb, Xs, y, cv=outer_cv, scoring='roc_auc')\n",
    "lr_rf_xgb_training_times = time.time() - pre_train_time\n",
    "dumpToFile(lr_rf_xgb_scores, 'lr_rf_xgb_scores.dat')\n",
    "log(\"Ensemble of LR, RF and XGBoost: mean: {:.5f}, min: {:.5f}, max: {:.5f}, std: {:.5f} (time {:.1f} secs)\"\n",
    "    .format(lr_rf_xgb_scores.mean(), lr_rf_xgb_scores.min(), \n",
    "                  lr_rf_xgb_scores.max(), lr_rf_xgb_scores.std(),\n",
    "                  lr_rf_xgb_training_times))\n",
    "\n",
    "# Logistic Regression and Random Forest\n",
    "pre_train_time = time.time()\n",
    "lr_rf = VotingClassifier(estimators=\n",
    "                             [('lr', logistic_regression), ('rf', random_forest)], \n",
    "                             voting='soft', n_jobs=-1)\n",
    "lr_rf_scores = cross_val_score(lr_rf, Xs, y, cv=outer_cv, scoring='roc_auc')\n",
    "lr_rf_training_times = time.time() - pre_train_time\n",
    "dumpToFile(lr_rf_scores, 'lr_rf_scores.dat')\n",
    "log(\"Ensemble of LR and RF: mean: {:.5f}, min: {:.5f}, max: {:.5f}, std: {:.5f} (time {:.1f} secs)\"\n",
    "    .format(lr_rf_scores.mean(), lr_rf_scores.min(), \n",
    "                  lr_rf_scores.max(), lr_rf_scores.std(),\n",
    "                  lr_rf_training_times))\n",
    "\n",
    "\n",
    "# Logistic Regression and XGBoost\n",
    "pre_train_time = time.time()\n",
    "lr_xgb = VotingClassifier(estimators=\n",
    "                             [('lr', logistic_regression), ('xgb', xgboost_classifier)], \n",
    "                             voting='soft', n_jobs=-1)\n",
    "lr_xgb_scores = cross_val_score(lr_xgb, Xs, y, cv=outer_cv, scoring='roc_auc')\n",
    "lr_xgb_training_times = time.time() - pre_train_time\n",
    "dumpToFile(lr_xgb_scores, 'lr_xgb_scores.dat')\n",
    "log(\"Ensemble of LR and XGBoost: mean: {:.5f}, min: {:.5f}, max: {:.5f}, std: {:.5f} (time {:.1f} secs)\"\n",
    "    .format(lr_xgb_scores.mean(), lr_xgb_scores.min(), \n",
    "                  lr_xgb_scores.max(), lr_xgb_scores.std(),\n",
    "                  lr_xgb_training_times))\n",
    "\n",
    "# Random Forest and XGBoost\n",
    "pre_train_time = time.time()\n",
    "rf_xgb = VotingClassifier(estimators=\n",
    "                             [('rf', random_forest),('xgb', xgboost_classifier)], \n",
    "                             voting='soft', n_jobs=-1)\n",
    "rf_xgb_scores = cross_val_score(rf_xgb, Xs, y, cv=outer_cv, scoring='roc_auc')\n",
    "rf_xgb_training_times = time.time() - pre_train_time\n",
    "dumpToFile(rf_xgb_scores, 'rf_xgb_scores.dat')\n",
    "log(\"Ensemble RF and XGBoost: mean: {:.5f}, min: {:.5f}, max: {:.5f}, std: {:.5f} (time {:.1f} secs)\"\n",
    "    .format(rf_xgb_scores.mean(), rf_xgb_scores.min(), \n",
    "                  rf_xgb_scores.max(), rf_xgb_scores.std(),\n",
    "                  rf_xgb_training_times))\n",
    "\n",
    "\n",
    "log(\"Total Time: {:.1f} seconds\".format(time.time() - start_time))\n",
    "log(\"\")\n",
    "\n"
   ]
  },
  {
   "cell_type": "code",
   "execution_count": 44,
   "metadata": {},
   "outputs": [
    {
     "name": "stdout",
     "output_type": "stream",
     "text": [
      "7\n",
      "7\n"
     ]
    },
    {
     "data": {
      "image/png": "[encoded data removed]",
      "text/plain": [
       "<Figure size 432x288 with 1 Axes>"
      ]
     },
     "metadata": {
      "needs_background": "light"
     },
     "output_type": "display_data"
    },
    {
     "data": {
      "text/plain": [
       "<Figure size 432x288 with 0 Axes>"
      ]
     },
     "metadata": {},
     "output_type": "display_data"
    }
   ],
   "source": [
    "if (  os.path.exists('data/final_lr_scores.dat') and\n",
    "      os.path.exists('data/final_rf_scores.dat') and\n",
    "      os.path.exists('data/final_xgb_scores.dat') and\n",
    "      os.path.exists('data/lr_rf_xgb_scores.dat') and\n",
    "      os.path.exists('data/lr_rf_scores.dat') and\n",
    "      os.path.exists('data/lr_xgb_scores.dat') and\n",
    "      os.path.exists('data/rf_xgb_scores.dat')  ):\n",
    "    \n",
    "    final_scores = list(range(7))\n",
    "    final_scores[0] = loadFromFile('final_lr_scores.dat')\n",
    "    final_scores[1] = loadFromFile('final_rf_scores.dat')\n",
    "    final_scores[2] = loadFromFile('final_xgb_scores.dat')\n",
    "    final_scores[3] = loadFromFile('lr_rf_xgb_scores.dat')\n",
    "    final_scores[4] = loadFromFile('lr_rf_scores.dat')\n",
    "    final_scores[5] = loadFromFile('lr_xgb_scores.dat')\n",
    "    final_scores[6] = loadFromFile('rf_xgb_scores.dat')\n",
    "    \n",
    "    print(len(final_scores))\n",
    "    \n",
    "    model_names = [\"Logistic Regression\",\"Random Forest\",\"XGBoost\",\"LR / RF / XGB\",\"LR / RF\",\"LR / XGB\",\"RF / XGB\"]\n",
    "    print(len(model_names))\n",
    "    \n",
    "    plt.figure()\n",
    "    plt.title(\"Comparing Models\")\n",
    "    plt.xlabel('Model Name')\n",
    "    plt.ylabel('Score')\n",
    "    plt.boxplot(final_scores, labels=model_names)\n",
    "    plt.xticks(rotation='vertical')\n",
    "    plt.show()\n",
    "    plt.savefig(log_path + '/rf_scores_plot.png')\n",
    "else:\n",
    "    print(\"Not all models were generated...\")\n",
    "    \n",
    "    \n",
    "    "
   ]
  },
  {
   "cell_type": "code",
   "execution_count": null,
   "metadata": {},
   "outputs": [],
   "source": []
  }
 ],
 "metadata": {
  "accelerator": "GPU",
  "colab": {
   "collapsed_sections": [],
   "name": "ModelsEvaluation.ipynb",
   "provenance": [],
   "toc_visible": true
  },
  "kernelspec": {
   "display_name": "Python 3",
   "language": "python",
   "name": "python3"
  },
  "language_info": {
   "codemirror_mode": {
    "name": "ipython",
    "version": 3
   },
   "file_extension": ".py",
   "mimetype": "text/x-python",
   "name": "python",
   "nbconvert_exporter": "python",
   "pygments_lexer": "ipython3",
   "version": "3.7.1"
  }
 },
 "nbformat": 4,
 "nbformat_minor": 1
}
