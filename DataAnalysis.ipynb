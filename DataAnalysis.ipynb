{
 "cells": [
  {
   "cell_type": "markdown",
   "metadata": {},
   "source": [
    "# <font color=#004090>LOAN DEFAULT PREDICTION</font>\n",
    "-----\n",
    "## Machine Learning Engineer Nanodegree<br>Capstone Project Notebook\n",
    "Ricardo Szczerbacki <br>\n",
    "October 2019\n",
    "\n",
    "This is the work notebook where the data analysis was made.\n",
    "\n",
    "\n",
    "\n",
    "### Data Analysis\n"
   ]
  },
  {
   "cell_type": "code",
   "execution_count": 11,
   "metadata": {},
   "outputs": [],
   "source": [
    "import numpy as np\n",
    "import pandas as pd\n",
    "import matplotlib.pyplot as plt\n"
   ]
  },
  {
   "cell_type": "code",
   "execution_count": 12,
   "metadata": {},
   "outputs": [
    {
     "data": {
      "text/html": [
       "<div>\n",
       "<style scoped>\n",
       "    .dataframe tbody tr th:only-of-type {\n",
       "        vertical-align: middle;\n",
       "    }\n",
       "\n",
       "    .dataframe tbody tr th {\n",
       "        vertical-align: top;\n",
       "    }\n",
       "\n",
       "    .dataframe thead th {\n",
       "        text-align: right;\n",
       "    }\n",
       "</style>\n",
       "<table border=\"1\" class=\"dataframe\">\n",
       "  <thead>\n",
       "    <tr style=\"text-align: right;\">\n",
       "      <th></th>\n",
       "      <th>SK_ID_CURR</th>\n",
       "      <th>TARGET</th>\n",
       "      <th>NAME_CONTRACT_TYPE</th>\n",
       "      <th>CODE_GENDER</th>\n",
       "      <th>FLAG_OWN_CAR</th>\n",
       "      <th>FLAG_OWN_REALTY</th>\n",
       "      <th>CNT_CHILDREN</th>\n",
       "      <th>AMT_INCOME_TOTAL</th>\n",
       "      <th>AMT_CREDIT</th>\n",
       "      <th>AMT_ANNUITY</th>\n",
       "      <th>...</th>\n",
       "      <th>FLAG_DOCUMENT_18</th>\n",
       "      <th>FLAG_DOCUMENT_19</th>\n",
       "      <th>FLAG_DOCUMENT_20</th>\n",
       "      <th>FLAG_DOCUMENT_21</th>\n",
       "      <th>AMT_REQ_CREDIT_BUREAU_HOUR</th>\n",
       "      <th>AMT_REQ_CREDIT_BUREAU_DAY</th>\n",
       "      <th>AMT_REQ_CREDIT_BUREAU_WEEK</th>\n",
       "      <th>AMT_REQ_CREDIT_BUREAU_MON</th>\n",
       "      <th>AMT_REQ_CREDIT_BUREAU_QRT</th>\n",
       "      <th>AMT_REQ_CREDIT_BUREAU_YEAR</th>\n",
       "    </tr>\n",
       "  </thead>\n",
       "  <tbody>\n",
       "    <tr>\n",
       "      <th>0</th>\n",
       "      <td>100002</td>\n",
       "      <td>1</td>\n",
       "      <td>Cash loans</td>\n",
       "      <td>M</td>\n",
       "      <td>N</td>\n",
       "      <td>Y</td>\n",
       "      <td>0</td>\n",
       "      <td>202500.0</td>\n",
       "      <td>406597.5</td>\n",
       "      <td>24700.5</td>\n",
       "      <td>...</td>\n",
       "      <td>0</td>\n",
       "      <td>0</td>\n",
       "      <td>0</td>\n",
       "      <td>0</td>\n",
       "      <td>0.0</td>\n",
       "      <td>0.0</td>\n",
       "      <td>0.0</td>\n",
       "      <td>0.0</td>\n",
       "      <td>0.0</td>\n",
       "      <td>1.0</td>\n",
       "    </tr>\n",
       "    <tr>\n",
       "      <th>1</th>\n",
       "      <td>100003</td>\n",
       "      <td>0</td>\n",
       "      <td>Cash loans</td>\n",
       "      <td>F</td>\n",
       "      <td>N</td>\n",
       "      <td>N</td>\n",
       "      <td>0</td>\n",
       "      <td>270000.0</td>\n",
       "      <td>1293502.5</td>\n",
       "      <td>35698.5</td>\n",
       "      <td>...</td>\n",
       "      <td>0</td>\n",
       "      <td>0</td>\n",
       "      <td>0</td>\n",
       "      <td>0</td>\n",
       "      <td>0.0</td>\n",
       "      <td>0.0</td>\n",
       "      <td>0.0</td>\n",
       "      <td>0.0</td>\n",
       "      <td>0.0</td>\n",
       "      <td>0.0</td>\n",
       "    </tr>\n",
       "    <tr>\n",
       "      <th>2</th>\n",
       "      <td>100004</td>\n",
       "      <td>0</td>\n",
       "      <td>Revolving loans</td>\n",
       "      <td>M</td>\n",
       "      <td>Y</td>\n",
       "      <td>Y</td>\n",
       "      <td>0</td>\n",
       "      <td>67500.0</td>\n",
       "      <td>135000.0</td>\n",
       "      <td>6750.0</td>\n",
       "      <td>...</td>\n",
       "      <td>0</td>\n",
       "      <td>0</td>\n",
       "      <td>0</td>\n",
       "      <td>0</td>\n",
       "      <td>0.0</td>\n",
       "      <td>0.0</td>\n",
       "      <td>0.0</td>\n",
       "      <td>0.0</td>\n",
       "      <td>0.0</td>\n",
       "      <td>0.0</td>\n",
       "    </tr>\n",
       "    <tr>\n",
       "      <th>3</th>\n",
       "      <td>100006</td>\n",
       "      <td>0</td>\n",
       "      <td>Cash loans</td>\n",
       "      <td>F</td>\n",
       "      <td>N</td>\n",
       "      <td>Y</td>\n",
       "      <td>0</td>\n",
       "      <td>135000.0</td>\n",
       "      <td>312682.5</td>\n",
       "      <td>29686.5</td>\n",
       "      <td>...</td>\n",
       "      <td>0</td>\n",
       "      <td>0</td>\n",
       "      <td>0</td>\n",
       "      <td>0</td>\n",
       "      <td>NaN</td>\n",
       "      <td>NaN</td>\n",
       "      <td>NaN</td>\n",
       "      <td>NaN</td>\n",
       "      <td>NaN</td>\n",
       "      <td>NaN</td>\n",
       "    </tr>\n",
       "    <tr>\n",
       "      <th>4</th>\n",
       "      <td>100007</td>\n",
       "      <td>0</td>\n",
       "      <td>Cash loans</td>\n",
       "      <td>M</td>\n",
       "      <td>N</td>\n",
       "      <td>Y</td>\n",
       "      <td>0</td>\n",
       "      <td>121500.0</td>\n",
       "      <td>513000.0</td>\n",
       "      <td>21865.5</td>\n",
       "      <td>...</td>\n",
       "      <td>0</td>\n",
       "      <td>0</td>\n",
       "      <td>0</td>\n",
       "      <td>0</td>\n",
       "      <td>0.0</td>\n",
       "      <td>0.0</td>\n",
       "      <td>0.0</td>\n",
       "      <td>0.0</td>\n",
       "      <td>0.0</td>\n",
       "      <td>0.0</td>\n",
       "    </tr>\n",
       "  </tbody>\n",
       "</table>\n",
       "<p>5 rows × 122 columns</p>\n",
       "</div>"
      ],
      "text/plain": [
       "   SK_ID_CURR  TARGET NAME_CONTRACT_TYPE CODE_GENDER FLAG_OWN_CAR  \\\n",
       "0      100002       1         Cash loans           M            N   \n",
       "1      100003       0         Cash loans           F            N   \n",
       "2      100004       0    Revolving loans           M            Y   \n",
       "3      100006       0         Cash loans           F            N   \n",
       "4      100007       0         Cash loans           M            N   \n",
       "\n",
       "  FLAG_OWN_REALTY  CNT_CHILDREN  AMT_INCOME_TOTAL  AMT_CREDIT  AMT_ANNUITY  \\\n",
       "0               Y             0          202500.0    406597.5      24700.5   \n",
       "1               N             0          270000.0   1293502.5      35698.5   \n",
       "2               Y             0           67500.0    135000.0       6750.0   \n",
       "3               Y             0          135000.0    312682.5      29686.5   \n",
       "4               Y             0          121500.0    513000.0      21865.5   \n",
       "\n",
       "              ...              FLAG_DOCUMENT_18 FLAG_DOCUMENT_19  \\\n",
       "0             ...                             0                0   \n",
       "1             ...                             0                0   \n",
       "2             ...                             0                0   \n",
       "3             ...                             0                0   \n",
       "4             ...                             0                0   \n",
       "\n",
       "  FLAG_DOCUMENT_20 FLAG_DOCUMENT_21 AMT_REQ_CREDIT_BUREAU_HOUR  \\\n",
       "0                0                0                        0.0   \n",
       "1                0                0                        0.0   \n",
       "2                0                0                        0.0   \n",
       "3                0                0                        NaN   \n",
       "4                0                0                        0.0   \n",
       "\n",
       "  AMT_REQ_CREDIT_BUREAU_DAY  AMT_REQ_CREDIT_BUREAU_WEEK  \\\n",
       "0                       0.0                         0.0   \n",
       "1                       0.0                         0.0   \n",
       "2                       0.0                         0.0   \n",
       "3                       NaN                         NaN   \n",
       "4                       0.0                         0.0   \n",
       "\n",
       "   AMT_REQ_CREDIT_BUREAU_MON  AMT_REQ_CREDIT_BUREAU_QRT  \\\n",
       "0                        0.0                        0.0   \n",
       "1                        0.0                        0.0   \n",
       "2                        0.0                        0.0   \n",
       "3                        NaN                        NaN   \n",
       "4                        0.0                        0.0   \n",
       "\n",
       "   AMT_REQ_CREDIT_BUREAU_YEAR  \n",
       "0                         1.0  \n",
       "1                         0.0  \n",
       "2                         0.0  \n",
       "3                         NaN  \n",
       "4                         0.0  \n",
       "\n",
       "[5 rows x 122 columns]"
      ]
     },
     "execution_count": 12,
     "metadata": {},
     "output_type": "execute_result"
    }
   ],
   "source": [
    "# All train application data\n",
    "application_train = pd.read_csv(\"data/application_train.csv\")\n",
    "\n",
    "# Train data without rows with any null value column\n",
    "application_train_nmv = application_train.dropna() \n",
    "\n",
    "application_train.head()"
   ]
  },
  {
   "cell_type": "code",
   "execution_count": 3,
   "metadata": {},
   "outputs": [
    {
     "name": "stdout",
     "output_type": "stream",
     "text": [
      "Total train rows: 307511\n",
      "Rows tagged as possible default: 24825 (8.07% of the rows)\n",
      "\n",
      "Total train rows (without missing values): 8602\n",
      "Rows tagged as possible default: 526 (6.11% of the rows)\n"
     ]
    },
    {
     "name": "stderr",
     "output_type": "stream",
     "text": [
      "C:\\Users\\user\\Anaconda3\\lib\\site-packages\\ipykernel_launcher.py:12: UserWarning: Boolean Series key will be reindexed to match DataFrame index.\n",
      "  if sys.path[0] == '':\n"
     ]
    }
   ],
   "source": [
    "# Full train data\n",
    "print(\"Total train rows: {}\".format(application_train.shape[0]))\n",
    "is_ok = application_train['TARGET'] == 1\n",
    "application_train_ok = application_train[is_ok]\n",
    "ok_percent = (application_train_ok.shape[0] / application_train.shape[0]) * 100\n",
    "print(\"Rows tagged as possible default: {} ({:.2f}% of the rows)\".format(application_train_ok.shape[0], ok_percent))\n",
    "\n",
    "# No missing values data\n",
    "print()\n",
    "print(\"Total train rows (without missing values): {}\".format(application_train_nmv.shape[0]))\n",
    "is_ok_nmv = application_train_nmv['TARGET'] == 1\n",
    "application_train_ok_nmv = application_train_nmv[is_ok]\n",
    "ok_percent_nmv = (application_train_ok_nmv.shape[0] / application_train_nmv.shape[0]) * 100\n",
    "print(\"Rows tagged as possible default: {} ({:.2f}% of the rows)\".format(application_train_ok_nmv.shape[0], ok_percent_nmv))\n"
   ]
  },
  {
   "cell_type": "code",
   "execution_count": 4,
   "metadata": {},
   "outputs": [
    {
     "data": {
      "text/plain": [
       "Index(['AMT_ANNUITY', 'AMT_GOODS_PRICE', 'NAME_TYPE_SUITE', 'OWN_CAR_AGE',\n",
       "       'OCCUPATION_TYPE', 'CNT_FAM_MEMBERS', 'EXT_SOURCE_1', 'EXT_SOURCE_2',\n",
       "       'EXT_SOURCE_3', 'APARTMENTS_AVG', 'BASEMENTAREA_AVG',\n",
       "       'YEARS_BEGINEXPLUATATION_AVG', 'YEARS_BUILD_AVG', 'COMMONAREA_AVG',\n",
       "       'ELEVATORS_AVG', 'ENTRANCES_AVG', 'FLOORSMAX_AVG', 'FLOORSMIN_AVG',\n",
       "       'LANDAREA_AVG', 'LIVINGAPARTMENTS_AVG', 'LIVINGAREA_AVG',\n",
       "       'NONLIVINGAPARTMENTS_AVG', 'NONLIVINGAREA_AVG', 'APARTMENTS_MODE',\n",
       "       'BASEMENTAREA_MODE', 'YEARS_BEGINEXPLUATATION_MODE', 'YEARS_BUILD_MODE',\n",
       "       'COMMONAREA_MODE', 'ELEVATORS_MODE', 'ENTRANCES_MODE', 'FLOORSMAX_MODE',\n",
       "       'FLOORSMIN_MODE', 'LANDAREA_MODE', 'LIVINGAPARTMENTS_MODE',\n",
       "       'LIVINGAREA_MODE', 'NONLIVINGAPARTMENTS_MODE', 'NONLIVINGAREA_MODE',\n",
       "       'APARTMENTS_MEDI', 'BASEMENTAREA_MEDI', 'YEARS_BEGINEXPLUATATION_MEDI',\n",
       "       'YEARS_BUILD_MEDI', 'COMMONAREA_MEDI', 'ELEVATORS_MEDI',\n",
       "       'ENTRANCES_MEDI', 'FLOORSMAX_MEDI', 'FLOORSMIN_MEDI', 'LANDAREA_MEDI',\n",
       "       'LIVINGAPARTMENTS_MEDI', 'LIVINGAREA_MEDI', 'NONLIVINGAPARTMENTS_MEDI',\n",
       "       'NONLIVINGAREA_MEDI', 'FONDKAPREMONT_MODE', 'HOUSETYPE_MODE',\n",
       "       'TOTALAREA_MODE', 'WALLSMATERIAL_MODE', 'EMERGENCYSTATE_MODE',\n",
       "       'OBS_30_CNT_SOCIAL_CIRCLE', 'DEF_30_CNT_SOCIAL_CIRCLE',\n",
       "       'OBS_60_CNT_SOCIAL_CIRCLE', 'DEF_60_CNT_SOCIAL_CIRCLE',\n",
       "       'DAYS_LAST_PHONE_CHANGE', 'AMT_REQ_CREDIT_BUREAU_HOUR',\n",
       "       'AMT_REQ_CREDIT_BUREAU_DAY', 'AMT_REQ_CREDIT_BUREAU_WEEK',\n",
       "       'AMT_REQ_CREDIT_BUREAU_MON', 'AMT_REQ_CREDIT_BUREAU_QRT',\n",
       "       'AMT_REQ_CREDIT_BUREAU_YEAR'],\n",
       "      dtype='object')"
      ]
     },
     "execution_count": 4,
     "metadata": {},
     "output_type": "execute_result"
    }
   ],
   "source": [
    "application_train.columns[application_train.isnull().any()]"
   ]
  },
  {
   "cell_type": "markdown",
   "metadata": {},
   "source": [
    "### Note:\n",
    "For the Application Training table there are too many rows with missing values, so I will not exclude this rows.<p>\n",
    "My strategy will be for each column to analyze and take the proper action on missing values, skewed data, categorical data, etc. </p>"
   ]
  },
  {
   "cell_type": "code",
   "execution_count": 5,
   "metadata": {},
   "outputs": [],
   "source": [
    "processed_app_train = application_train"
   ]
  },
  {
   "cell_type": "markdown",
   "metadata": {},
   "source": [
    "## TABLE application_train.csv\n",
    "### SK_ID_CURR\n",
    "ID of loan in our sample<br>\n",
    "This column will be removed after the analysis, because it is needed for table merging."
   ]
  },
  {
   "cell_type": "markdown",
   "metadata": {},
   "source": [
    "### TARGET\n",
    "Is the target variable and no treatment is necessary (1 - client with payment difficulties, 0 - all other cases)."
   ]
  },
  {
   "cell_type": "markdown",
   "metadata": {},
   "source": [
    "### NAME_CONTRACT_TYPE\n",
    "Identification if loan is cash or revolving. <br>\n",
    "Categorial."
   ]
  },
  {
   "cell_type": "code",
   "execution_count": 6,
   "metadata": {},
   "outputs": [
    {
     "name": "stdout",
     "output_type": "stream",
     "text": [
      "Rows with missing values in NAME_CONTRACT_TYPE: 0\n"
     ]
    }
   ],
   "source": [
    "# Checking for missing values\n",
    "print(\"Rows with missing values in NAME_CONTRACT_TYPE: {}\".format(\n",
    "    processed_app_train[processed_app_train.NAME_CONTRACT_TYPE.isnull()].shape[0]))"
   ]
  },
  {
   "cell_type": "code",
   "execution_count": 7,
   "metadata": {},
   "outputs": [
    {
     "name": "stdout",
     "output_type": "stream",
     "text": [
      "Values for NAME_CONTRACT_TYPE:  ['Cash loans' 'Revolving loans']\n"
     ]
    }
   ],
   "source": [
    "# List values\n",
    "print(\"Values for NAME_CONTRACT_TYPE: \", processed_app_train['NAME_CONTRACT_TYPE'].unique())"
   ]
  },
  {
   "cell_type": "code",
   "execution_count": 8,
   "metadata": {},
   "outputs": [],
   "source": [
    "# One hot encoding\n",
    "one_hot_encoding = pd.get_dummies(processed_app_train['NAME_CONTRACT_TYPE'], prefix='CTYPE', prefix_sep='_')\n",
    "processed_app_train = processed_app_train.drop('NAME_CONTRACT_TYPE',axis = 1)\n",
    "processed_app_train = pd.concat([processed_app_train, one_hot_encoding], axis=1)\n",
    "processed_app_train.columns = processed_app_train.columns.str.strip().str.upper().str.replace(' ', '_')"
   ]
  },
  {
   "cell_type": "markdown",
   "metadata": {},
   "source": [
    "### CODE_GENDER\n",
    "Gender of the client. <br>\n",
    "Categorial."
   ]
  },
  {
   "cell_type": "code",
   "execution_count": 9,
   "metadata": {
    "scrolled": true
   },
   "outputs": [
    {
     "name": "stdout",
     "output_type": "stream",
     "text": [
      "Rows with missing values in CODE_GENDER: 0\n"
     ]
    }
   ],
   "source": [
    "# Checking for missing values\n",
    "print(\"Rows with missing values in CODE_GENDER: {}\".format(\n",
    "    processed_app_train[processed_app_train.CODE_GENDER.isnull()].shape[0]))"
   ]
  },
  {
   "cell_type": "code",
   "execution_count": 10,
   "metadata": {},
   "outputs": [
    {
     "name": "stdout",
     "output_type": "stream",
     "text": [
      "Values for CODE_GENDER:  ['M' 'F' 'XNA']\n"
     ]
    }
   ],
   "source": [
    "# List values\n",
    "print(\"Values for CODE_GENDER: \", processed_app_train['CODE_GENDER'].unique())"
   ]
  },
  {
   "cell_type": "code",
   "execution_count": 11,
   "metadata": {},
   "outputs": [],
   "source": [
    "# One hot encoding\n",
    "one_hot_encoding = pd.get_dummies(processed_app_train['CODE_GENDER'], prefix='GEND', prefix_sep='_')\n",
    "processed_app_train = processed_app_train.drop('CODE_GENDER',axis = 1)\n",
    "processed_app_train = pd.concat([processed_app_train, one_hot_encoding], axis=1)\n",
    "processed_app_train.columns = processed_app_train.columns.str.strip().str.upper().str.replace(' ', '_')"
   ]
  },
  {
   "cell_type": "markdown",
   "metadata": {},
   "source": [
    "### FLAG_OWN_CAR\n",
    "Flag if the client owns a car. <br>\n",
    "Categorial."
   ]
  },
  {
   "cell_type": "code",
   "execution_count": 12,
   "metadata": {},
   "outputs": [
    {
     "name": "stdout",
     "output_type": "stream",
     "text": [
      "Rows with missing values in FLAG_OWN_CAR: 0\n"
     ]
    }
   ],
   "source": [
    "# Checking for missing values\n",
    "print(\"Rows with missing values in FLAG_OWN_CAR: {}\".format(\n",
    "    processed_app_train[processed_app_train.FLAG_OWN_CAR.isnull()].shape[0]))"
   ]
  },
  {
   "cell_type": "code",
   "execution_count": 13,
   "metadata": {},
   "outputs": [
    {
     "name": "stdout",
     "output_type": "stream",
     "text": [
      "Values for FLAG_OWN_CAR:  ['N' 'Y']\n"
     ]
    }
   ],
   "source": [
    "# List values\n",
    "print(\"Values for FLAG_OWN_CAR: \", processed_app_train['FLAG_OWN_CAR'].unique())"
   ]
  },
  {
   "cell_type": "code",
   "execution_count": 14,
   "metadata": {},
   "outputs": [],
   "source": [
    "# Value replacing (Y->1 and N->0)\n",
    "processed_app_train['FLAG_OWN_CAR'] = processed_app_train['FLAG_OWN_CAR'].replace('Y', 1)\n",
    "processed_app_train['FLAG_OWN_CAR'] = processed_app_train['FLAG_OWN_CAR'].replace('N', 0)"
   ]
  },
  {
   "cell_type": "markdown",
   "metadata": {},
   "source": [
    "### FLAG_OWN_REALTY\n",
    "Flag if client owns a house or flat. <br>\n",
    "Categorial."
   ]
  },
  {
   "cell_type": "code",
   "execution_count": 15,
   "metadata": {},
   "outputs": [
    {
     "name": "stdout",
     "output_type": "stream",
     "text": [
      "Rows with missing values in FLAG_OWN_REALTY: 0\n"
     ]
    }
   ],
   "source": [
    "# Checking for missing values\n",
    "print(\"Rows with missing values in FLAG_OWN_REALTY: {}\".format(\n",
    "    processed_app_train[processed_app_train.FLAG_OWN_REALTY.isnull()].shape[0]))"
   ]
  },
  {
   "cell_type": "code",
   "execution_count": 16,
   "metadata": {},
   "outputs": [
    {
     "name": "stdout",
     "output_type": "stream",
     "text": [
      "Values for FLAG_OWN_REALTY:  ['Y' 'N']\n"
     ]
    }
   ],
   "source": [
    "# List values\n",
    "print(\"Values for FLAG_OWN_REALTY: \", processed_app_train['FLAG_OWN_REALTY'].unique()) "
   ]
  },
  {
   "cell_type": "code",
   "execution_count": 17,
   "metadata": {},
   "outputs": [],
   "source": [
    "# Value replacement (Y->1 and N->0)\n",
    "processed_app_train['FLAG_OWN_REALTY'] = processed_app_train['FLAG_OWN_REALTY'].replace('Y', 1)\n",
    "processed_app_train['FLAG_OWN_REALTY'] = processed_app_train['FLAG_OWN_REALTY'].replace('N', 0)"
   ]
  },
  {
   "cell_type": "markdown",
   "metadata": {},
   "source": [
    "### CNT_CHILDREN\n",
    "Number of children the client has."
   ]
  },
  {
   "cell_type": "code",
   "execution_count": 18,
   "metadata": {},
   "outputs": [
    {
     "name": "stdout",
     "output_type": "stream",
     "text": [
      "Rows with missing values in CNT_CHILDREN: 0\n"
     ]
    }
   ],
   "source": [
    "# Checking for missing values\n",
    "print(\"Rows with missing values in CNT_CHILDREN: {}\".format(\n",
    "    processed_app_train[processed_app_train.CNT_CHILDREN.isnull()].shape[0]))"
   ]
  },
  {
   "cell_type": "code",
   "execution_count": 19,
   "metadata": {},
   "outputs": [
    {
     "data": {
      "text/plain": [
       "<matplotlib.axes._subplots.AxesSubplot at 0x23c0475d1d0>"
      ]
     },
     "execution_count": 19,
     "metadata": {},
     "output_type": "execute_result"
    },
    {
     "data": {
      "image/png": "[encoded data removed]",
      "text/plain": [
       "<Figure size 432x288 with 1 Axes>"
      ]
     },
     "metadata": {
      "needs_background": "light"
     },
     "output_type": "display_data"
    }
   ],
   "source": [
    "# Check the data distribution\n",
    "processed_app_train['CNT_CHILDREN'].hist(bins=30)"
   ]
  },
  {
   "cell_type": "code",
   "execution_count": 20,
   "metadata": {},
   "outputs": [],
   "source": [
    "# Feature scaling (min-max normalization)\n",
    "processed_app_train['CNT_CHILDREN'] = ((processed_app_train['CNT_CHILDREN'] -\n",
    "                                        processed_app_train['CNT_CHILDREN'].min())/\n",
    "                                       (processed_app_train['CNT_CHILDREN'].max() - \n",
    "                                        processed_app_train['CNT_CHILDREN'].min()))"
   ]
  },
  {
   "cell_type": "markdown",
   "metadata": {},
   "source": [
    "### AMT_INCOME_TOTAL\n",
    "Income of the client."
   ]
  },
  {
   "cell_type": "code",
   "execution_count": 21,
   "metadata": {},
   "outputs": [
    {
     "name": "stdout",
     "output_type": "stream",
     "text": [
      "Rows with missing values in AMT_INCOME_TOTAL: 0\n"
     ]
    }
   ],
   "source": [
    "# Checking for missing values\n",
    "print(\"Rows with missing values in AMT_INCOME_TOTAL: {}\".format(\n",
    "    processed_app_train[processed_app_train.AMT_INCOME_TOTAL.isnull()].shape[0]))"
   ]
  },
  {
   "cell_type": "code",
   "execution_count": 22,
   "metadata": {},
   "outputs": [
    {
     "data": {
      "text/plain": [
       "<matplotlib.axes._subplots.AxesSubplot at 0x23c04a8c5f8>"
      ]
     },
     "execution_count": 22,
     "metadata": {},
     "output_type": "execute_result"
    },
    {
     "data": {
      "image/png": "[encoded data removed]",
      "text/plain": [
       "<Figure size 432x288 with 1 Axes>"
      ]
     },
     "metadata": {
      "needs_background": "light"
     },
     "output_type": "display_data"
    }
   ],
   "source": [
    "# Check the data distribution\n",
    "processed_app_train['AMT_INCOME_TOTAL'].hist(bins=30)"
   ]
  },
  {
   "cell_type": "code",
   "execution_count": 23,
   "metadata": {},
   "outputs": [
    {
     "name": "stdout",
     "output_type": "stream",
     "text": [
      "Skewness: 391.5596541041876\n"
     ]
    }
   ],
   "source": [
    "# Data seems to be skewed\n",
    "print(\"Skewness: {}\".format(processed_app_train['AMT_INCOME_TOTAL'].skew()))"
   ]
  },
  {
   "cell_type": "code",
   "execution_count": 24,
   "metadata": {},
   "outputs": [
    {
     "data": {
      "text/plain": [
       "<matplotlib.axes._subplots.AxesSubplot at 0x23c04b77dd8>"
      ]
     },
     "execution_count": 24,
     "metadata": {},
     "output_type": "execute_result"
    },
    {
     "data": {
      "image/png": "[encoded data removed]",
      "text/plain": [
       "<Figure size 432x288 with 1 Axes>"
      ]
     },
     "metadata": {
      "needs_background": "light"
     },
     "output_type": "display_data"
    }
   ],
   "source": [
    "# Data skewed: try to apply log\n",
    "processed_app_train['AMT_INCOME_TOTAL'].apply(np.log).hist(bins=30)"
   ]
  },
  {
   "cell_type": "code",
   "execution_count": 25,
   "metadata": {},
   "outputs": [],
   "source": [
    "# Apply log\n",
    "processed_app_train['AMT_INCOME_TOTAL'] = np.log(processed_app_train.AMT_INCOME_TOTAL)"
   ]
  },
  {
   "cell_type": "code",
   "execution_count": 26,
   "metadata": {},
   "outputs": [],
   "source": [
    "# Feature scaling (min-max normalization)\n",
    "processed_app_train['AMT_INCOME_TOTAL'] = ((processed_app_train['AMT_INCOME_TOTAL'] -\n",
    "                                            processed_app_train['AMT_INCOME_TOTAL'].min())/\n",
    "                                           (processed_app_train['AMT_INCOME_TOTAL'].max() - \n",
    "                                            processed_app_train['AMT_INCOME_TOTAL'].min()))"
   ]
  },
  {
   "cell_type": "code",
   "execution_count": 27,
   "metadata": {},
   "outputs": [],
   "source": [
    "processed_app_train['AMT_INCOME_TOTAL'] = processed_app_train['AMT_INCOME_TOTAL'].replace(0, 0.0001)"
   ]
  },
  {
   "cell_type": "markdown",
   "metadata": {},
   "source": [
    "### AMT_CREDIT\n",
    "Credit amount of the loan."
   ]
  },
  {
   "cell_type": "code",
   "execution_count": 28,
   "metadata": {},
   "outputs": [
    {
     "name": "stdout",
     "output_type": "stream",
     "text": [
      "Rows with missing values in AMT_CREDIT: 0\n"
     ]
    }
   ],
   "source": [
    "# Checking for missing values\n",
    "print(\"Rows with missing values in AMT_CREDIT: {}\".format(\n",
    "    processed_app_train[processed_app_train.AMT_CREDIT.isnull()].shape[0]))"
   ]
  },
  {
   "cell_type": "code",
   "execution_count": 29,
   "metadata": {},
   "outputs": [
    {
     "data": {
      "text/plain": [
       "<matplotlib.axes._subplots.AxesSubplot at 0x23c04db1e48>"
      ]
     },
     "execution_count": 29,
     "metadata": {},
     "output_type": "execute_result"
    },
    {
     "data": {
      "image/png": "[encoded data removed]",
      "text/plain": [
       "<Figure size 432x288 with 1 Axes>"
      ]
     },
     "metadata": {
      "needs_background": "light"
     },
     "output_type": "display_data"
    }
   ],
   "source": [
    "# Check the data distribution\n",
    "processed_app_train['AMT_CREDIT'].hist(bins=30)"
   ]
  },
  {
   "cell_type": "code",
   "execution_count": 30,
   "metadata": {},
   "outputs": [
    {
     "name": "stdout",
     "output_type": "stream",
     "text": [
      "Skewness: 1.2347784971349398\n"
     ]
    }
   ],
   "source": [
    "# Data seems to be skewed\n",
    "print(\"Skewness: {}\".format(processed_app_train['AMT_CREDIT'].skew()))"
   ]
  },
  {
   "cell_type": "code",
   "execution_count": 31,
   "metadata": {},
   "outputs": [
    {
     "data": {
      "text/plain": [
       "<matplotlib.axes._subplots.AxesSubplot at 0x23c04b70b00>"
      ]
     },
     "execution_count": 31,
     "metadata": {},
     "output_type": "execute_result"
    },
    {
     "data": {
      "image/png": "[encoded data removed]",
      "text/plain": [
       "<Figure size 432x288 with 1 Axes>"
      ]
     },
     "metadata": {
      "needs_background": "light"
     },
     "output_type": "display_data"
    }
   ],
   "source": [
    "# Data skewed: try to apply log\n",
    "processed_app_train['AMT_CREDIT'].apply(np.log).hist(bins=30)"
   ]
  },
  {
   "cell_type": "code",
   "execution_count": 32,
   "metadata": {},
   "outputs": [],
   "source": [
    "# Apply log\n",
    "processed_app_train['AMT_CREDIT'] = np.log(processed_app_train.AMT_CREDIT)"
   ]
  },
  {
   "cell_type": "code",
   "execution_count": 33,
   "metadata": {},
   "outputs": [],
   "source": [
    "# Feature scaling (min-max normalization)\n",
    "processed_app_train['AMT_CREDIT'] = ((processed_app_train['AMT_CREDIT'] -\n",
    "                                      processed_app_train['AMT_CREDIT'].min())/\n",
    "                                     (processed_app_train['AMT_CREDIT'].max() - \n",
    "                                      processed_app_train['AMT_CREDIT'].min()))"
   ]
  },
  {
   "cell_type": "markdown",
   "metadata": {},
   "source": [
    "### AMT_ANNUITY\n",
    "Loan annuity."
   ]
  },
  {
   "cell_type": "code",
   "execution_count": 34,
   "metadata": {},
   "outputs": [
    {
     "name": "stdout",
     "output_type": "stream",
     "text": [
      "Rows with missing values in AMT_ANNUITY: 12\n"
     ]
    }
   ],
   "source": [
    "# Checking for missing values\n",
    "print(\"Rows with missing values in AMT_ANNUITY: {}\".format(\n",
    "    processed_app_train[processed_app_train.AMT_ANNUITY.isnull()].shape[0]))"
   ]
  },
  {
   "cell_type": "code",
   "execution_count": 35,
   "metadata": {},
   "outputs": [],
   "source": [
    "# Few rows with nulls -> delete rows\n",
    "processed_app_train = processed_app_train[processed_app_train.AMT_ANNUITY.notnull()]"
   ]
  },
  {
   "cell_type": "code",
   "execution_count": 36,
   "metadata": {},
   "outputs": [
    {
     "data": {
      "text/plain": [
       "<matplotlib.axes._subplots.AxesSubplot at 0x23c07acff28>"
      ]
     },
     "execution_count": 36,
     "metadata": {},
     "output_type": "execute_result"
    },
    {
     "data": {
      "image/png": "[encoded data removed]",
      "text/plain": [
       "<Figure size 432x288 with 1 Axes>"
      ]
     },
     "metadata": {
      "needs_background": "light"
     },
     "output_type": "display_data"
    }
   ],
   "source": [
    "# Check the data distribution\n",
    "processed_app_train['AMT_ANNUITY'].hist(bins=30)"
   ]
  },
  {
   "cell_type": "code",
   "execution_count": 37,
   "metadata": {},
   "outputs": [
    {
     "name": "stdout",
     "output_type": "stream",
     "text": [
      "Skewness: 1.5797773638612504\n"
     ]
    }
   ],
   "source": [
    "# Data seems to be skewed\n",
    "print(\"Skewness: {}\".format(processed_app_train['AMT_ANNUITY'].skew()))"
   ]
  },
  {
   "cell_type": "code",
   "execution_count": 38,
   "metadata": {},
   "outputs": [
    {
     "data": {
      "text/plain": [
       "<matplotlib.axes._subplots.AxesSubplot at 0x23c07771898>"
      ]
     },
     "execution_count": 38,
     "metadata": {},
     "output_type": "execute_result"
    },
    {
     "data": {
      "image/png": "[encoded data removed]",
      "text/plain": [
       "<Figure size 432x288 with 1 Axes>"
      ]
     },
     "metadata": {
      "needs_background": "light"
     },
     "output_type": "display_data"
    }
   ],
   "source": [
    "# Data skewed: try to apply log\n",
    "processed_app_train['AMT_ANNUITY'].apply(np.log).hist(bins=30)"
   ]
  },
  {
   "cell_type": "code",
   "execution_count": 39,
   "metadata": {},
   "outputs": [],
   "source": [
    "# Apply log\n",
    "processed_app_train['AMT_ANNUITY'] = np.log(processed_app_train.AMT_ANNUITY)"
   ]
  },
  {
   "cell_type": "code",
   "execution_count": 40,
   "metadata": {},
   "outputs": [],
   "source": [
    "# Feature scaling (min-max normalization)\n",
    "processed_app_train['AMT_ANNUITY'] = ((processed_app_train['AMT_ANNUITY'] -\n",
    "                                      processed_app_train['AMT_ANNUITY'].min())/\n",
    "                                     (processed_app_train['AMT_ANNUITY'].max() - \n",
    "                                      processed_app_train['AMT_ANNUITY'].min()))"
   ]
  },
  {
   "cell_type": "markdown",
   "metadata": {},
   "source": [
    "### AMT_GOODS_PRICE\n",
    "For consumer loans it is the price of the goods for which the loan is given."
   ]
  },
  {
   "cell_type": "code",
   "execution_count": 41,
   "metadata": {},
   "outputs": [
    {
     "name": "stdout",
     "output_type": "stream",
     "text": [
      "Rows with missing values in AMT_GOODS_PRICE: 278\n"
     ]
    }
   ],
   "source": [
    "# Checking for missing values\n",
    "print(\"Rows with missing values in AMT_GOODS_PRICE: {}\".format(\n",
    "    processed_app_train[processed_app_train.AMT_GOODS_PRICE.isnull()].shape[0]))\n"
   ]
  },
  {
   "cell_type": "code",
   "execution_count": 42,
   "metadata": {},
   "outputs": [],
   "source": [
    "# Few rows with nulls -> delete rows\n",
    "processed_app_train = processed_app_train[processed_app_train.AMT_GOODS_PRICE.notnull()]"
   ]
  },
  {
   "cell_type": "code",
   "execution_count": 43,
   "metadata": {},
   "outputs": [
    {
     "data": {
      "text/plain": [
       "<matplotlib.axes._subplots.AxesSubplot at 0x23c04aacb70>"
      ]
     },
     "execution_count": 43,
     "metadata": {},
     "output_type": "execute_result"
    },
    {
     "data": {
      "image/png": "[encoded data removed]",
      "text/plain": [
       "<Figure size 432x288 with 1 Axes>"
      ]
     },
     "metadata": {
      "needs_background": "light"
     },
     "output_type": "display_data"
    }
   ],
   "source": [
    "# Check the data distribution\n",
    "processed_app_train['AMT_GOODS_PRICE'].hist(bins=30)"
   ]
  },
  {
   "cell_type": "code",
   "execution_count": 44,
   "metadata": {},
   "outputs": [
    {
     "name": "stdout",
     "output_type": "stream",
     "text": [
      "Skewness: 1.3489957352316093\n"
     ]
    }
   ],
   "source": [
    "# Data seems to be skewed\n",
    "print(\"Skewness: {}\".format(processed_app_train['AMT_GOODS_PRICE'].skew()))"
   ]
  },
  {
   "cell_type": "code",
   "execution_count": 45,
   "metadata": {},
   "outputs": [
    {
     "data": {
      "text/plain": [
       "<matplotlib.axes._subplots.AxesSubplot at 0x23c0765b4e0>"
      ]
     },
     "execution_count": 45,
     "metadata": {},
     "output_type": "execute_result"
    },
    {
     "data": {
      "image/png": "[encoded data removed]",
      "text/plain": [
       "<Figure size 432x288 with 1 Axes>"
      ]
     },
     "metadata": {
      "needs_background": "light"
     },
     "output_type": "display_data"
    }
   ],
   "source": [
    "# Data skewed: try to apply log\n",
    "processed_app_train['AMT_GOODS_PRICE'].apply(np.log).hist(bins=30)"
   ]
  },
  {
   "cell_type": "code",
   "execution_count": 46,
   "metadata": {},
   "outputs": [],
   "source": [
    "# Apply log\n",
    "processed_app_train['AMT_GOODS_PRICE'] = np.log(processed_app_train.AMT_GOODS_PRICE)"
   ]
  },
  {
   "cell_type": "code",
   "execution_count": 47,
   "metadata": {},
   "outputs": [],
   "source": [
    "# Feature scaling (min-max normalization)\n",
    "processed_app_train['AMT_GOODS_PRICE'] = ((processed_app_train['AMT_GOODS_PRICE'] -\n",
    "                                      processed_app_train['AMT_GOODS_PRICE'].min())/\n",
    "                                     (processed_app_train['AMT_GOODS_PRICE'].max() - \n",
    "                                      processed_app_train['AMT_GOODS_PRICE'].min()))\n",
    "\n"
   ]
  },
  {
   "cell_type": "markdown",
   "metadata": {},
   "source": [
    "### NAME_TYPE_SUITE\n",
    "Who was accompanying client when he was applying for the loan. <br>\n",
    "Categorical."
   ]
  },
  {
   "cell_type": "code",
   "execution_count": 48,
   "metadata": {},
   "outputs": [
    {
     "name": "stdout",
     "output_type": "stream",
     "text": [
      "Rows with missing values in NAME_TYPE_SUITE: 1014\n"
     ]
    }
   ],
   "source": [
    "# Checking for missing values\n",
    "print(\"Rows with missing values in NAME_TYPE_SUITE: {}\".format(\n",
    "    processed_app_train[processed_app_train.NAME_TYPE_SUITE.isnull()].shape[0]))"
   ]
  },
  {
   "cell_type": "code",
   "execution_count": 49,
   "metadata": {},
   "outputs": [
    {
     "name": "stdout",
     "output_type": "stream",
     "text": [
      "Values for NAME_TYPE_SUITE:  ['Unaccompanied' 'Family' 'Spouse, partner' 'Children' 'Other_A' nan\n",
      " 'Other_B' 'Group of people']\n"
     ]
    }
   ],
   "source": [
    "# List values\n",
    "print(\"Values for NAME_TYPE_SUITE: \", processed_app_train['NAME_TYPE_SUITE'].unique())"
   ]
  },
  {
   "cell_type": "code",
   "execution_count": 50,
   "metadata": {},
   "outputs": [],
   "source": [
    "# Preparing data for One Hot Encoding\n",
    "processed_app_train['NAME_TYPE_SUITE'].fillna(value='Other', inplace=True)"
   ]
  },
  {
   "cell_type": "code",
   "execution_count": 51,
   "metadata": {},
   "outputs": [],
   "source": [
    "# One hot encoding\n",
    "one_hot_encoding = pd.get_dummies(processed_app_train['NAME_TYPE_SUITE'], prefix='NTS', prefix_sep='_')\n",
    "processed_app_train = processed_app_train.drop('NAME_TYPE_SUITE',axis = 1)\n",
    "processed_app_train = pd.concat([processed_app_train, one_hot_encoding], axis=1)\n",
    "processed_app_train.columns = processed_app_train.columns.str.strip().str.upper().str.replace(' ', '_')"
   ]
  },
  {
   "cell_type": "markdown",
   "metadata": {},
   "source": [
    "### NAME_INCOME_TYPE\n",
    "Clients income type (businessman, working, maternity leave,…).<br>\n",
    "Categorical."
   ]
  },
  {
   "cell_type": "code",
   "execution_count": 52,
   "metadata": {},
   "outputs": [
    {
     "name": "stdout",
     "output_type": "stream",
     "text": [
      "Rows with missing values in NAME_INCOME_TYPE: 0\n"
     ]
    }
   ],
   "source": [
    "# Checking for missing values\n",
    "print(\"Rows with missing values in NAME_INCOME_TYPE: {}\".format(\n",
    "    processed_app_train[processed_app_train.NAME_INCOME_TYPE.isnull()].shape[0]))"
   ]
  },
  {
   "cell_type": "code",
   "execution_count": 53,
   "metadata": {},
   "outputs": [
    {
     "name": "stdout",
     "output_type": "stream",
     "text": [
      "Values for NAME_INCOME_TYPE:  ['Working' 'State servant' 'Commercial associate' 'Pensioner' 'Unemployed'\n",
      " 'Student' 'Businessman' 'Maternity leave']\n"
     ]
    }
   ],
   "source": [
    "# List values\n",
    "print(\"Values for NAME_INCOME_TYPE: \", processed_app_train['NAME_INCOME_TYPE'].unique())\n"
   ]
  },
  {
   "cell_type": "code",
   "execution_count": 54,
   "metadata": {},
   "outputs": [],
   "source": [
    "# One hot encoding\n",
    "one_hot_encoding = pd.get_dummies(processed_app_train['NAME_INCOME_TYPE'], prefix='INCTYP', prefix_sep='_')\n",
    "processed_app_train = processed_app_train.drop('NAME_INCOME_TYPE',axis = 1)\n",
    "processed_app_train = pd.concat([processed_app_train, one_hot_encoding], axis=1)\n",
    "processed_app_train.columns = processed_app_train.columns.str.strip().str.upper().str.replace(' ', '_')"
   ]
  },
  {
   "cell_type": "markdown",
   "metadata": {},
   "source": [
    "### NAME_EDUCATION_TYPE\n",
    "Level of highest education the client achieved. <br>\n",
    "Categorical."
   ]
  },
  {
   "cell_type": "code",
   "execution_count": 55,
   "metadata": {},
   "outputs": [
    {
     "name": "stdout",
     "output_type": "stream",
     "text": [
      "Rows with missing values in NAME_EDUCATION_TYPE: 0\n"
     ]
    }
   ],
   "source": [
    "# Checking for missing values\n",
    "print(\"Rows with missing values in NAME_EDUCATION_TYPE: {}\".format(\n",
    "    processed_app_train[processed_app_train.NAME_EDUCATION_TYPE.isnull()].shape[0]))"
   ]
  },
  {
   "cell_type": "code",
   "execution_count": 56,
   "metadata": {},
   "outputs": [
    {
     "name": "stdout",
     "output_type": "stream",
     "text": [
      "Values for NAME_EDUCATION_TYPE:  ['Secondary / secondary special' 'Higher education' 'Incomplete higher'\n",
      " 'Lower secondary' 'Academic degree']\n"
     ]
    }
   ],
   "source": [
    "# List values\n",
    "print(\"Values for NAME_EDUCATION_TYPE: \", processed_app_train['NAME_EDUCATION_TYPE'].unique())"
   ]
  },
  {
   "cell_type": "code",
   "execution_count": 57,
   "metadata": {},
   "outputs": [],
   "source": [
    "# Preparing data for One Hot Encoding\n",
    "processed_app_train['NAME_EDUCATION_TYPE'] = processed_app_train['NAME_EDUCATION_TYPE'].replace(\n",
    "    'Secondary / secondary special', 'Secondary special')"
   ]
  },
  {
   "cell_type": "code",
   "execution_count": 58,
   "metadata": {},
   "outputs": [],
   "source": [
    "# One hot encoding\n",
    "one_hot_encoding = pd.get_dummies(processed_app_train['NAME_EDUCATION_TYPE'], prefix='EDU', prefix_sep='_')\n",
    "processed_app_train = processed_app_train.drop('NAME_EDUCATION_TYPE',axis = 1)\n",
    "processed_app_train = pd.concat([processed_app_train, one_hot_encoding], axis=1)\n",
    "processed_app_train.columns = processed_app_train.columns.str.strip().str.upper().str.replace(' ', '_')"
   ]
  },
  {
   "cell_type": "markdown",
   "metadata": {},
   "source": [
    "### NAME_FAMILY_STATUS\n",
    "Family status of the client. <br>\n",
    "Categorical."
   ]
  },
  {
   "cell_type": "code",
   "execution_count": 59,
   "metadata": {},
   "outputs": [
    {
     "name": "stdout",
     "output_type": "stream",
     "text": [
      "Rows with missing values in NAME_FAMILY_STATUS: 0\n"
     ]
    }
   ],
   "source": [
    "# Checking for missing values\n",
    "print(\"Rows with missing values in NAME_FAMILY_STATUS: {}\".format(\n",
    "    processed_app_train[processed_app_train.NAME_FAMILY_STATUS.isnull()].shape[0]))"
   ]
  },
  {
   "cell_type": "code",
   "execution_count": 60,
   "metadata": {},
   "outputs": [
    {
     "name": "stdout",
     "output_type": "stream",
     "text": [
      "Values for NAME_FAMILY_STATUS:  ['Single / not married' 'Married' 'Civil marriage' 'Widow' 'Separated']\n"
     ]
    }
   ],
   "source": [
    "# List values\n",
    "print(\"Values for NAME_FAMILY_STATUS: \", processed_app_train['NAME_FAMILY_STATUS'].unique())"
   ]
  },
  {
   "cell_type": "code",
   "execution_count": 61,
   "metadata": {},
   "outputs": [],
   "source": [
    "# Preparing data for One Hot Encoding\n",
    "processed_app_train['NAME_FAMILY_STATUS'] = processed_app_train['NAME_FAMILY_STATUS'].replace(\n",
    "    'Single / not married', 'Single')"
   ]
  },
  {
   "cell_type": "code",
   "execution_count": 62,
   "metadata": {},
   "outputs": [],
   "source": [
    "# One hot encoding\n",
    "one_hot_encoding = pd.get_dummies(processed_app_train['NAME_FAMILY_STATUS'], prefix='FAM', prefix_sep='_')\n",
    "processed_app_train = processed_app_train.drop('NAME_FAMILY_STATUS',axis = 1)\n",
    "processed_app_train = pd.concat([processed_app_train, one_hot_encoding], axis=1)\n",
    "processed_app_train.columns = processed_app_train.columns.str.strip().str.upper().str.replace(' ', '_')"
   ]
  },
  {
   "cell_type": "markdown",
   "metadata": {},
   "source": [
    "### NAME_HOUSING_TYPE\n",
    "What is the housing situation of the client (renting, living with parents, ...). <br>\n",
    "Categorical."
   ]
  },
  {
   "cell_type": "code",
   "execution_count": 63,
   "metadata": {},
   "outputs": [
    {
     "name": "stdout",
     "output_type": "stream",
     "text": [
      "Rows with missing values in NAME_HOUSING_TYPE: 0\n"
     ]
    }
   ],
   "source": [
    "# Checking for missing values\n",
    "print(\"Rows with missing values in NAME_HOUSING_TYPE: {}\".format(\n",
    "    processed_app_train[processed_app_train.NAME_HOUSING_TYPE.isnull()].shape[0]))"
   ]
  },
  {
   "cell_type": "code",
   "execution_count": 64,
   "metadata": {},
   "outputs": [
    {
     "name": "stdout",
     "output_type": "stream",
     "text": [
      "Values for NAME_HOUSING_TYPE:  ['House / apartment' 'Rented apartment' 'With parents'\n",
      " 'Municipal apartment' 'Office apartment' 'Co-op apartment']\n"
     ]
    }
   ],
   "source": [
    "# List values\n",
    "print(\"Values for NAME_HOUSING_TYPE: \", processed_app_train['NAME_HOUSING_TYPE'].unique())"
   ]
  },
  {
   "cell_type": "code",
   "execution_count": 65,
   "metadata": {},
   "outputs": [],
   "source": [
    "# Preparing data for One Hot Encoding\n",
    "processed_app_train['NAME_HOUSING_TYPE'] = processed_app_train['NAME_HOUSING_TYPE'].replace(\n",
    "    'House / apartment', 'House')"
   ]
  },
  {
   "cell_type": "code",
   "execution_count": 66,
   "metadata": {},
   "outputs": [],
   "source": [
    "# One hot encoding\n",
    "one_hot_encoding = pd.get_dummies(processed_app_train['NAME_HOUSING_TYPE'], prefix='HOUST', prefix_sep='_')\n",
    "processed_app_train = processed_app_train.drop('NAME_HOUSING_TYPE',axis = 1)\n",
    "processed_app_train = pd.concat([processed_app_train, one_hot_encoding], axis=1)\n",
    "processed_app_train.columns = processed_app_train.columns.str.strip().str.upper().str.replace(' ', '_')"
   ]
  },
  {
   "cell_type": "markdown",
   "metadata": {},
   "source": [
    "### REGION_POPULATION_RELATIVE\n",
    "Normalized population of region where client lives (higher number means the client lives in more populated region).\n"
   ]
  },
  {
   "cell_type": "code",
   "execution_count": 67,
   "metadata": {},
   "outputs": [
    {
     "name": "stdout",
     "output_type": "stream",
     "text": [
      "Rows with missing values in REGION_POPULATION_RELATIVE: 0\n"
     ]
    }
   ],
   "source": [
    "# Checking for missing values\n",
    "print(\"Rows with missing values in REGION_POPULATION_RELATIVE: {}\".format(\n",
    "    processed_app_train[processed_app_train.REGION_POPULATION_RELATIVE.isnull()].shape[0]))"
   ]
  },
  {
   "cell_type": "code",
   "execution_count": 68,
   "metadata": {},
   "outputs": [
    {
     "data": {
      "text/plain": [
       "<matplotlib.axes._subplots.AxesSubplot at 0x23c077350f0>"
      ]
     },
     "execution_count": 68,
     "metadata": {},
     "output_type": "execute_result"
    },
    {
     "data": {
      "image/png": "[encoded data removed]",
      "text/plain": [
       "<Figure size 432x288 with 1 Axes>"
      ]
     },
     "metadata": {
      "needs_background": "light"
     },
     "output_type": "display_data"
    }
   ],
   "source": [
    "# Check the data distribution\n",
    "processed_app_train['REGION_POPULATION_RELATIVE'].hist(bins=30)"
   ]
  },
  {
   "cell_type": "code",
   "execution_count": 69,
   "metadata": {},
   "outputs": [],
   "source": [
    "# Feature scaling (min-max normalization)\n",
    "processed_app_train['REGION_POPULATION_RELATIVE'] = ((processed_app_train['REGION_POPULATION_RELATIVE'] -\n",
    "                                      processed_app_train['REGION_POPULATION_RELATIVE'].min())/\n",
    "                                     (processed_app_train['REGION_POPULATION_RELATIVE'].max() - \n",
    "                                      processed_app_train['REGION_POPULATION_RELATIVE'].min()))"
   ]
  },
  {
   "cell_type": "markdown",
   "metadata": {},
   "source": [
    "### DAYS_BIRTH\n",
    "Client's age in days at the time of application."
   ]
  },
  {
   "cell_type": "code",
   "execution_count": 70,
   "metadata": {},
   "outputs": [
    {
     "name": "stdout",
     "output_type": "stream",
     "text": [
      "Rows with missing values in DAYS_BIRTH: 0\n"
     ]
    }
   ],
   "source": [
    "# Checking for missing values\n",
    "print(\"Rows with missing values in DAYS_BIRTH: {}\".format(\n",
    "    processed_app_train[processed_app_train.DAYS_BIRTH.isnull()].shape[0]))"
   ]
  },
  {
   "cell_type": "code",
   "execution_count": 71,
   "metadata": {},
   "outputs": [
    {
     "data": {
      "text/plain": [
       "<matplotlib.axes._subplots.AxesSubplot at 0x23c0797d7f0>"
      ]
     },
     "execution_count": 71,
     "metadata": {},
     "output_type": "execute_result"
    },
    {
     "data": {
      "image/png": "[encoded data removed]",
      "text/plain": [
       "<Figure size 432x288 with 1 Axes>"
      ]
     },
     "metadata": {
      "needs_background": "light"
     },
     "output_type": "display_data"
    }
   ],
   "source": [
    "# Check the data distribution\n",
    "processed_app_train['DAYS_BIRTH'].hist(bins=30)"
   ]
  },
  {
   "cell_type": "code",
   "execution_count": 72,
   "metadata": {},
   "outputs": [],
   "source": [
    "# Feature scaling (min-max normalization)\n",
    "processed_app_train['DAYS_BIRTH'] = ((processed_app_train['DAYS_BIRTH'] -\n",
    "                                      processed_app_train['DAYS_BIRTH'].min())/\n",
    "                                     (processed_app_train['DAYS_BIRTH'].max() - \n",
    "                                      processed_app_train['DAYS_BIRTH'].min()))"
   ]
  },
  {
   "cell_type": "markdown",
   "metadata": {},
   "source": [
    "### DAYS_EMPLOYED\n",
    "How many days before the application the person started current employment."
   ]
  },
  {
   "cell_type": "code",
   "execution_count": 73,
   "metadata": {},
   "outputs": [
    {
     "name": "stdout",
     "output_type": "stream",
     "text": [
      "Rows with missing values in DAYS_EMPLOYED: 0\n"
     ]
    }
   ],
   "source": [
    "# Checking for missing values\n",
    "print(\"Rows with missing values in DAYS_EMPLOYED: {}\".format(\n",
    "    processed_app_train[processed_app_train.DAYS_EMPLOYED.isnull()].shape[0]))"
   ]
  },
  {
   "cell_type": "code",
   "execution_count": 74,
   "metadata": {},
   "outputs": [
    {
     "data": {
      "text/plain": [
       "<matplotlib.axes._subplots.AxesSubplot at 0x23c07a2d080>"
      ]
     },
     "execution_count": 74,
     "metadata": {},
     "output_type": "execute_result"
    },
    {
     "data": {
      "image/png": "[encoded data removed]",
      "text/plain": [
       "<Figure size 432x288 with 1 Axes>"
      ]
     },
     "metadata": {
      "needs_background": "light"
     },
     "output_type": "display_data"
    }
   ],
   "source": [
    "# Check the data distribution\n",
    "processed_app_train['DAYS_EMPLOYED'].hist(bins=30)"
   ]
  },
  {
   "cell_type": "code",
   "execution_count": 75,
   "metadata": {},
   "outputs": [],
   "source": [
    "# Feature scaling (min-max normalization)\n",
    "processed_app_train['DAYS_EMPLOYED'] = ((processed_app_train['DAYS_EMPLOYED'] -\n",
    "                                      processed_app_train['DAYS_EMPLOYED'].min())/\n",
    "                                     (processed_app_train['DAYS_EMPLOYED'].max() - \n",
    "                                      processed_app_train['DAYS_EMPLOYED'].min()))\n"
   ]
  },
  {
   "cell_type": "markdown",
   "metadata": {},
   "source": [
    "### DAYS_REGISTRATION\n",
    "How many days before the application did client change his registration."
   ]
  },
  {
   "cell_type": "code",
   "execution_count": 76,
   "metadata": {},
   "outputs": [
    {
     "name": "stdout",
     "output_type": "stream",
     "text": [
      "Rows with missing values in DAYS_REGISTRATION: 0\n"
     ]
    }
   ],
   "source": [
    "# Checking for missing values\n",
    "print(\"Rows with missing values in DAYS_REGISTRATION: {}\".format(\n",
    "    processed_app_train[processed_app_train.DAYS_REGISTRATION.isnull()].shape[0]))"
   ]
  },
  {
   "cell_type": "code",
   "execution_count": 77,
   "metadata": {},
   "outputs": [
    {
     "data": {
      "text/plain": [
       "<matplotlib.axes._subplots.AxesSubplot at 0x23c07b2d4e0>"
      ]
     },
     "execution_count": 77,
     "metadata": {},
     "output_type": "execute_result"
    },
    {
     "data": {
      "image/png": "[encoded data removed]",
      "text/plain": [
       "<Figure size 432x288 with 1 Axes>"
      ]
     },
     "metadata": {
      "needs_background": "light"
     },
     "output_type": "display_data"
    }
   ],
   "source": [
    "# Check the data distribution\n",
    "processed_app_train['DAYS_REGISTRATION'].hist(bins=30)"
   ]
  },
  {
   "cell_type": "code",
   "execution_count": 78,
   "metadata": {},
   "outputs": [],
   "source": [
    "# Feature scaling (min-max normalization)\n",
    "processed_app_train['DAYS_REGISTRATION'] = ((processed_app_train['DAYS_REGISTRATION'] -\n",
    "                                      processed_app_train['DAYS_REGISTRATION'].min())/\n",
    "                                     (processed_app_train['DAYS_REGISTRATION'].max() - \n",
    "                                      processed_app_train['DAYS_REGISTRATION'].min()))\n"
   ]
  },
  {
   "cell_type": "markdown",
   "metadata": {},
   "source": [
    "### DAYS_ID_PUBLISH\n",
    "How many days before the application did client change the identity document with which he applied for the loan."
   ]
  },
  {
   "cell_type": "code",
   "execution_count": 79,
   "metadata": {},
   "outputs": [
    {
     "name": "stdout",
     "output_type": "stream",
     "text": [
      "Rows with missing values in DAYS_ID_PUBLISH: 0\n"
     ]
    }
   ],
   "source": [
    "# Checking for missing values\n",
    "print(\"Rows with missing values in DAYS_ID_PUBLISH: {}\".format(\n",
    "    processed_app_train[processed_app_train.DAYS_ID_PUBLISH.isnull()].shape[0]))"
   ]
  },
  {
   "cell_type": "code",
   "execution_count": 80,
   "metadata": {},
   "outputs": [
    {
     "data": {
      "text/plain": [
       "<matplotlib.axes._subplots.AxesSubplot at 0x23c079fb2b0>"
      ]
     },
     "execution_count": 80,
     "metadata": {},
     "output_type": "execute_result"
    },
    {
     "data": {
      "image/png": "[encoded data removed]",
      "text/plain": [
       "<Figure size 432x288 with 1 Axes>"
      ]
     },
     "metadata": {
      "needs_background": "light"
     },
     "output_type": "display_data"
    }
   ],
   "source": [
    "# Check the data distribution\n",
    "processed_app_train['DAYS_ID_PUBLISH'].hist(bins=30)"
   ]
  },
  {
   "cell_type": "code",
   "execution_count": 81,
   "metadata": {},
   "outputs": [],
   "source": [
    "# Feature scaling (min-max normalization)\n",
    "processed_app_train['DAYS_ID_PUBLISH'] = ((processed_app_train['DAYS_ID_PUBLISH'] -\n",
    "                                      processed_app_train['DAYS_ID_PUBLISH'].min())/\n",
    "                                     (processed_app_train['DAYS_ID_PUBLISH'].max() - \n",
    "                                      processed_app_train['DAYS_ID_PUBLISH'].min()))"
   ]
  },
  {
   "cell_type": "markdown",
   "metadata": {},
   "source": [
    "### OWN_CAR_AGE\n",
    "Age of client's car."
   ]
  },
  {
   "cell_type": "code",
   "execution_count": 82,
   "metadata": {},
   "outputs": [
    {
     "name": "stdout",
     "output_type": "stream",
     "text": [
      "Rows with missing values in OWN_CAR_AGE: 202642\n"
     ]
    }
   ],
   "source": [
    "# Checking for missing values\n",
    "print(\"Rows with missing values in OWN_CAR_AGE: {}\".format(\n",
    "    processed_app_train[processed_app_train.OWN_CAR_AGE.isnull()].shape[0]))"
   ]
  },
  {
   "cell_type": "code",
   "execution_count": 83,
   "metadata": {},
   "outputs": [
    {
     "data": {
      "text/plain": [
       "<matplotlib.axes._subplots.AxesSubplot at 0x23c19936e48>"
      ]
     },
     "execution_count": 83,
     "metadata": {},
     "output_type": "execute_result"
    },
    {
     "data": {
      "image/png": "[encoded data removed]",
      "text/plain": [
       "<Figure size 432x288 with 1 Axes>"
      ]
     },
     "metadata": {
      "needs_background": "light"
     },
     "output_type": "display_data"
    }
   ],
   "source": [
    "# Check the data distribution\n",
    "processed_app_train['OWN_CAR_AGE'].hist(bins=30)"
   ]
  },
  {
   "cell_type": "markdown",
   "metadata": {},
   "source": [
    "The spike for cars above 60 years may be related to antiques. But after a certain age it is difficult to know if we are talking about an antique (expensive car) or just a really old one (very inexpensive). Cars above 40 years may be considered an antique. So, let's see how many cars are in this class:"
   ]
  },
  {
   "cell_type": "code",
   "execution_count": 84,
   "metadata": {},
   "outputs": [
    {
     "name": "stdout",
     "output_type": "stream",
     "text": [
      "Applicants with car with more then 40 years: 3526\n"
     ]
    }
   ],
   "source": [
    "print(\"Applicants with car with more then 40 years: {}\".format(\n",
    "    processed_app_train[processed_app_train['OWN_CAR_AGE'] > 40].shape[0]))"
   ]
  },
  {
   "cell_type": "code",
   "execution_count": 85,
   "metadata": {},
   "outputs": [],
   "source": [
    "# delete rows with cars above 40 years\n",
    "processed_app_train.drop(processed_app_train[processed_app_train['OWN_CAR_AGE'] > 40].index , inplace=True)"
   ]
  },
  {
   "cell_type": "code",
   "execution_count": 86,
   "metadata": {},
   "outputs": [],
   "source": [
    "# I will fill the missing values of the age with the mean value of the remaing ages\n",
    "processed_app_train['OWN_CAR_AGE'].fillna(value=processed_app_train['OWN_CAR_AGE'].mean(), inplace=True)"
   ]
  },
  {
   "cell_type": "code",
   "execution_count": 87,
   "metadata": {},
   "outputs": [
    {
     "data": {
      "text/plain": [
       "<matplotlib.axes._subplots.AxesSubplot at 0x23c199efe80>"
      ]
     },
     "execution_count": 87,
     "metadata": {},
     "output_type": "execute_result"
    },
    {
     "data": {
      "image/png": "[encoded data removed]",
      "text/plain": [
       "<Figure size 432x288 with 1 Axes>"
      ]
     },
     "metadata": {
      "needs_background": "light"
     },
     "output_type": "display_data"
    }
   ],
   "source": [
    "# Check the data distribution\n",
    "processed_app_train['OWN_CAR_AGE'].hist(bins=30)"
   ]
  },
  {
   "cell_type": "code",
   "execution_count": 88,
   "metadata": {},
   "outputs": [],
   "source": [
    "# Feature scaling (min-max normalization)\n",
    "processed_app_train['OWN_CAR_AGE'] = ((processed_app_train['OWN_CAR_AGE'] -\n",
    "                                      processed_app_train['OWN_CAR_AGE'].min())/\n",
    "                                     (processed_app_train['OWN_CAR_AGE'].max() - \n",
    "                                      processed_app_train['OWN_CAR_AGE'].min()))"
   ]
  },
  {
   "cell_type": "markdown",
   "metadata": {},
   "source": [
    "### FLAG_MOBIL\n",
    "Did client provide mobile phone (1=YES, 0=NO)."
   ]
  },
  {
   "cell_type": "code",
   "execution_count": 89,
   "metadata": {},
   "outputs": [
    {
     "name": "stdout",
     "output_type": "stream",
     "text": [
      "Rows with missing values in FLAG_MOBIL: 0\n"
     ]
    }
   ],
   "source": [
    "# Checking for missing values\n",
    "print(\"Rows with missing values in FLAG_MOBIL: {}\".format(\n",
    "    processed_app_train[processed_app_train.FLAG_MOBIL.isnull()].shape[0]))"
   ]
  },
  {
   "cell_type": "markdown",
   "metadata": {},
   "source": [
    "### FLAG_EMP_PHONE\n",
    "Did client provide work phone (1=YES, 0=NO)."
   ]
  },
  {
   "cell_type": "code",
   "execution_count": 90,
   "metadata": {},
   "outputs": [
    {
     "name": "stdout",
     "output_type": "stream",
     "text": [
      "Rows with missing values in FLAG_EMP_PHONE: 0\n"
     ]
    }
   ],
   "source": [
    "# Checking for missing values\n",
    "print(\"Rows with missing values in FLAG_EMP_PHONE: {}\".format(\n",
    "    processed_app_train[processed_app_train.FLAG_EMP_PHONE.isnull()].shape[0]))"
   ]
  },
  {
   "cell_type": "markdown",
   "metadata": {},
   "source": [
    "### FLAG_WORK_PHONE\n",
    "Did client provide home phone (1=YES, 0=NO)."
   ]
  },
  {
   "cell_type": "code",
   "execution_count": 91,
   "metadata": {},
   "outputs": [
    {
     "name": "stdout",
     "output_type": "stream",
     "text": [
      "Rows with missing values in FLAG_WORK_PHONE: 0\n"
     ]
    }
   ],
   "source": [
    "# Checking for missing values\n",
    "print(\"Rows with missing values in FLAG_WORK_PHONE: {}\".format(\n",
    "    processed_app_train[processed_app_train.FLAG_WORK_PHONE.isnull()].shape[0]))"
   ]
  },
  {
   "cell_type": "markdown",
   "metadata": {},
   "source": [
    "### FLAG_CONT_MOBILE\n",
    "Was mobile phone reachable (1=YES, 0=NO)."
   ]
  },
  {
   "cell_type": "code",
   "execution_count": 92,
   "metadata": {},
   "outputs": [
    {
     "name": "stdout",
     "output_type": "stream",
     "text": [
      "Rows with missing values in FLAG_CONT_MOBILE: 0\n"
     ]
    }
   ],
   "source": [
    "# Checking for missing values\n",
    "print(\"Rows with missing values in FLAG_CONT_MOBILE: {}\".format(\n",
    "    processed_app_train[processed_app_train.FLAG_CONT_MOBILE.isnull()].shape[0]))"
   ]
  },
  {
   "cell_type": "markdown",
   "metadata": {},
   "source": [
    "### FLAG_PHONE\n",
    "Did client provide home phone (1=YES, 0=NO)."
   ]
  },
  {
   "cell_type": "code",
   "execution_count": 93,
   "metadata": {},
   "outputs": [
    {
     "name": "stdout",
     "output_type": "stream",
     "text": [
      "Rows with missing values in FLAG_PHONE: 0\n"
     ]
    }
   ],
   "source": [
    "# Checking for missing values\n",
    "print(\"Rows with missing values in FLAG_PHONE: {}\".format(\n",
    "    processed_app_train[processed_app_train.FLAG_PHONE.isnull()].shape[0]))"
   ]
  },
  {
   "cell_type": "markdown",
   "metadata": {},
   "source": [
    "### FLAG_EMAIL\n",
    "Did client provide email (1=YES, 0=NO)."
   ]
  },
  {
   "cell_type": "code",
   "execution_count": 94,
   "metadata": {},
   "outputs": [
    {
     "name": "stdout",
     "output_type": "stream",
     "text": [
      "Rows with missing values in FLAG_EMAIL: 0\n"
     ]
    }
   ],
   "source": [
    "# Checking for missing values\n",
    "print(\"Rows with missing values in FLAG_EMAIL: {}\".format(\n",
    "    processed_app_train[processed_app_train.FLAG_EMAIL.isnull()].shape[0]))"
   ]
  },
  {
   "cell_type": "markdown",
   "metadata": {},
   "source": [
    "### OCCUPATION_TYPE\n",
    "What kind of occupation does the client have.\n",
    "Categorical."
   ]
  },
  {
   "cell_type": "code",
   "execution_count": 95,
   "metadata": {},
   "outputs": [
    {
     "name": "stdout",
     "output_type": "stream",
     "text": [
      "Rows with missing values in OCCUPATION_TYPE: 95529\n"
     ]
    }
   ],
   "source": [
    "# Checking for missing values\n",
    "print(\"Rows with missing values in OCCUPATION_TYPE: {}\".format(\n",
    "    processed_app_train[processed_app_train.OCCUPATION_TYPE.isnull()].shape[0]))"
   ]
  },
  {
   "cell_type": "code",
   "execution_count": 96,
   "metadata": {},
   "outputs": [
    {
     "name": "stdout",
     "output_type": "stream",
     "text": [
      "Values for OCCUPATION_TYPE:  ['Laborers' 'Core staff' 'Accountants' 'Managers' nan 'Drivers'\n",
      " 'Sales staff' 'Cleaning staff' 'Cooking staff' 'Private service staff'\n",
      " 'Medicine staff' 'Security staff' 'High skill tech staff'\n",
      " 'Waiters/barmen staff' 'Low-skill Laborers' 'Realty agents' 'Secretaries'\n",
      " 'IT staff' 'HR staff']\n"
     ]
    }
   ],
   "source": [
    "# List values\n",
    "print(\"Values for OCCUPATION_TYPE: \", processed_app_train['OCCUPATION_TYPE'].unique())"
   ]
  },
  {
   "cell_type": "code",
   "execution_count": 97,
   "metadata": {},
   "outputs": [],
   "source": [
    "# Preparing data for One Hot Encoding\n",
    "processed_app_train['OCCUPATION_TYPE'].fillna(value='None', inplace=True)\n",
    "processed_app_train['OCCUPATION_TYPE'] = processed_app_train['OCCUPATION_TYPE'].replace(\n",
    "    'Waiters/barmen staff', 'WaitersBarmen')"
   ]
  },
  {
   "cell_type": "code",
   "execution_count": 98,
   "metadata": {},
   "outputs": [],
   "source": [
    "# One hot encoding\n",
    "one_hot_encoding = pd.get_dummies(processed_app_train['OCCUPATION_TYPE'], prefix='OCCT', prefix_sep='_')\n",
    "processed_app_train = processed_app_train.drop('OCCUPATION_TYPE',axis = 1)\n",
    "processed_app_train = pd.concat([processed_app_train, one_hot_encoding], axis=1)\n",
    "processed_app_train.columns = processed_app_train.columns.str.strip().str.upper().str.replace(' ', '_')"
   ]
  },
  {
   "cell_type": "markdown",
   "metadata": {},
   "source": [
    "### CNT_FAM_MEMBERS\n",
    "How many family members does client have."
   ]
  },
  {
   "cell_type": "code",
   "execution_count": 99,
   "metadata": {},
   "outputs": [
    {
     "name": "stdout",
     "output_type": "stream",
     "text": [
      "Rows with missing values in CNT_FAM_MEMBERS: 0\n"
     ]
    }
   ],
   "source": [
    "# Checking for missing values\n",
    "print(\"Rows with missing values in CNT_FAM_MEMBERS: {}\".format(\n",
    "    processed_app_train[processed_app_train.CNT_FAM_MEMBERS.isnull()].shape[0]))"
   ]
  },
  {
   "cell_type": "code",
   "execution_count": 100,
   "metadata": {},
   "outputs": [
    {
     "data": {
      "text/plain": [
       "<matplotlib.axes._subplots.AxesSubplot at 0x23c07725ac8>"
      ]
     },
     "execution_count": 100,
     "metadata": {},
     "output_type": "execute_result"
    },
    {
     "data": {
      "image/png": "[encoded data removed]",
      "text/plain": [
       "<Figure size 432x288 with 1 Axes>"
      ]
     },
     "metadata": {
      "needs_background": "light"
     },
     "output_type": "display_data"
    }
   ],
   "source": [
    "# Check the data distribution\n",
    "processed_app_train['CNT_FAM_MEMBERS'].hist(bins=30)"
   ]
  },
  {
   "cell_type": "code",
   "execution_count": 101,
   "metadata": {},
   "outputs": [],
   "source": [
    "# Feature scaling (min-max normalization)\n",
    "processed_app_train['CNT_FAM_MEMBERS'] = ((processed_app_train['CNT_FAM_MEMBERS'] -\n",
    "                                      processed_app_train['CNT_FAM_MEMBERS'].min())/\n",
    "                                     (processed_app_train['CNT_FAM_MEMBERS'].max() - \n",
    "                                      processed_app_train['CNT_FAM_MEMBERS'].min()))"
   ]
  },
  {
   "cell_type": "markdown",
   "metadata": {},
   "source": [
    "### REGION_RATING_CLIENT\n",
    "Our rating of the region where client lives (1,2,3). <br>\n",
    "Will be treated as categorical."
   ]
  },
  {
   "cell_type": "code",
   "execution_count": 102,
   "metadata": {},
   "outputs": [
    {
     "name": "stdout",
     "output_type": "stream",
     "text": [
      "Rows with missing values in REGION_RATING_CLIENT: 0\n"
     ]
    }
   ],
   "source": [
    "# Checking for missing values\n",
    "print(\"Rows with missing values in REGION_RATING_CLIENT: {}\".format(\n",
    "    processed_app_train[processed_app_train.REGION_RATING_CLIENT.isnull()].shape[0]))"
   ]
  },
  {
   "cell_type": "code",
   "execution_count": 103,
   "metadata": {},
   "outputs": [],
   "source": [
    "# One hot encoding\n",
    "one_hot_encoding = pd.get_dummies(processed_app_train['REGION_RATING_CLIENT'], prefix='REGION', prefix_sep='_')\n",
    "processed_app_train = processed_app_train.drop('REGION_RATING_CLIENT',axis = 1)\n",
    "processed_app_train = pd.concat([processed_app_train, one_hot_encoding], axis=1)\n",
    "processed_app_train.columns = processed_app_train.columns.str.strip().str.upper().str.replace(' ', '_')"
   ]
  },
  {
   "cell_type": "markdown",
   "metadata": {},
   "source": [
    "### REGION_RATING_CLIENT_W_CITY\n",
    "Our rating of the region where client lives with taking city into account (1,2,3). <br>\n",
    "Will be treated as categorical."
   ]
  },
  {
   "cell_type": "code",
   "execution_count": 104,
   "metadata": {},
   "outputs": [
    {
     "name": "stdout",
     "output_type": "stream",
     "text": [
      "Rows with missing values in REGION_RATING_CLIENT_W_CITY: 0\n"
     ]
    }
   ],
   "source": [
    "# Checking for missing values\n",
    "print(\"Rows with missing values in REGION_RATING_CLIENT_W_CITY: {}\".format(\n",
    "    processed_app_train[processed_app_train.REGION_RATING_CLIENT_W_CITY.isnull()].shape[0]))"
   ]
  },
  {
   "cell_type": "code",
   "execution_count": 105,
   "metadata": {},
   "outputs": [],
   "source": [
    "# One hot encoding\n",
    "one_hot_encoding = pd.get_dummies(processed_app_train['REGION_RATING_CLIENT_W_CITY'], \n",
    "                                  prefix='REGIONCTY', prefix_sep='_')\n",
    "processed_app_train = processed_app_train.drop('REGION_RATING_CLIENT_W_CITY',axis = 1)\n",
    "processed_app_train = pd.concat([processed_app_train, one_hot_encoding], axis=1)\n",
    "processed_app_train.columns = processed_app_train.columns.str.strip().str.upper().str.replace(' ', '_')"
   ]
  },
  {
   "cell_type": "markdown",
   "metadata": {},
   "source": [
    "### WEEKDAY_APPR_PROCESS_START\n",
    "On which day of the week did the client apply for the loan. <br>\n",
    "Categorical."
   ]
  },
  {
   "cell_type": "code",
   "execution_count": 106,
   "metadata": {},
   "outputs": [
    {
     "name": "stdout",
     "output_type": "stream",
     "text": [
      "Rows with missing values in WEEKDAY_APPR_PROCESS_START: 0\n"
     ]
    }
   ],
   "source": [
    "# Checking for missing values\n",
    "print(\"Rows with missing values in WEEKDAY_APPR_PROCESS_START: {}\".format(\n",
    "    processed_app_train[processed_app_train.WEEKDAY_APPR_PROCESS_START.isnull()].shape[0]))"
   ]
  },
  {
   "cell_type": "code",
   "execution_count": 107,
   "metadata": {},
   "outputs": [
    {
     "name": "stdout",
     "output_type": "stream",
     "text": [
      "Values for WEEKDAY_APPR_PROCESS_START:  ['WEDNESDAY' 'MONDAY' 'THURSDAY' 'SUNDAY' 'SATURDAY' 'FRIDAY' 'TUESDAY']\n"
     ]
    }
   ],
   "source": [
    "# List values\n",
    "print(\"Values for WEEKDAY_APPR_PROCESS_START: \", processed_app_train['WEEKDAY_APPR_PROCESS_START'].unique())"
   ]
  },
  {
   "cell_type": "code",
   "execution_count": 108,
   "metadata": {},
   "outputs": [],
   "source": [
    "# One hot encoding\n",
    "one_hot_encoding = pd.get_dummies(processed_app_train['WEEKDAY_APPR_PROCESS_START'], prefix='WD', prefix_sep='_')\n",
    "processed_app_train = processed_app_train.drop('WEEKDAY_APPR_PROCESS_START',axis = 1)\n",
    "processed_app_train = pd.concat([processed_app_train, one_hot_encoding], axis=1)\n",
    "processed_app_train.columns = processed_app_train.columns.str.strip().str.upper().str.replace(' ', '_')"
   ]
  },
  {
   "cell_type": "markdown",
   "metadata": {},
   "source": [
    "### HOUR_APPR_PROCESS_START\n",
    "Approximately at what hour did the client apply for the loan."
   ]
  },
  {
   "cell_type": "code",
   "execution_count": 109,
   "metadata": {},
   "outputs": [
    {
     "name": "stdout",
     "output_type": "stream",
     "text": [
      "Rows with missing values in HOUR_APPR_PROCESS_START: 0\n"
     ]
    }
   ],
   "source": [
    "# Checking for missing values\n",
    "print(\"Rows with missing values in HOUR_APPR_PROCESS_START: {}\".format(\n",
    "    processed_app_train[processed_app_train.HOUR_APPR_PROCESS_START.isnull()].shape[0]))"
   ]
  },
  {
   "cell_type": "code",
   "execution_count": 110,
   "metadata": {},
   "outputs": [
    {
     "data": {
      "text/plain": [
       "<matplotlib.axes._subplots.AxesSubplot at 0x23c19db6d30>"
      ]
     },
     "execution_count": 110,
     "metadata": {},
     "output_type": "execute_result"
    },
    {
     "data": {
      "image/png": "[encoded data removed]",
      "text/plain": [
       "<Figure size 432x288 with 1 Axes>"
      ]
     },
     "metadata": {
      "needs_background": "light"
     },
     "output_type": "display_data"
    }
   ],
   "source": [
    "# Check the data distribution\n",
    "processed_app_train['HOUR_APPR_PROCESS_START'].hist(bins=30)"
   ]
  },
  {
   "cell_type": "code",
   "execution_count": 111,
   "metadata": {},
   "outputs": [],
   "source": [
    "# Feature scaling (min-max normalization)\n",
    "processed_app_train['HOUR_APPR_PROCESS_START'] = ((processed_app_train['HOUR_APPR_PROCESS_START'] -\n",
    "                                      processed_app_train['HOUR_APPR_PROCESS_START'].min())/\n",
    "                                     (processed_app_train['HOUR_APPR_PROCESS_START'].max() - \n",
    "                                      processed_app_train['HOUR_APPR_PROCESS_START'].min()))"
   ]
  },
  {
   "cell_type": "markdown",
   "metadata": {},
   "source": [
    "### REG_REGION_NOT_LIVE_REGION\n",
    "Flag if client's permanent address does not match contact address (1=different, 0=same, at region level)."
   ]
  },
  {
   "cell_type": "code",
   "execution_count": 112,
   "metadata": {},
   "outputs": [
    {
     "name": "stdout",
     "output_type": "stream",
     "text": [
      "Rows with missing values in REG_REGION_NOT_LIVE_REGION: 0\n"
     ]
    }
   ],
   "source": [
    "# Checking for missing values\n",
    "print(\"Rows with missing values in REG_REGION_NOT_LIVE_REGION: {}\".format(\n",
    "    processed_app_train[processed_app_train.REG_REGION_NOT_LIVE_REGION.isnull()].shape[0]))"
   ]
  },
  {
   "cell_type": "markdown",
   "metadata": {},
   "source": [
    "### REG_REGION_NOT_WORK_REGION\n",
    "Flag if client's permanent address does not match work address (1=different, 0=same, at region level)."
   ]
  },
  {
   "cell_type": "code",
   "execution_count": 113,
   "metadata": {},
   "outputs": [
    {
     "name": "stdout",
     "output_type": "stream",
     "text": [
      "Rows with missing values in REG_REGION_NOT_WORK_REGION: 0\n"
     ]
    }
   ],
   "source": [
    "# Checking for missing values\n",
    "print(\"Rows with missing values in REG_REGION_NOT_WORK_REGION: {}\".format(\n",
    "    processed_app_train[processed_app_train.REG_REGION_NOT_WORK_REGION.isnull()].shape[0]))"
   ]
  },
  {
   "cell_type": "markdown",
   "metadata": {},
   "source": [
    "### LIVE_REGION_NOT_WORK_REGION\n",
    "Flag if client's contact address does not match work address (1=different, 0=same, at region level)."
   ]
  },
  {
   "cell_type": "code",
   "execution_count": 114,
   "metadata": {},
   "outputs": [
    {
     "name": "stdout",
     "output_type": "stream",
     "text": [
      "Rows with missing values in LIVE_REGION_NOT_WORK_REGION: 0\n"
     ]
    }
   ],
   "source": [
    "# Checking for missing values\n",
    "print(\"Rows with missing values in LIVE_REGION_NOT_WORK_REGION: {}\".format(\n",
    "    processed_app_train[processed_app_train.LIVE_REGION_NOT_WORK_REGION.isnull()].shape[0]))"
   ]
  },
  {
   "cell_type": "markdown",
   "metadata": {},
   "source": [
    "### REG_CITY_NOT_LIVE_CITY\n",
    "Flag if client's permanent address does not match contact address (1=different, 0=same, at city level)."
   ]
  },
  {
   "cell_type": "code",
   "execution_count": 115,
   "metadata": {},
   "outputs": [
    {
     "name": "stdout",
     "output_type": "stream",
     "text": [
      "Rows with missing values in REG_CITY_NOT_LIVE_CITY: 0\n"
     ]
    }
   ],
   "source": [
    "# Checking for missing values\n",
    "print(\"Rows with missing values in REG_CITY_NOT_LIVE_CITY: {}\".format(\n",
    "    processed_app_train[processed_app_train.REG_CITY_NOT_LIVE_CITY.isnull()].shape[0]))"
   ]
  },
  {
   "cell_type": "markdown",
   "metadata": {},
   "source": [
    "### REG_CITY_NOT_WORK_CITY\n",
    "Flag if client's permanent address does not match work address (1=different, 0=same, at city level)."
   ]
  },
  {
   "cell_type": "code",
   "execution_count": 116,
   "metadata": {},
   "outputs": [
    {
     "name": "stdout",
     "output_type": "stream",
     "text": [
      "Rows with missing values in REG_CITY_NOT_WORK_CITY: 0\n"
     ]
    }
   ],
   "source": [
    "# Checking for missing values\n",
    "print(\"Rows with missing values in REG_CITY_NOT_WORK_CITY: {}\".format(\n",
    "    processed_app_train[processed_app_train.REG_CITY_NOT_WORK_CITY.isnull()].shape[0]))"
   ]
  },
  {
   "cell_type": "markdown",
   "metadata": {},
   "source": [
    "### LIVE_CITY_NOT_WORK_CITY\n",
    "Flag if client's contact address does not match work address (1=different, 0=same, at city level)."
   ]
  },
  {
   "cell_type": "code",
   "execution_count": 117,
   "metadata": {},
   "outputs": [
    {
     "name": "stdout",
     "output_type": "stream",
     "text": [
      "Rows with missing values in LIVE_CITY_NOT_WORK_CITY: 0\n"
     ]
    }
   ],
   "source": [
    "# Checking for missing values\n",
    "print(\"Rows with missing values in LIVE_CITY_NOT_WORK_CITY: {}\".format(\n",
    "    processed_app_train[processed_app_train.LIVE_CITY_NOT_WORK_CITY.isnull()].shape[0]))"
   ]
  },
  {
   "cell_type": "markdown",
   "metadata": {},
   "source": [
    "### ORGANIZATION_TYPE\n",
    "Type of organization where client works. <br>\n",
    "Categorical."
   ]
  },
  {
   "cell_type": "code",
   "execution_count": 118,
   "metadata": {},
   "outputs": [
    {
     "name": "stdout",
     "output_type": "stream",
     "text": [
      "Rows with missing values in ORGANIZATION_TYPE: 0\n"
     ]
    }
   ],
   "source": [
    "# Checking for missing values\n",
    "print(\"Rows with missing values in ORGANIZATION_TYPE: {}\".format(\n",
    "    processed_app_train[processed_app_train.ORGANIZATION_TYPE.isnull()].shape[0]))"
   ]
  },
  {
   "cell_type": "code",
   "execution_count": 119,
   "metadata": {},
   "outputs": [
    {
     "name": "stdout",
     "output_type": "stream",
     "text": [
      "Values for ORGANIZATION_TYPE:  ['Business Entity Type 3' 'School' 'Government' 'Religion' 'Other' 'XNA'\n",
      " 'Electricity' 'Medicine' 'Business Entity Type 2' 'Self-employed'\n",
      " 'Transport: type 2' 'Construction' 'Housing' 'Kindergarten'\n",
      " 'Trade: type 7' 'Industry: type 11' 'Military' 'Services'\n",
      " 'Security Ministries' 'Transport: type 4' 'Industry: type 1' 'Emergency'\n",
      " 'Security' 'Trade: type 2' 'University' 'Transport: type 3' 'Police'\n",
      " 'Business Entity Type 1' 'Postal' 'Industry: type 4' 'Agriculture'\n",
      " 'Restaurant' 'Culture' 'Hotel' 'Industry: type 7' 'Trade: type 3'\n",
      " 'Industry: type 3' 'Bank' 'Industry: type 9' 'Insurance' 'Trade: type 6'\n",
      " 'Industry: type 2' 'Transport: type 1' 'Industry: type 12' 'Mobile'\n",
      " 'Trade: type 1' 'Industry: type 5' 'Industry: type 10' 'Legal Services'\n",
      " 'Advertising' 'Trade: type 5' 'Cleaning' 'Industry: type 13'\n",
      " 'Trade: type 4' 'Telecom' 'Industry: type 8' 'Realtor' 'Industry: type 6']\n"
     ]
    }
   ],
   "source": [
    "# List values\n",
    "print(\"Values for ORGANIZATION_TYPE: \", processed_app_train['ORGANIZATION_TYPE'].unique())"
   ]
  },
  {
   "cell_type": "code",
   "execution_count": 120,
   "metadata": {},
   "outputs": [],
   "source": [
    "# One hot encoding\n",
    "one_hot_encoding = pd.get_dummies(processed_app_train['ORGANIZATION_TYPE'], prefix='ORGT', prefix_sep='_')\n",
    "processed_app_train = processed_app_train.drop('ORGANIZATION_TYPE',axis = 1)\n",
    "processed_app_train = pd.concat([processed_app_train, one_hot_encoding], axis=1)\n",
    "processed_app_train.columns = processed_app_train.columns.str.strip().str.upper().str.replace(' ', '_')"
   ]
  },
  {
   "cell_type": "markdown",
   "metadata": {},
   "source": [
    "### EXT_SOURCE_1\n",
    "Normalized score from external data source."
   ]
  },
  {
   "cell_type": "code",
   "execution_count": 121,
   "metadata": {},
   "outputs": [
    {
     "name": "stdout",
     "output_type": "stream",
     "text": [
      "Rows with missing values in EXT_SOURCE_1: 171450\n"
     ]
    }
   ],
   "source": [
    "# Checking for missing values\n",
    "print(\"Rows with missing values in EXT_SOURCE_1: {}\".format(\n",
    "    processed_app_train[processed_app_train.EXT_SOURCE_1.isnull()].shape[0]))"
   ]
  },
  {
   "cell_type": "code",
   "execution_count": 122,
   "metadata": {},
   "outputs": [],
   "source": [
    "# Fill the missing values with the mean value\n",
    "processed_app_train['EXT_SOURCE_1'].fillna(value=processed_app_train['EXT_SOURCE_1'].mean(), inplace=True)"
   ]
  },
  {
   "cell_type": "markdown",
   "metadata": {},
   "source": [
    "### EXT_SOURCE_2\n",
    "Normalized score from external data source."
   ]
  },
  {
   "cell_type": "code",
   "execution_count": 123,
   "metadata": {},
   "outputs": [
    {
     "name": "stdout",
     "output_type": "stream",
     "text": [
      "Rows with missing values in EXT_SOURCE_2: 649\n"
     ]
    }
   ],
   "source": [
    "# Checking for missing values\n",
    "print(\"Rows with missing values in EXT_SOURCE_2: {}\".format(\n",
    "    processed_app_train[processed_app_train.EXT_SOURCE_2.isnull()].shape[0]))"
   ]
  },
  {
   "cell_type": "code",
   "execution_count": 124,
   "metadata": {},
   "outputs": [],
   "source": [
    "# Few rows with nulls -> delete rows\n",
    "processed_app_train = processed_app_train[processed_app_train.EXT_SOURCE_2.notnull()]"
   ]
  },
  {
   "cell_type": "markdown",
   "metadata": {},
   "source": [
    "### EXT_SOURCE_3\n",
    "Normalized score from external data source."
   ]
  },
  {
   "cell_type": "code",
   "execution_count": 125,
   "metadata": {},
   "outputs": [
    {
     "name": "stdout",
     "output_type": "stream",
     "text": [
      "Rows with missing values in EXT_SOURCE_3: 60149\n"
     ]
    }
   ],
   "source": [
    "# Checking for missing values\n",
    "print(\"Rows with missing values in EXT_SOURCE_3: {}\".format(\n",
    "    processed_app_train[processed_app_train.EXT_SOURCE_3.isnull()].shape[0]))"
   ]
  },
  {
   "cell_type": "code",
   "execution_count": 126,
   "metadata": {},
   "outputs": [],
   "source": [
    "# Fill the missing values with the mean value\n",
    "processed_app_train['EXT_SOURCE_3'].fillna(value=processed_app_train['EXT_SOURCE_3'].mean(), inplace=True)"
   ]
  },
  {
   "cell_type": "code",
   "execution_count": 127,
   "metadata": {},
   "outputs": [
    {
     "data": {
      "text/plain": [
       "303046"
      ]
     },
     "execution_count": 127,
     "metadata": {},
     "output_type": "execute_result"
    }
   ],
   "source": [
    "processed_app_train.shape[0]"
   ]
  },
  {
   "cell_type": "markdown",
   "metadata": {},
   "source": [
    "### FONDKAPREMONT_MODE\n",
    "Normalized information about building where the client lives, What is average (_AVG suffix), modus (_MODE suffix), median (_MEDI suffix) apartment size, common area, living area, age of building, number of elevators, number of entrances, state of the building, number of floor.<br>\n",
    "Categorial."
   ]
  },
  {
   "cell_type": "code",
   "execution_count": 128,
   "metadata": {},
   "outputs": [
    {
     "name": "stdout",
     "output_type": "stream",
     "text": [
      "Rows with missing values in FONDKAPREMONT_MODE: 207311\n"
     ]
    }
   ],
   "source": [
    "# Checking for missing values\n",
    "print(\"Rows with missing values in FONDKAPREMONT_MODE: {}\".format(\n",
    "    processed_app_train[processed_app_train.FONDKAPREMONT_MODE.isnull()].shape[0]))"
   ]
  },
  {
   "cell_type": "code",
   "execution_count": 129,
   "metadata": {},
   "outputs": [
    {
     "name": "stdout",
     "output_type": "stream",
     "text": [
      "Values for FONDKAPREMONT_MODE:  ['reg oper account' nan 'org spec account' 'reg oper spec account'\n",
      " 'not specified']\n"
     ]
    }
   ],
   "source": [
    "# List values\n",
    "print(\"Values for FONDKAPREMONT_MODE: \", processed_app_train['FONDKAPREMONT_MODE'].unique())"
   ]
  },
  {
   "cell_type": "code",
   "execution_count": 130,
   "metadata": {},
   "outputs": [],
   "source": [
    "processed_app_train['FONDKAPREMONT_MODE'].fillna(value='Unspec', inplace=True)"
   ]
  },
  {
   "cell_type": "code",
   "execution_count": 131,
   "metadata": {},
   "outputs": [],
   "source": [
    "# One hot encoding\n",
    "one_hot_encoding = pd.get_dummies(processed_app_train['FONDKAPREMONT_MODE'], prefix='FONDKA', prefix_sep='_')\n",
    "processed_app_train = processed_app_train.drop('FONDKAPREMONT_MODE',axis = 1)\n",
    "processed_app_train = pd.concat([processed_app_train, one_hot_encoding], axis=1)\n",
    "processed_app_train.columns = processed_app_train.columns.str.strip().str.upper().str.replace(' ', '_')"
   ]
  },
  {
   "cell_type": "markdown",
   "metadata": {},
   "source": [
    "### HOUSETYPE_MODE\n",
    "Normalized information about building where the client lives, What is average (_AVG suffix), modus (_MODE suffix), median (_MEDI suffix) apartment size, common area, living area, age of building, number of elevators, number of entrances, state of the building, number of floor.<br>\n",
    "Categorical."
   ]
  },
  {
   "cell_type": "code",
   "execution_count": 132,
   "metadata": {},
   "outputs": [
    {
     "name": "stdout",
     "output_type": "stream",
     "text": [
      "Rows with missing values in HOUSETYPE_MODE: 152135\n"
     ]
    }
   ],
   "source": [
    "# Checking for missing values\n",
    "print(\"Rows with missing values in HOUSETYPE_MODE: {}\".format(\n",
    "    processed_app_train[processed_app_train.HOUSETYPE_MODE.isnull()].shape[0]))"
   ]
  },
  {
   "cell_type": "code",
   "execution_count": 133,
   "metadata": {},
   "outputs": [
    {
     "name": "stdout",
     "output_type": "stream",
     "text": [
      "Values for HOUSETYPE_MODE:  ['block of flats' nan 'terraced house' 'specific housing']\n"
     ]
    }
   ],
   "source": [
    "# List values\n",
    "print(\"Values for HOUSETYPE_MODE: \", processed_app_train['HOUSETYPE_MODE'].unique())"
   ]
  },
  {
   "cell_type": "code",
   "execution_count": 134,
   "metadata": {},
   "outputs": [],
   "source": [
    "# Preparing data for One Hot Encoding\n",
    "processed_app_train['HOUSETYPE_MODE'].fillna(value='Unspec', inplace=True)"
   ]
  },
  {
   "cell_type": "code",
   "execution_count": 135,
   "metadata": {},
   "outputs": [],
   "source": [
    "# One hot encoding\n",
    "one_hot_encoding = pd.get_dummies(processed_app_train['HOUSETYPE_MODE'], prefix='HTM', prefix_sep='_')\n",
    "processed_app_train = processed_app_train.drop('HOUSETYPE_MODE',axis = 1)\n",
    "processed_app_train = pd.concat([processed_app_train, one_hot_encoding], axis=1)\n",
    "processed_app_train.columns = processed_app_train.columns.str.strip().str.upper().str.replace(' ', '_')"
   ]
  },
  {
   "cell_type": "markdown",
   "metadata": {},
   "source": [
    "### WALLSMATERIAL_MODE\n",
    "Normalized information about building where the client lives, What is average (_AVG suffix), modus (_MODE suffix), median (_MEDI suffix) apartment size, common area, living area, age of building, number of elevators, number of entrances, state of the building, number of floor. <br>\n",
    "Categorical."
   ]
  },
  {
   "cell_type": "code",
   "execution_count": 136,
   "metadata": {},
   "outputs": [
    {
     "name": "stdout",
     "output_type": "stream",
     "text": [
      "Rows with missing values in WALLSMATERIAL_MODE: 154156\n"
     ]
    }
   ],
   "source": [
    "# Checking for missing values\n",
    "print(\"Rows with missing values in WALLSMATERIAL_MODE: {}\".format(\n",
    "    processed_app_train[processed_app_train.WALLSMATERIAL_MODE.isnull()].shape[0]))"
   ]
  },
  {
   "cell_type": "code",
   "execution_count": 137,
   "metadata": {},
   "outputs": [],
   "source": [
    "# Preparing data for One Hot Encoding\n",
    "processed_app_train['WALLSMATERIAL_MODE'].fillna(value='Unspec', inplace=True)"
   ]
  },
  {
   "cell_type": "code",
   "execution_count": 138,
   "metadata": {},
   "outputs": [],
   "source": [
    "# One hot encoding\n",
    "one_hot_encoding = pd.get_dummies(processed_app_train['WALLSMATERIAL_MODE'], prefix='WMOD', prefix_sep='_')\n",
    "processed_app_train = processed_app_train.drop('WALLSMATERIAL_MODE',axis = 1)\n",
    "processed_app_train = pd.concat([processed_app_train, one_hot_encoding], axis=1)\n",
    "processed_app_train.columns = processed_app_train.columns.str.strip().str.upper().str.replace(' ', '_')"
   ]
  },
  {
   "cell_type": "markdown",
   "metadata": {},
   "source": [
    "### EMERGENCYSTATE_MODE\n",
    "Normalized information about building where the client lives, What is average (_AVG suffix), modus (_MODE suffix), median (_MEDI suffix) apartment size, common area, living area, age of building, number of elevators, number of entrances, state of the building, number of floor.<br>\n",
    "Categorical."
   ]
  },
  {
   "cell_type": "code",
   "execution_count": 139,
   "metadata": {},
   "outputs": [
    {
     "name": "stdout",
     "output_type": "stream",
     "text": [
      "Rows with missing values in EMERGENCYSTATE_MODE: 143699\n"
     ]
    }
   ],
   "source": [
    "# Checking for missing values\n",
    "print(\"Rows with missing values in EMERGENCYSTATE_MODE: {}\".format(\n",
    "    processed_app_train[processed_app_train.EMERGENCYSTATE_MODE.isnull()].shape[0]))"
   ]
  },
  {
   "cell_type": "code",
   "execution_count": 140,
   "metadata": {},
   "outputs": [
    {
     "name": "stdout",
     "output_type": "stream",
     "text": [
      "Values for EMERGENCYSTATE_MODE:  ['No' nan 'Yes']\n"
     ]
    }
   ],
   "source": [
    "# List values\n",
    "print(\"Values for EMERGENCYSTATE_MODE: \", processed_app_train['EMERGENCYSTATE_MODE'].unique())"
   ]
  },
  {
   "cell_type": "code",
   "execution_count": 141,
   "metadata": {},
   "outputs": [],
   "source": [
    "# Preparing data for One Hot Encoding\n",
    "processed_app_train['EMERGENCYSTATE_MODE'].fillna(value='Unspec', inplace=True)"
   ]
  },
  {
   "cell_type": "code",
   "execution_count": 142,
   "metadata": {},
   "outputs": [],
   "source": [
    "# One hot encoding\n",
    "one_hot_encoding = pd.get_dummies(processed_app_train['EMERGENCYSTATE_MODE'], prefix='EMGMODE', prefix_sep='_')\n",
    "processed_app_train = processed_app_train.drop('EMERGENCYSTATE_MODE',axis = 1)\n",
    "processed_app_train = pd.concat([processed_app_train, one_hot_encoding], axis=1)\n",
    "processed_app_train.columns = processed_app_train.columns.str.strip().str.upper().str.replace(' ', '_')"
   ]
  },
  {
   "cell_type": "markdown",
   "metadata": {},
   "source": [
    "### OBS_30_CNT_SOCIAL_CIRCLE\n",
    "How many observation of client's social surroundings with observable 30 DPD (days past due) default."
   ]
  },
  {
   "cell_type": "code",
   "execution_count": 143,
   "metadata": {},
   "outputs": [
    {
     "name": "stdout",
     "output_type": "stream",
     "text": [
      "Rows with missing values in OBS_30_CNT_SOCIAL_CIRCLE: 992\n"
     ]
    }
   ],
   "source": [
    "# Checking for missing values\n",
    "print(\"Rows with missing values in OBS_30_CNT_SOCIAL_CIRCLE: {}\".format(\n",
    "    processed_app_train[processed_app_train.OBS_30_CNT_SOCIAL_CIRCLE.isnull()].shape[0]))"
   ]
  },
  {
   "cell_type": "code",
   "execution_count": 144,
   "metadata": {},
   "outputs": [],
   "source": [
    "# Few rows with nulls -> delete rows\n",
    "processed_app_train = processed_app_train[processed_app_train.OBS_30_CNT_SOCIAL_CIRCLE.notnull()]"
   ]
  },
  {
   "cell_type": "code",
   "execution_count": 145,
   "metadata": {},
   "outputs": [
    {
     "data": {
      "text/plain": [
       "<matplotlib.axes._subplots.AxesSubplot at 0x23c1ab39e80>"
      ]
     },
     "execution_count": 145,
     "metadata": {},
     "output_type": "execute_result"
    },
    {
     "data": {
      "image/png": "[encoded data removed]",
      "text/plain": [
       "<Figure size 432x288 with 1 Axes>"
      ]
     },
     "metadata": {
      "needs_background": "light"
     },
     "output_type": "display_data"
    }
   ],
   "source": [
    "# Check the data distribution\n",
    "processed_app_train['OBS_30_CNT_SOCIAL_CIRCLE'].hist(bins=30)"
   ]
  },
  {
   "cell_type": "code",
   "execution_count": 146,
   "metadata": {},
   "outputs": [
    {
     "name": "stdout",
     "output_type": "stream",
     "text": [
      "Skewness: 12.271381467680962\n"
     ]
    }
   ],
   "source": [
    "# Data seems to be skewed\n",
    "print(\"Skewness: {}\".format(processed_app_train['OBS_30_CNT_SOCIAL_CIRCLE'].skew()))"
   ]
  },
  {
   "cell_type": "code",
   "execution_count": 147,
   "metadata": {},
   "outputs": [
    {
     "data": {
      "text/plain": [
       "<matplotlib.axes._subplots.AxesSubplot at 0x23c19b13080>"
      ]
     },
     "execution_count": 147,
     "metadata": {},
     "output_type": "execute_result"
    },
    {
     "data": {
      "image/png": "[encoded data removed]",
      "text/plain": [
       "<Figure size 432x288 with 1 Axes>"
      ]
     },
     "metadata": {
      "needs_background": "light"
     },
     "output_type": "display_data"
    }
   ],
   "source": [
    "# Data skewed: try to apply log\n",
    "processed_app_train['OBS_30_CNT_SOCIAL_CIRCLE'].replace(0,0.00001).apply(np.log).hist(bins=30)"
   ]
  },
  {
   "cell_type": "code",
   "execution_count": 148,
   "metadata": {},
   "outputs": [],
   "source": [
    "# Apply log\n",
    "processed_app_train['OBS_30_CNT_SOCIAL_CIRCLE'] = processed_app_train['OBS_30_CNT_SOCIAL_CIRCLE'].replace(0,0.00001)\n",
    "processed_app_train['OBS_30_CNT_SOCIAL_CIRCLE'] = np.log(processed_app_train.OBS_30_CNT_SOCIAL_CIRCLE)"
   ]
  },
  {
   "cell_type": "code",
   "execution_count": 149,
   "metadata": {},
   "outputs": [],
   "source": [
    "# Feature scaling (min-max normalization)\n",
    "processed_app_train['OBS_30_CNT_SOCIAL_CIRCLE'] = ((processed_app_train['OBS_30_CNT_SOCIAL_CIRCLE'] -\n",
    "                                      processed_app_train['OBS_30_CNT_SOCIAL_CIRCLE'].min())/\n",
    "                                     (processed_app_train['OBS_30_CNT_SOCIAL_CIRCLE'].max() - \n",
    "                                      processed_app_train['OBS_30_CNT_SOCIAL_CIRCLE'].min()))"
   ]
  },
  {
   "cell_type": "markdown",
   "metadata": {},
   "source": [
    "### DEF_30_CNT_SOCIAL_CIRCLE\n",
    "How many observation of client's social surroundings defaulted on 30 DPD (days past due)."
   ]
  },
  {
   "cell_type": "code",
   "execution_count": 150,
   "metadata": {},
   "outputs": [
    {
     "name": "stdout",
     "output_type": "stream",
     "text": [
      "Rows with missing values in DEF_30_CNT_SOCIAL_CIRCLE: 0\n"
     ]
    }
   ],
   "source": [
    "# Checking for missing values\n",
    "print(\"Rows with missing values in DEF_30_CNT_SOCIAL_CIRCLE: {}\".format(\n",
    "    processed_app_train[processed_app_train.DEF_30_CNT_SOCIAL_CIRCLE.isnull()].shape[0]))"
   ]
  },
  {
   "cell_type": "code",
   "execution_count": 151,
   "metadata": {},
   "outputs": [
    {
     "data": {
      "text/plain": [
       "<matplotlib.axes._subplots.AxesSubplot at 0x23c19bbcf28>"
      ]
     },
     "execution_count": 151,
     "metadata": {},
     "output_type": "execute_result"
    },
    {
     "data": {
      "image/png": "[encoded data removed]",
      "text/plain": [
       "<Figure size 432x288 with 1 Axes>"
      ]
     },
     "metadata": {
      "needs_background": "light"
     },
     "output_type": "display_data"
    }
   ],
   "source": [
    "# Check the data distribution\n",
    "processed_app_train['DEF_30_CNT_SOCIAL_CIRCLE'].hist(bins=30)"
   ]
  },
  {
   "cell_type": "code",
   "execution_count": 152,
   "metadata": {},
   "outputs": [
    {
     "name": "stdout",
     "output_type": "stream",
     "text": [
      "Skewness: 5.201264871756483\n"
     ]
    }
   ],
   "source": [
    "# Data seems to be skewed\n",
    "print(\"Skewness: {}\".format(processed_app_train['DEF_30_CNT_SOCIAL_CIRCLE'].skew()))"
   ]
  },
  {
   "cell_type": "code",
   "execution_count": 153,
   "metadata": {},
   "outputs": [
    {
     "data": {
      "text/plain": [
       "<matplotlib.axes._subplots.AxesSubplot at 0x23c19c58080>"
      ]
     },
     "execution_count": 153,
     "metadata": {},
     "output_type": "execute_result"
    },
    {
     "data": {
      "image/png": "[encoded data removed]",
      "text/plain": [
       "<Figure size 432x288 with 1 Axes>"
      ]
     },
     "metadata": {
      "needs_background": "light"
     },
     "output_type": "display_data"
    }
   ],
   "source": [
    "# Data skewed: try to apply log\n",
    "processed_app_train['DEF_30_CNT_SOCIAL_CIRCLE'].replace(0,0.00001).apply(np.log).hist(bins=30)"
   ]
  },
  {
   "cell_type": "code",
   "execution_count": 154,
   "metadata": {},
   "outputs": [],
   "source": [
    "# Apply log\n",
    "processed_app_train['DEF_30_CNT_SOCIAL_CIRCLE'] = processed_app_train['DEF_30_CNT_SOCIAL_CIRCLE'].replace(0,0.00001)\n",
    "processed_app_train['DEF_30_CNT_SOCIAL_CIRCLE'] = np.log(processed_app_train.DEF_30_CNT_SOCIAL_CIRCLE)"
   ]
  },
  {
   "cell_type": "code",
   "execution_count": 155,
   "metadata": {},
   "outputs": [],
   "source": [
    "# Feature scaling (min-max normalization)\n",
    "processed_app_train['DEF_30_CNT_SOCIAL_CIRCLE'] = ((processed_app_train['DEF_30_CNT_SOCIAL_CIRCLE'] -\n",
    "                                      processed_app_train['DEF_30_CNT_SOCIAL_CIRCLE'].min())/\n",
    "                                     (processed_app_train['DEF_30_CNT_SOCIAL_CIRCLE'].max() - \n",
    "                                      processed_app_train['DEF_30_CNT_SOCIAL_CIRCLE'].min()))"
   ]
  },
  {
   "cell_type": "markdown",
   "metadata": {},
   "source": [
    "### OBS_60_CNT_SOCIAL_CIRCLE\n",
    "How many observation of client's social surroundings with observable 60 DPD (days past due) default."
   ]
  },
  {
   "cell_type": "code",
   "execution_count": 156,
   "metadata": {},
   "outputs": [
    {
     "name": "stdout",
     "output_type": "stream",
     "text": [
      "Rows with missing values in OBS_60_CNT_SOCIAL_CIRCLE: 0\n"
     ]
    }
   ],
   "source": [
    "# Checking for missing values\n",
    "print(\"Rows with missing values in OBS_60_CNT_SOCIAL_CIRCLE: {}\".format(\n",
    "    processed_app_train[processed_app_train.OBS_60_CNT_SOCIAL_CIRCLE.isnull()].shape[0]))"
   ]
  },
  {
   "cell_type": "code",
   "execution_count": 157,
   "metadata": {},
   "outputs": [
    {
     "data": {
      "text/plain": [
       "<matplotlib.axes._subplots.AxesSubplot at 0x23c19d0a550>"
      ]
     },
     "execution_count": 157,
     "metadata": {},
     "output_type": "execute_result"
    },
    {
     "data": {
      "image/png": "[encoded data removed]",
      "text/plain": [
       "<Figure size 432x288 with 1 Axes>"
      ]
     },
     "metadata": {
      "needs_background": "light"
     },
     "output_type": "display_data"
    }
   ],
   "source": [
    "# Check the data distribution\n",
    "processed_app_train['OBS_60_CNT_SOCIAL_CIRCLE'].hist(bins=30)"
   ]
  },
  {
   "cell_type": "code",
   "execution_count": 158,
   "metadata": {},
   "outputs": [
    {
     "name": "stdout",
     "output_type": "stream",
     "text": [
      "Skewness: 12.201071954709487\n"
     ]
    }
   ],
   "source": [
    "# Data seems to be skewed\n",
    "print(\"Skewness: {}\".format(processed_app_train['OBS_60_CNT_SOCIAL_CIRCLE'].skew()))"
   ]
  },
  {
   "cell_type": "code",
   "execution_count": 159,
   "metadata": {},
   "outputs": [
    {
     "data": {
      "text/plain": [
       "<matplotlib.axes._subplots.AxesSubplot at 0x23c19e94d68>"
      ]
     },
     "execution_count": 159,
     "metadata": {},
     "output_type": "execute_result"
    },
    {
     "data": {
      "image/png": "[encoded data removed]",
      "text/plain": [
       "<Figure size 432x288 with 1 Axes>"
      ]
     },
     "metadata": {
      "needs_background": "light"
     },
     "output_type": "display_data"
    }
   ],
   "source": [
    "# Data skewed: try to apply log\n",
    "processed_app_train['OBS_60_CNT_SOCIAL_CIRCLE'].replace(0,0.00001).apply(np.log).hist(bins=30)"
   ]
  },
  {
   "cell_type": "code",
   "execution_count": 160,
   "metadata": {},
   "outputs": [],
   "source": [
    "# Apply log\n",
    "processed_app_train['OBS_60_CNT_SOCIAL_CIRCLE'] = processed_app_train['OBS_60_CNT_SOCIAL_CIRCLE'].replace(0,0.00001)\n",
    "processed_app_train['OBS_60_CNT_SOCIAL_CIRCLE'] = np.log(processed_app_train.OBS_60_CNT_SOCIAL_CIRCLE)"
   ]
  },
  {
   "cell_type": "code",
   "execution_count": 161,
   "metadata": {},
   "outputs": [],
   "source": [
    "# Feature scaling (min-max normalization)\n",
    "processed_app_train['OBS_60_CNT_SOCIAL_CIRCLE'] = ((processed_app_train['OBS_60_CNT_SOCIAL_CIRCLE'] -\n",
    "                                      processed_app_train['OBS_60_CNT_SOCIAL_CIRCLE'].min())/\n",
    "                                     (processed_app_train['OBS_60_CNT_SOCIAL_CIRCLE'].max() - \n",
    "                                      processed_app_train['OBS_60_CNT_SOCIAL_CIRCLE'].min()))"
   ]
  },
  {
   "cell_type": "markdown",
   "metadata": {},
   "source": [
    "### DEF_60_CNT_SOCIAL_CIRCLE\n",
    "How many observation of client's social surroundings defaulted on 60 (days past due) DPD."
   ]
  },
  {
   "cell_type": "code",
   "execution_count": 162,
   "metadata": {},
   "outputs": [
    {
     "name": "stdout",
     "output_type": "stream",
     "text": [
      "Rows with missing values in DEF_60_CNT_SOCIAL_CIRCLE: 0\n"
     ]
    }
   ],
   "source": [
    "# Checking for missing values\n",
    "print(\"Rows with missing values in DEF_60_CNT_SOCIAL_CIRCLE: {}\".format(\n",
    "    processed_app_train[processed_app_train.DEF_60_CNT_SOCIAL_CIRCLE.isnull()].shape[0]))"
   ]
  },
  {
   "cell_type": "code",
   "execution_count": 163,
   "metadata": {},
   "outputs": [
    {
     "data": {
      "text/plain": [
       "<matplotlib.axes._subplots.AxesSubplot at 0x23c19f35da0>"
      ]
     },
     "execution_count": 163,
     "metadata": {},
     "output_type": "execute_result"
    },
    {
     "data": {
      "image/png": "[encoded data removed]",
      "text/plain": [
       "<Figure size 432x288 with 1 Axes>"
      ]
     },
     "metadata": {
      "needs_background": "light"
     },
     "output_type": "display_data"
    }
   ],
   "source": [
    "# Check the data distribution\n",
    "processed_app_train['DEF_60_CNT_SOCIAL_CIRCLE'].hist(bins=30)"
   ]
  },
  {
   "cell_type": "code",
   "execution_count": 164,
   "metadata": {},
   "outputs": [
    {
     "name": "stdout",
     "output_type": "stream",
     "text": [
      "Skewness: 5.291578281898555\n"
     ]
    }
   ],
   "source": [
    "# Data seems to be skewed\n",
    "print(\"Skewness: {}\".format(processed_app_train['DEF_60_CNT_SOCIAL_CIRCLE'].skew()))"
   ]
  },
  {
   "cell_type": "code",
   "execution_count": 165,
   "metadata": {},
   "outputs": [
    {
     "data": {
      "text/plain": [
       "<matplotlib.axes._subplots.AxesSubplot at 0x23c19f8e978>"
      ]
     },
     "execution_count": 165,
     "metadata": {},
     "output_type": "execute_result"
    },
    {
     "data": {
      "image/png": "[encoded data removed]",
      "text/plain": [
       "<Figure size 432x288 with 1 Axes>"
      ]
     },
     "metadata": {
      "needs_background": "light"
     },
     "output_type": "display_data"
    }
   ],
   "source": [
    "# Data skewed: try to apply log\n",
    "processed_app_train['DEF_60_CNT_SOCIAL_CIRCLE'].replace(0,0.00001).apply(np.log).hist(bins=30)"
   ]
  },
  {
   "cell_type": "code",
   "execution_count": 166,
   "metadata": {},
   "outputs": [],
   "source": [
    "# Apply log\n",
    "processed_app_train['DEF_60_CNT_SOCIAL_CIRCLE'] = processed_app_train['DEF_60_CNT_SOCIAL_CIRCLE'].replace(0,0.00001)\n",
    "processed_app_train['DEF_60_CNT_SOCIAL_CIRCLE'] = np.log(processed_app_train.DEF_60_CNT_SOCIAL_CIRCLE)"
   ]
  },
  {
   "cell_type": "code",
   "execution_count": 167,
   "metadata": {},
   "outputs": [],
   "source": [
    "# Feature scaling (min-max normalization)\n",
    "processed_app_train['DEF_60_CNT_SOCIAL_CIRCLE'] = ((processed_app_train['DEF_60_CNT_SOCIAL_CIRCLE'] -\n",
    "                                      processed_app_train['DEF_60_CNT_SOCIAL_CIRCLE'].min())/\n",
    "                                     (processed_app_train['DEF_60_CNT_SOCIAL_CIRCLE'].max() - \n",
    "                                      processed_app_train['DEF_60_CNT_SOCIAL_CIRCLE'].min()))"
   ]
  },
  {
   "cell_type": "markdown",
   "metadata": {},
   "source": [
    "### DAYS_LAST_PHONE_CHANGE\n",
    "How many days before application did client change phone."
   ]
  },
  {
   "cell_type": "code",
   "execution_count": 168,
   "metadata": {},
   "outputs": [
    {
     "name": "stdout",
     "output_type": "stream",
     "text": [
      "Rows with missing values in DAYS_LAST_PHONE_CHANGE: 0\n"
     ]
    }
   ],
   "source": [
    "# Checking for missing values\n",
    "print(\"Rows with missing values in DAYS_LAST_PHONE_CHANGE: {}\".format(\n",
    "    processed_app_train[processed_app_train.DAYS_LAST_PHONE_CHANGE.isnull()].shape[0]))"
   ]
  },
  {
   "cell_type": "code",
   "execution_count": 169,
   "metadata": {},
   "outputs": [
    {
     "data": {
      "text/plain": [
       "<matplotlib.axes._subplots.AxesSubplot at 0x23c1a338a20>"
      ]
     },
     "execution_count": 169,
     "metadata": {},
     "output_type": "execute_result"
    },
    {
     "data": {
      "image/png": "[encoded data removed]",
      "text/plain": [
       "<Figure size 432x288 with 1 Axes>"
      ]
     },
     "metadata": {
      "needs_background": "light"
     },
     "output_type": "display_data"
    }
   ],
   "source": [
    "# Check the data distribution\n",
    "processed_app_train['DAYS_LAST_PHONE_CHANGE'].hist(bins=30)"
   ]
  },
  {
   "cell_type": "code",
   "execution_count": 170,
   "metadata": {},
   "outputs": [],
   "source": [
    "# Feature scaling (min-max normalization)\n",
    "processed_app_train['DAYS_LAST_PHONE_CHANGE'] = ((processed_app_train['DAYS_LAST_PHONE_CHANGE'] -\n",
    "                                      processed_app_train['DAYS_LAST_PHONE_CHANGE'].min())/\n",
    "                                     (processed_app_train['DAYS_LAST_PHONE_CHANGE'].max() - \n",
    "                                      processed_app_train['DAYS_LAST_PHONE_CHANGE'].min()))"
   ]
  },
  {
   "cell_type": "markdown",
   "metadata": {},
   "source": [
    "### FLAG_DOCUMENT_2\n",
    "Did client provide document 2."
   ]
  },
  {
   "cell_type": "code",
   "execution_count": 171,
   "metadata": {},
   "outputs": [
    {
     "data": {
      "text/plain": [
       "count    302054.000000\n",
       "mean          0.000043\n",
       "std           0.006560\n",
       "min           0.000000\n",
       "25%           0.000000\n",
       "50%           0.000000\n",
       "75%           0.000000\n",
       "max           1.000000\n",
       "Name: FLAG_DOCUMENT_2, dtype: float64"
      ]
     },
     "execution_count": 171,
     "metadata": {},
     "output_type": "execute_result"
    }
   ],
   "source": [
    "processed_app_train['FLAG_DOCUMENT_2'].describe()"
   ]
  },
  {
   "cell_type": "markdown",
   "metadata": {},
   "source": [
    "There is no need to change the values od FLAG_DOCUMENT_2 to 21. Values between 0 and 1 with no missing values.\n",
    "\n",
    "### AMT_REQ_CREDIT_BUREAU_HOUR\n",
    "Number of enquiries to Credit Bureau about the client one hour before application."
   ]
  },
  {
   "cell_type": "code",
   "execution_count": 172,
   "metadata": {},
   "outputs": [
    {
     "name": "stdout",
     "output_type": "stream",
     "text": [
      "Rows with missing values in AMT_REQ_CREDIT_BUREAU_HOUR: 40800\n"
     ]
    }
   ],
   "source": [
    "# Checking for missing values\n",
    "print(\"Rows with missing values in AMT_REQ_CREDIT_BUREAU_HOUR: {}\".format(\n",
    "    processed_app_train[processed_app_train.AMT_REQ_CREDIT_BUREAU_HOUR.isnull()].shape[0]))"
   ]
  },
  {
   "cell_type": "code",
   "execution_count": 173,
   "metadata": {},
   "outputs": [
    {
     "data": {
      "text/plain": [
       "count    261254.000000\n",
       "mean          0.006431\n",
       "std           0.084041\n",
       "min           0.000000\n",
       "25%           0.000000\n",
       "50%           0.000000\n",
       "75%           0.000000\n",
       "max           4.000000\n",
       "Name: AMT_REQ_CREDIT_BUREAU_HOUR, dtype: float64"
      ]
     },
     "execution_count": 173,
     "metadata": {},
     "output_type": "execute_result"
    }
   ],
   "source": [
    "processed_app_train['AMT_REQ_CREDIT_BUREAU_HOUR'].describe()"
   ]
  },
  {
   "cell_type": "code",
   "execution_count": 174,
   "metadata": {},
   "outputs": [],
   "source": [
    "processed_app_train['AMT_REQ_CREDIT_BUREAU_HOUR'].fillna(value=processed_app_train['AMT_REQ_CREDIT_BUREAU_HOUR'].\n",
    "                                                        mean(),inplace=True)"
   ]
  },
  {
   "cell_type": "code",
   "execution_count": 175,
   "metadata": {},
   "outputs": [],
   "source": [
    "# Feature scaling (min-max normalization)\n",
    "processed_app_train['AMT_REQ_CREDIT_BUREAU_HOUR'] = ((processed_app_train['AMT_REQ_CREDIT_BUREAU_HOUR'] -\n",
    "                                      processed_app_train['AMT_REQ_CREDIT_BUREAU_HOUR'].min())/\n",
    "                                     (processed_app_train['AMT_REQ_CREDIT_BUREAU_HOUR'].max() - \n",
    "                                      processed_app_train['AMT_REQ_CREDIT_BUREAU_HOUR'].min()))"
   ]
  },
  {
   "cell_type": "markdown",
   "metadata": {},
   "source": [
    "### AMT_REQ_CREDIT_BUREAU_DAY\n",
    "Number of enquiries to Credit Bureau about the client one day before application (excluding one hour before application)."
   ]
  },
  {
   "cell_type": "code",
   "execution_count": 176,
   "metadata": {},
   "outputs": [
    {
     "data": {
      "text/plain": [
       "count    261254.000000\n",
       "mean          0.007051\n",
       "std           0.111140\n",
       "min           0.000000\n",
       "25%           0.000000\n",
       "50%           0.000000\n",
       "75%           0.000000\n",
       "max           9.000000\n",
       "Name: AMT_REQ_CREDIT_BUREAU_DAY, dtype: float64"
      ]
     },
     "execution_count": 176,
     "metadata": {},
     "output_type": "execute_result"
    }
   ],
   "source": [
    "processed_app_train['AMT_REQ_CREDIT_BUREAU_DAY'].describe()"
   ]
  },
  {
   "cell_type": "code",
   "execution_count": 177,
   "metadata": {},
   "outputs": [],
   "source": [
    "processed_app_train['AMT_REQ_CREDIT_BUREAU_DAY'].fillna(value=processed_app_train['AMT_REQ_CREDIT_BUREAU_DAY'].\n",
    "                                                        mean(),inplace=True)"
   ]
  },
  {
   "cell_type": "code",
   "execution_count": 178,
   "metadata": {},
   "outputs": [],
   "source": [
    "# Feature scaling (min-max normalization)\n",
    "processed_app_train['AMT_REQ_CREDIT_BUREAU_DAY'] = ((processed_app_train['AMT_REQ_CREDIT_BUREAU_DAY'] -\n",
    "                                      processed_app_train['AMT_REQ_CREDIT_BUREAU_DAY'].min())/\n",
    "                                     (processed_app_train['AMT_REQ_CREDIT_BUREAU_DAY'].max() - \n",
    "                                      processed_app_train['AMT_REQ_CREDIT_BUREAU_DAY'].min()))"
   ]
  },
  {
   "cell_type": "markdown",
   "metadata": {},
   "source": [
    "### AMT_REQ_CREDIT_BUREAU_WEEK\n",
    "Number of enquiries to Credit Bureau about the client one week before application (excluding one day before application)."
   ]
  },
  {
   "cell_type": "code",
   "execution_count": 179,
   "metadata": {},
   "outputs": [
    {
     "data": {
      "text/plain": [
       "count    261254.000000\n",
       "mean          0.034361\n",
       "std           0.203871\n",
       "min           0.000000\n",
       "25%           0.000000\n",
       "50%           0.000000\n",
       "75%           0.000000\n",
       "max           8.000000\n",
       "Name: AMT_REQ_CREDIT_BUREAU_WEEK, dtype: float64"
      ]
     },
     "execution_count": 179,
     "metadata": {},
     "output_type": "execute_result"
    }
   ],
   "source": [
    "processed_app_train['AMT_REQ_CREDIT_BUREAU_WEEK'].describe()"
   ]
  },
  {
   "cell_type": "code",
   "execution_count": 180,
   "metadata": {},
   "outputs": [],
   "source": [
    "processed_app_train['AMT_REQ_CREDIT_BUREAU_WEEK'].fillna(value=processed_app_train['AMT_REQ_CREDIT_BUREAU_WEEK'].\n",
    "                                                        mean(),inplace=True)"
   ]
  },
  {
   "cell_type": "code",
   "execution_count": 181,
   "metadata": {},
   "outputs": [],
   "source": [
    "# Feature scaling (min-max normalization)\n",
    "processed_app_train['AMT_REQ_CREDIT_BUREAU_WEEK'] = ((processed_app_train['AMT_REQ_CREDIT_BUREAU_WEEK'] -\n",
    "                                      processed_app_train['AMT_REQ_CREDIT_BUREAU_WEEK'].min())/\n",
    "                                     (processed_app_train['AMT_REQ_CREDIT_BUREAU_WEEK'].max() - \n",
    "                                      processed_app_train['AMT_REQ_CREDIT_BUREAU_WEEK'].min()))"
   ]
  },
  {
   "cell_type": "markdown",
   "metadata": {},
   "source": [
    "### AMT_REQ_CREDIT_BUREAU_MON\n",
    "Number of enquiries to Credit Bureau about the client one month before application (excluding one week before application)."
   ]
  },
  {
   "cell_type": "code",
   "execution_count": 182,
   "metadata": {},
   "outputs": [
    {
     "data": {
      "text/plain": [
       "count    261254.000000\n",
       "mean          0.267169\n",
       "std           0.915371\n",
       "min           0.000000\n",
       "25%           0.000000\n",
       "50%           0.000000\n",
       "75%           0.000000\n",
       "max          27.000000\n",
       "Name: AMT_REQ_CREDIT_BUREAU_MON, dtype: float64"
      ]
     },
     "execution_count": 182,
     "metadata": {},
     "output_type": "execute_result"
    }
   ],
   "source": [
    "processed_app_train['AMT_REQ_CREDIT_BUREAU_MON'].describe()"
   ]
  },
  {
   "cell_type": "code",
   "execution_count": 183,
   "metadata": {},
   "outputs": [],
   "source": [
    "processed_app_train['AMT_REQ_CREDIT_BUREAU_MON'].fillna(value=processed_app_train['AMT_REQ_CREDIT_BUREAU_MON'].\n",
    "                                                        mean(),inplace=True)"
   ]
  },
  {
   "cell_type": "code",
   "execution_count": 184,
   "metadata": {},
   "outputs": [],
   "source": [
    "# Feature scaling (min-max normalization)\n",
    "processed_app_train['AMT_REQ_CREDIT_BUREAU_MON'] = ((processed_app_train['AMT_REQ_CREDIT_BUREAU_MON'] -\n",
    "                                      processed_app_train['AMT_REQ_CREDIT_BUREAU_MON'].min())/\n",
    "                                     (processed_app_train['AMT_REQ_CREDIT_BUREAU_MON'].max() - \n",
    "                                      processed_app_train['AMT_REQ_CREDIT_BUREAU_MON'].min()))"
   ]
  },
  {
   "cell_type": "markdown",
   "metadata": {},
   "source": [
    "### AMT_REQ_CREDIT_BUREAU_QRT\n",
    "Number of enquiries to Credit Bureau about the client 3 month before application (excluding one month before application)."
   ]
  },
  {
   "cell_type": "code",
   "execution_count": 185,
   "metadata": {},
   "outputs": [
    {
     "data": {
      "text/plain": [
       "count    261254.000000\n",
       "mean          0.266511\n",
       "std           0.797870\n",
       "min           0.000000\n",
       "25%           0.000000\n",
       "50%           0.000000\n",
       "75%           0.000000\n",
       "max         261.000000\n",
       "Name: AMT_REQ_CREDIT_BUREAU_QRT, dtype: float64"
      ]
     },
     "execution_count": 185,
     "metadata": {},
     "output_type": "execute_result"
    }
   ],
   "source": [
    "processed_app_train['AMT_REQ_CREDIT_BUREAU_QRT'].describe()"
   ]
  },
  {
   "cell_type": "code",
   "execution_count": 186,
   "metadata": {},
   "outputs": [],
   "source": [
    "processed_app_train['AMT_REQ_CREDIT_BUREAU_QRT'].fillna(value=processed_app_train['AMT_REQ_CREDIT_BUREAU_QRT'].\n",
    "                                                        mean(),inplace=True)"
   ]
  },
  {
   "cell_type": "code",
   "execution_count": 187,
   "metadata": {},
   "outputs": [],
   "source": [
    "# Feature scaling (min-max normalization)\n",
    "processed_app_train['AMT_REQ_CREDIT_BUREAU_QRT'] = ((processed_app_train['AMT_REQ_CREDIT_BUREAU_QRT'] -\n",
    "                                      processed_app_train['AMT_REQ_CREDIT_BUREAU_QRT'].min())/\n",
    "                                     (processed_app_train['AMT_REQ_CREDIT_BUREAU_QRT'].max() - \n",
    "                                      processed_app_train['AMT_REQ_CREDIT_BUREAU_QRT'].min()))"
   ]
  },
  {
   "cell_type": "markdown",
   "metadata": {},
   "source": [
    "### AMT_REQ_CREDIT_BUREAU_YEAR\n",
    "Number of enquiries to Credit Bureau about the client one day year (excluding last 3 months before application)."
   ]
  },
  {
   "cell_type": "code",
   "execution_count": 188,
   "metadata": {
    "scrolled": true
   },
   "outputs": [
    {
     "data": {
      "text/plain": [
       "count    261254.000000\n",
       "mean          1.906669\n",
       "std           1.872718\n",
       "min           0.000000\n",
       "25%           0.000000\n",
       "50%           1.000000\n",
       "75%           3.000000\n",
       "max          25.000000\n",
       "Name: AMT_REQ_CREDIT_BUREAU_YEAR, dtype: float64"
      ]
     },
     "execution_count": 188,
     "metadata": {},
     "output_type": "execute_result"
    }
   ],
   "source": [
    "processed_app_train['AMT_REQ_CREDIT_BUREAU_YEAR'].describe()"
   ]
  },
  {
   "cell_type": "code",
   "execution_count": 189,
   "metadata": {},
   "outputs": [],
   "source": [
    "processed_app_train['AMT_REQ_CREDIT_BUREAU_YEAR'].fillna(value=processed_app_train['AMT_REQ_CREDIT_BUREAU_YEAR'].\n",
    "                                                         mean(),inplace=True)"
   ]
  },
  {
   "cell_type": "code",
   "execution_count": 190,
   "metadata": {},
   "outputs": [],
   "source": [
    "# Feature scaling (min-max normalization)\n",
    "processed_app_train['AMT_REQ_CREDIT_BUREAU_YEAR'] = ((processed_app_train['AMT_REQ_CREDIT_BUREAU_YEAR'] -\n",
    "                                      processed_app_train['AMT_REQ_CREDIT_BUREAU_YEAR'].min())/\n",
    "                                     (processed_app_train['AMT_REQ_CREDIT_BUREAU_YEAR'].max() - \n",
    "                                      processed_app_train['AMT_REQ_CREDIT_BUREAU_YEAR'].min()))"
   ]
  },
  {
   "cell_type": "markdown",
   "metadata": {},
   "source": [
    "\n",
    "For the remaining tables I will try to group and extract meaningful statistics consolidate it as new features of the training table.\n",
    "\n",
    "## TABLE bureau_balance.csv"
   ]
  },
  {
   "cell_type": "code",
   "execution_count": 4,
   "metadata": {},
   "outputs": [
    {
     "data": {
      "text/plain": [
       "(27299925, 3)"
      ]
     },
     "execution_count": 4,
     "metadata": {},
     "output_type": "execute_result"
    }
   ],
   "source": [
    "bureau_balance = pd.read_csv(\"data/bureau_balance.csv\")\n",
    "bureau_balance.shape"
   ]
  },
  {
   "cell_type": "markdown",
   "metadata": {},
   "source": [
    "## STATUS\n",
    "Status of Credit Bureau loan during the month (active, closed, DPD0-30,… [C means closed, X means status unknown, 0 means no DPD, 1 means maximal did during month between 1-30, 2 means DPD 31-60,… 5 means DPD 120+ or sold or written off ] )."
   ]
  },
  {
   "cell_type": "code",
   "execution_count": 192,
   "metadata": {
    "scrolled": true
   },
   "outputs": [],
   "source": [
    "bureau_balance['STATUS'] = bureau_balance['STATUS'].replace('X', np.NaN)\n",
    "bureau_balance['STATUS'] = bureau_balance['STATUS'].replace('C', '0')\n",
    "bureau_balance['STATUS'] = pd.to_numeric(bureau_balance['STATUS'])"
   ]
  },
  {
   "cell_type": "code",
   "execution_count": 193,
   "metadata": {},
   "outputs": [
    {
     "data": {
      "text/html": [
       "<div>\n",
       "<style scoped>\n",
       "    .dataframe tbody tr th:only-of-type {\n",
       "        vertical-align: middle;\n",
       "    }\n",
       "\n",
       "    .dataframe tbody tr th {\n",
       "        vertical-align: top;\n",
       "    }\n",
       "\n",
       "    .dataframe thead th {\n",
       "        text-align: right;\n",
       "    }\n",
       "</style>\n",
       "<table border=\"1\" class=\"dataframe\">\n",
       "  <thead>\n",
       "    <tr style=\"text-align: right;\">\n",
       "      <th></th>\n",
       "      <th>SK_ID_BUREAU</th>\n",
       "      <th>STATUS_MAX</th>\n",
       "      <th>STATUS_MEAN</th>\n",
       "    </tr>\n",
       "  </thead>\n",
       "  <tbody>\n",
       "    <tr>\n",
       "      <th>0</th>\n",
       "      <td>5001709</td>\n",
       "      <td>0.0</td>\n",
       "      <td>0.0</td>\n",
       "    </tr>\n",
       "    <tr>\n",
       "      <th>1</th>\n",
       "      <td>5001710</td>\n",
       "      <td>0.0</td>\n",
       "      <td>0.0</td>\n",
       "    </tr>\n",
       "    <tr>\n",
       "      <th>2</th>\n",
       "      <td>5001711</td>\n",
       "      <td>0.0</td>\n",
       "      <td>0.0</td>\n",
       "    </tr>\n",
       "    <tr>\n",
       "      <th>3</th>\n",
       "      <td>5001712</td>\n",
       "      <td>0.0</td>\n",
       "      <td>0.0</td>\n",
       "    </tr>\n",
       "    <tr>\n",
       "      <th>4</th>\n",
       "      <td>5001713</td>\n",
       "      <td>NaN</td>\n",
       "      <td>NaN</td>\n",
       "    </tr>\n",
       "  </tbody>\n",
       "</table>\n",
       "</div>"
      ],
      "text/plain": [
       "   SK_ID_BUREAU  STATUS_MAX  STATUS_MEAN\n",
       "0       5001709         0.0          0.0\n",
       "1       5001710         0.0          0.0\n",
       "2       5001711         0.0          0.0\n",
       "3       5001712         0.0          0.0\n",
       "4       5001713         NaN          NaN"
      ]
     },
     "execution_count": 193,
     "metadata": {},
     "output_type": "execute_result"
    }
   ],
   "source": [
    "agg_bureau_balance = bureau_balance.groupby('SK_ID_BUREAU').agg({'STATUS':['max','mean']})\n",
    "agg_bureau_balance.columns = agg_bureau_balance.columns.map('_'.join).str.strip('_')\n",
    "agg_bureau_balance.columns = map(str.upper, agg_bureau_balance.columns)\n",
    "agg_bureau_balance.reset_index(inplace=True)\n",
    "agg_bureau_balance.head()"
   ]
  },
  {
   "cell_type": "code",
   "execution_count": 194,
   "metadata": {},
   "outputs": [],
   "source": [
    "# Feature scaling (min-max normalization)\n",
    "agg_bureau_balance['STATUS_MAX'] = ((agg_bureau_balance['STATUS_MAX'] -\n",
    "                                      agg_bureau_balance['STATUS_MAX'].min())/\n",
    "                                     (agg_bureau_balance['STATUS_MAX'].max() - \n",
    "                                      agg_bureau_balance['STATUS_MAX'].min()))\n",
    "\n",
    "agg_bureau_balance['STATUS_MEAN'] = ((agg_bureau_balance['STATUS_MEAN'] -\n",
    "                                      agg_bureau_balance['STATUS_MEAN'].min())/\n",
    "                                     (agg_bureau_balance['STATUS_MEAN'].max() - \n",
    "                                      agg_bureau_balance['STATUS_MEAN'].min()))"
   ]
  },
  {
   "cell_type": "markdown",
   "metadata": {},
   "source": [
    "## TABLE bureau.csv"
   ]
  },
  {
   "cell_type": "code",
   "execution_count": 5,
   "metadata": {},
   "outputs": [
    {
     "data": {
      "text/plain": [
       "(1716428, 17)"
      ]
     },
     "execution_count": 5,
     "metadata": {},
     "output_type": "execute_result"
    }
   ],
   "source": [
    "bureau = pd.read_csv(\"data/bureau.csv\")\n",
    "bureau.shape"
   ]
  },
  {
   "cell_type": "code",
   "execution_count": 196,
   "metadata": {},
   "outputs": [],
   "source": [
    "merged_bureau = pd.merge(bureau, agg_bureau_balance, how='left', on='SK_ID_BUREAU')"
   ]
  },
  {
   "cell_type": "code",
   "execution_count": 197,
   "metadata": {},
   "outputs": [
    {
     "data": {
      "text/html": [
       "<div>\n",
       "<style scoped>\n",
       "    .dataframe tbody tr th:only-of-type {\n",
       "        vertical-align: middle;\n",
       "    }\n",
       "\n",
       "    .dataframe tbody tr th {\n",
       "        vertical-align: top;\n",
       "    }\n",
       "\n",
       "    .dataframe thead th {\n",
       "        text-align: right;\n",
       "    }\n",
       "</style>\n",
       "<table border=\"1\" class=\"dataframe\">\n",
       "  <thead>\n",
       "    <tr style=\"text-align: right;\">\n",
       "      <th></th>\n",
       "      <th>SK_ID_CURR</th>\n",
       "      <th>CREDIT_DAY_OVERDUE_MAX</th>\n",
       "      <th>CREDIT_DAY_OVERDUE_MEAN</th>\n",
       "      <th>AMT_CREDIT_MAX_OVERDUE_MAX</th>\n",
       "      <th>CNT_CREDIT_PROLONG_MAX</th>\n",
       "      <th>AMT_CREDIT_SUM_MAX</th>\n",
       "      <th>AMT_CREDIT_SUM_MEAN</th>\n",
       "      <th>AMT_CREDIT_SUM_DEBT_MAX</th>\n",
       "      <th>AMT_CREDIT_SUM_DEBT_MEAN</th>\n",
       "      <th>AMT_CREDIT_SUM_LIMIT_MAX</th>\n",
       "      <th>AMT_CREDIT_SUM_LIMIT_MEAN</th>\n",
       "      <th>AMT_CREDIT_SUM_OVERDUE_MAX</th>\n",
       "      <th>AMT_CREDIT_SUM_OVERDUE_MEAN</th>\n",
       "      <th>AMT_ANNUITY_MAX</th>\n",
       "      <th>AMT_ANNUITY_MEAN</th>\n",
       "      <th>STATUS_MAX_MAX</th>\n",
       "      <th>STATUS_MEAN_MEAN</th>\n",
       "    </tr>\n",
       "  </thead>\n",
       "  <tbody>\n",
       "    <tr>\n",
       "      <th>0</th>\n",
       "      <td>100001</td>\n",
       "      <td>0</td>\n",
       "      <td>0.0</td>\n",
       "      <td>NaN</td>\n",
       "      <td>0</td>\n",
       "      <td>378000.0</td>\n",
       "      <td>207623.571429</td>\n",
       "      <td>373239.0</td>\n",
       "      <td>85240.928571</td>\n",
       "      <td>0.000</td>\n",
       "      <td>0.00000</td>\n",
       "      <td>0.0</td>\n",
       "      <td>0.0</td>\n",
       "      <td>10822.5</td>\n",
       "      <td>3545.357143</td>\n",
       "      <td>0.2</td>\n",
       "      <td>0.002198</td>\n",
       "    </tr>\n",
       "    <tr>\n",
       "      <th>1</th>\n",
       "      <td>100002</td>\n",
       "      <td>0</td>\n",
       "      <td>0.0</td>\n",
       "      <td>5043.645</td>\n",
       "      <td>0</td>\n",
       "      <td>450000.0</td>\n",
       "      <td>108131.945625</td>\n",
       "      <td>245781.0</td>\n",
       "      <td>49156.200000</td>\n",
       "      <td>31988.565</td>\n",
       "      <td>7997.14125</td>\n",
       "      <td>0.0</td>\n",
       "      <td>0.0</td>\n",
       "      <td>0.0</td>\n",
       "      <td>0.000000</td>\n",
       "      <td>0.2</td>\n",
       "      <td>0.059844</td>\n",
       "    </tr>\n",
       "    <tr>\n",
       "      <th>2</th>\n",
       "      <td>100003</td>\n",
       "      <td>0</td>\n",
       "      <td>0.0</td>\n",
       "      <td>0.000</td>\n",
       "      <td>0</td>\n",
       "      <td>810000.0</td>\n",
       "      <td>254350.125000</td>\n",
       "      <td>0.0</td>\n",
       "      <td>0.000000</td>\n",
       "      <td>810000.000</td>\n",
       "      <td>202500.00000</td>\n",
       "      <td>0.0</td>\n",
       "      <td>0.0</td>\n",
       "      <td>NaN</td>\n",
       "      <td>NaN</td>\n",
       "      <td>NaN</td>\n",
       "      <td>NaN</td>\n",
       "    </tr>\n",
       "    <tr>\n",
       "      <th>3</th>\n",
       "      <td>100004</td>\n",
       "      <td>0</td>\n",
       "      <td>0.0</td>\n",
       "      <td>0.000</td>\n",
       "      <td>0</td>\n",
       "      <td>94537.8</td>\n",
       "      <td>94518.900000</td>\n",
       "      <td>0.0</td>\n",
       "      <td>0.000000</td>\n",
       "      <td>0.000</td>\n",
       "      <td>0.00000</td>\n",
       "      <td>0.0</td>\n",
       "      <td>0.0</td>\n",
       "      <td>NaN</td>\n",
       "      <td>NaN</td>\n",
       "      <td>NaN</td>\n",
       "      <td>NaN</td>\n",
       "    </tr>\n",
       "    <tr>\n",
       "      <th>4</th>\n",
       "      <td>100005</td>\n",
       "      <td>0</td>\n",
       "      <td>0.0</td>\n",
       "      <td>0.000</td>\n",
       "      <td>0</td>\n",
       "      <td>568800.0</td>\n",
       "      <td>219042.000000</td>\n",
       "      <td>543087.0</td>\n",
       "      <td>189469.500000</td>\n",
       "      <td>0.000</td>\n",
       "      <td>0.00000</td>\n",
       "      <td>0.0</td>\n",
       "      <td>0.0</td>\n",
       "      <td>4261.5</td>\n",
       "      <td>1420.500000</td>\n",
       "      <td>0.0</td>\n",
       "      <td>0.000000</td>\n",
       "    </tr>\n",
       "  </tbody>\n",
       "</table>\n",
       "</div>"
      ],
      "text/plain": [
       "   SK_ID_CURR  CREDIT_DAY_OVERDUE_MAX  CREDIT_DAY_OVERDUE_MEAN  \\\n",
       "0      100001                       0                      0.0   \n",
       "1      100002                       0                      0.0   \n",
       "2      100003                       0                      0.0   \n",
       "3      100004                       0                      0.0   \n",
       "4      100005                       0                      0.0   \n",
       "\n",
       "   AMT_CREDIT_MAX_OVERDUE_MAX  CNT_CREDIT_PROLONG_MAX  AMT_CREDIT_SUM_MAX  \\\n",
       "0                         NaN                       0            378000.0   \n",
       "1                    5043.645                       0            450000.0   \n",
       "2                       0.000                       0            810000.0   \n",
       "3                       0.000                       0             94537.8   \n",
       "4                       0.000                       0            568800.0   \n",
       "\n",
       "   AMT_CREDIT_SUM_MEAN  AMT_CREDIT_SUM_DEBT_MAX  AMT_CREDIT_SUM_DEBT_MEAN  \\\n",
       "0        207623.571429                 373239.0              85240.928571   \n",
       "1        108131.945625                 245781.0              49156.200000   \n",
       "2        254350.125000                      0.0                  0.000000   \n",
       "3         94518.900000                      0.0                  0.000000   \n",
       "4        219042.000000                 543087.0             189469.500000   \n",
       "\n",
       "   AMT_CREDIT_SUM_LIMIT_MAX  AMT_CREDIT_SUM_LIMIT_MEAN  \\\n",
       "0                     0.000                    0.00000   \n",
       "1                 31988.565                 7997.14125   \n",
       "2                810000.000               202500.00000   \n",
       "3                     0.000                    0.00000   \n",
       "4                     0.000                    0.00000   \n",
       "\n",
       "   AMT_CREDIT_SUM_OVERDUE_MAX  AMT_CREDIT_SUM_OVERDUE_MEAN  AMT_ANNUITY_MAX  \\\n",
       "0                         0.0                          0.0          10822.5   \n",
       "1                         0.0                          0.0              0.0   \n",
       "2                         0.0                          0.0              NaN   \n",
       "3                         0.0                          0.0              NaN   \n",
       "4                         0.0                          0.0           4261.5   \n",
       "\n",
       "   AMT_ANNUITY_MEAN  STATUS_MAX_MAX  STATUS_MEAN_MEAN  \n",
       "0       3545.357143             0.2          0.002198  \n",
       "1          0.000000             0.2          0.059844  \n",
       "2               NaN             NaN               NaN  \n",
       "3               NaN             NaN               NaN  \n",
       "4       1420.500000             0.0          0.000000  "
      ]
     },
     "execution_count": 197,
     "metadata": {},
     "output_type": "execute_result"
    }
   ],
   "source": [
    "agg_bureau = merged_bureau.groupby('SK_ID_CURR').agg({'CREDIT_DAY_OVERDUE':['max', 'mean'],\n",
    "                                                      'AMT_CREDIT_MAX_OVERDUE':['max'],\n",
    "                                                      'CNT_CREDIT_PROLONG':['max'],\n",
    "                                                      'AMT_CREDIT_SUM':['max','mean'],\n",
    "                                                      'AMT_CREDIT_SUM_DEBT':['max','mean'],\n",
    "                                                      'AMT_CREDIT_SUM_LIMIT':['max','mean'],\n",
    "                                                      'AMT_CREDIT_SUM_OVERDUE':['max','mean'],\n",
    "                                                      'AMT_ANNUITY':['max','mean'],\n",
    "                                                      'STATUS_MAX':['max'],'STATUS_MEAN':['mean']})\n",
    "agg_bureau.columns = agg_bureau.columns.map('_'.join).str.strip('_')\n",
    "agg_bureau.columns = map(str.upper, agg_bureau.columns)\n",
    "agg_bureau.reset_index(inplace=True)\n",
    "agg_bureau.head()"
   ]
  },
  {
   "cell_type": "code",
   "execution_count": 198,
   "metadata": {},
   "outputs": [],
   "source": [
    "# Feature scaling (min-max normalization)\n",
    "agg_bureau['CREDIT_DAY_OVERDUE_MAX'] = ((agg_bureau['CREDIT_DAY_OVERDUE_MAX'] - agg_bureau['CREDIT_DAY_OVERDUE_MAX'].min())/(agg_bureau['CREDIT_DAY_OVERDUE_MAX'].max() - agg_bureau['CREDIT_DAY_OVERDUE_MAX'].min()))\n",
    "agg_bureau['CREDIT_DAY_OVERDUE_MEAN'] = ((agg_bureau['CREDIT_DAY_OVERDUE_MEAN'] - agg_bureau['CREDIT_DAY_OVERDUE_MEAN'].min())/(agg_bureau['CREDIT_DAY_OVERDUE_MEAN'].max() - agg_bureau['CREDIT_DAY_OVERDUE_MEAN'].min()))\n",
    "agg_bureau['AMT_CREDIT_MAX_OVERDUE_MAX'] = ((agg_bureau['AMT_CREDIT_MAX_OVERDUE_MAX'] - agg_bureau['AMT_CREDIT_MAX_OVERDUE_MAX'].min())/(agg_bureau['AMT_CREDIT_MAX_OVERDUE_MAX'].max() - agg_bureau['AMT_CREDIT_MAX_OVERDUE_MAX'].min()))\n",
    "agg_bureau['CNT_CREDIT_PROLONG_MAX'] = ((agg_bureau['CNT_CREDIT_PROLONG_MAX'] - agg_bureau['CNT_CREDIT_PROLONG_MAX'].min())/(agg_bureau['CNT_CREDIT_PROLONG_MAX'].max() - agg_bureau['CNT_CREDIT_PROLONG_MAX'].min()))\n",
    "agg_bureau['AMT_CREDIT_SUM_MAX'] = ((agg_bureau['AMT_CREDIT_SUM_MAX'] - agg_bureau['AMT_CREDIT_SUM_MAX'].min())/(agg_bureau['AMT_CREDIT_SUM_MAX'].max() - agg_bureau['AMT_CREDIT_SUM_MAX'].min()))\n",
    "agg_bureau['AMT_CREDIT_SUM_MEAN'] = ((agg_bureau['AMT_CREDIT_SUM_MEAN'] - agg_bureau['AMT_CREDIT_SUM_MEAN'].min())/(agg_bureau['AMT_CREDIT_SUM_MEAN'].max() - agg_bureau['AMT_CREDIT_SUM_MEAN'].min()))\n",
    "agg_bureau['AMT_CREDIT_SUM_DEBT_MAX'] = ((agg_bureau['AMT_CREDIT_SUM_DEBT_MAX'] - agg_bureau['AMT_CREDIT_SUM_DEBT_MAX'].min())/(agg_bureau['AMT_CREDIT_SUM_DEBT_MAX'].max() - agg_bureau['AMT_CREDIT_SUM_DEBT_MAX'].min()))\n",
    "agg_bureau['AMT_CREDIT_SUM_DEBT_MEAN'] = ((agg_bureau['AMT_CREDIT_SUM_DEBT_MEAN'] - agg_bureau['AMT_CREDIT_SUM_DEBT_MEAN'].min())/(agg_bureau['AMT_CREDIT_SUM_DEBT_MEAN'].max() - agg_bureau['AMT_CREDIT_SUM_DEBT_MEAN'].min()))\n",
    "agg_bureau['AMT_CREDIT_SUM_LIMIT_MAX'] = ((agg_bureau['AMT_CREDIT_SUM_LIMIT_MAX'] - agg_bureau['AMT_CREDIT_SUM_LIMIT_MAX'].min())/(agg_bureau['AMT_CREDIT_SUM_LIMIT_MAX'].max() - agg_bureau['AMT_CREDIT_SUM_LIMIT_MAX'].min()))\n",
    "agg_bureau['AMT_CREDIT_SUM_LIMIT_MEAN'] = ((agg_bureau['AMT_CREDIT_SUM_LIMIT_MEAN'] - agg_bureau['AMT_CREDIT_SUM_LIMIT_MEAN'].min())/(agg_bureau['AMT_CREDIT_SUM_LIMIT_MEAN'].max() - agg_bureau['AMT_CREDIT_SUM_LIMIT_MEAN'].min()))\n",
    "agg_bureau['AMT_CREDIT_SUM_OVERDUE_MAX'] = ((agg_bureau['AMT_CREDIT_SUM_OVERDUE_MAX'] - agg_bureau['AMT_CREDIT_SUM_OVERDUE_MAX'].min())/(agg_bureau['AMT_CREDIT_SUM_OVERDUE_MAX'].max() - agg_bureau['AMT_CREDIT_SUM_OVERDUE_MAX'].min()))\n",
    "agg_bureau['AMT_CREDIT_SUM_OVERDUE_MEAN'] = ((agg_bureau['AMT_CREDIT_SUM_OVERDUE_MEAN'] - agg_bureau['AMT_CREDIT_SUM_OVERDUE_MEAN'].min())/(agg_bureau['AMT_CREDIT_SUM_OVERDUE_MEAN'].max() - agg_bureau['AMT_CREDIT_SUM_OVERDUE_MEAN'].min()))\n",
    "agg_bureau['AMT_ANNUITY_MAX'] = ((agg_bureau['AMT_ANNUITY_MAX'] - agg_bureau['AMT_ANNUITY_MAX'].min())/(agg_bureau['AMT_ANNUITY_MAX'].max() - agg_bureau['AMT_ANNUITY_MAX'].min()))\n",
    "agg_bureau['AMT_ANNUITY_MEAN'] = ((agg_bureau['AMT_ANNUITY_MEAN'] - agg_bureau['AMT_ANNUITY_MEAN'].min())/(agg_bureau['AMT_ANNUITY_MEAN'].max() - agg_bureau['AMT_ANNUITY_MEAN'].min()))\n",
    "agg_bureau['STATUS_MAX_MAX'] = ((agg_bureau['STATUS_MAX_MAX'] - agg_bureau['STATUS_MAX_MAX'].min())/(agg_bureau['STATUS_MAX_MAX'].max() - agg_bureau['STATUS_MAX_MAX'].min()))\n",
    "agg_bureau['STATUS_MEAN_MEAN'] = ((agg_bureau['STATUS_MEAN_MEAN'] - agg_bureau['STATUS_MEAN_MEAN'].min())/(agg_bureau['STATUS_MEAN_MEAN'].max() - agg_bureau['STATUS_MEAN_MEAN'].min()))\n"
   ]
  },
  {
   "cell_type": "code",
   "execution_count": 199,
   "metadata": {},
   "outputs": [],
   "source": [
    "merged_processed_app_train = pd.merge(processed_app_train, agg_bureau, how='left', on='SK_ID_CURR')"
   ]
  },
  {
   "cell_type": "code",
   "execution_count": 200,
   "metadata": {},
   "outputs": [
    {
     "data": {
      "text/html": [
       "<div>\n",
       "<style scoped>\n",
       "    .dataframe tbody tr th:only-of-type {\n",
       "        vertical-align: middle;\n",
       "    }\n",
       "\n",
       "    .dataframe tbody tr th {\n",
       "        vertical-align: top;\n",
       "    }\n",
       "\n",
       "    .dataframe thead th {\n",
       "        text-align: right;\n",
       "    }\n",
       "</style>\n",
       "<table border=\"1\" class=\"dataframe\">\n",
       "  <thead>\n",
       "    <tr style=\"text-align: right;\">\n",
       "      <th></th>\n",
       "      <th>SK_ID_CURR</th>\n",
       "      <th>TARGET</th>\n",
       "      <th>FLAG_OWN_CAR</th>\n",
       "      <th>FLAG_OWN_REALTY</th>\n",
       "      <th>CNT_CHILDREN</th>\n",
       "      <th>AMT_INCOME_TOTAL</th>\n",
       "      <th>AMT_CREDIT</th>\n",
       "      <th>AMT_ANNUITY</th>\n",
       "      <th>AMT_GOODS_PRICE</th>\n",
       "      <th>REGION_POPULATION_RELATIVE</th>\n",
       "      <th>...</th>\n",
       "      <th>AMT_CREDIT_SUM_DEBT_MAX</th>\n",
       "      <th>AMT_CREDIT_SUM_DEBT_MEAN</th>\n",
       "      <th>AMT_CREDIT_SUM_LIMIT_MAX</th>\n",
       "      <th>AMT_CREDIT_SUM_LIMIT_MEAN</th>\n",
       "      <th>AMT_CREDIT_SUM_OVERDUE_MAX</th>\n",
       "      <th>AMT_CREDIT_SUM_OVERDUE_MEAN</th>\n",
       "      <th>AMT_ANNUITY_MAX</th>\n",
       "      <th>AMT_ANNUITY_MEAN</th>\n",
       "      <th>STATUS_MAX_MAX</th>\n",
       "      <th>STATUS_MEAN_MEAN</th>\n",
       "    </tr>\n",
       "  </thead>\n",
       "  <tbody>\n",
       "    <tr>\n",
       "      <th>0</th>\n",
       "      <td>100002</td>\n",
       "      <td>1</td>\n",
       "      <td>0</td>\n",
       "      <td>1</td>\n",
       "      <td>0.0</td>\n",
       "      <td>0.245235</td>\n",
       "      <td>0.489168</td>\n",
       "      <td>0.537543</td>\n",
       "      <td>0.468926</td>\n",
       "      <td>0.256321</td>\n",
       "      <td>...</td>\n",
       "      <td>0.001597</td>\n",
       "      <td>0.02144</td>\n",
       "      <td>0.007167</td>\n",
       "      <td>0.023030</td>\n",
       "      <td>0.0</td>\n",
       "      <td>0.0</td>\n",
       "      <td>0.0</td>\n",
       "      <td>0.0</td>\n",
       "      <td>0.2</td>\n",
       "      <td>0.059844</td>\n",
       "    </tr>\n",
       "    <tr>\n",
       "      <th>1</th>\n",
       "      <td>100003</td>\n",
       "      <td>0</td>\n",
       "      <td>0</td>\n",
       "      <td>0</td>\n",
       "      <td>0.0</td>\n",
       "      <td>0.279379</td>\n",
       "      <td>0.746353</td>\n",
       "      <td>0.610134</td>\n",
       "      <td>0.722716</td>\n",
       "      <td>0.045016</td>\n",
       "      <td>...</td>\n",
       "      <td>0.000153</td>\n",
       "      <td>0.02051</td>\n",
       "      <td>0.172443</td>\n",
       "      <td>0.065332</td>\n",
       "      <td>0.0</td>\n",
       "      <td>0.0</td>\n",
       "      <td>NaN</td>\n",
       "      <td>NaN</td>\n",
       "      <td>NaN</td>\n",
       "      <td>NaN</td>\n",
       "    </tr>\n",
       "    <tr>\n",
       "      <th>2</th>\n",
       "      <td>100004</td>\n",
       "      <td>0</td>\n",
       "      <td>1</td>\n",
       "      <td>1</td>\n",
       "      <td>0.0</td>\n",
       "      <td>0.114842</td>\n",
       "      <td>0.244146</td>\n",
       "      <td>0.281841</td>\n",
       "      <td>0.261439</td>\n",
       "      <td>0.134897</td>\n",
       "      <td>...</td>\n",
       "      <td>0.000153</td>\n",
       "      <td>0.02051</td>\n",
       "      <td>0.000371</td>\n",
       "      <td>0.021291</td>\n",
       "      <td>0.0</td>\n",
       "      <td>0.0</td>\n",
       "      <td>NaN</td>\n",
       "      <td>NaN</td>\n",
       "      <td>NaN</td>\n",
       "      <td>NaN</td>\n",
       "    </tr>\n",
       "    <tr>\n",
       "      <th>3</th>\n",
       "      <td>100006</td>\n",
       "      <td>0</td>\n",
       "      <td>0</td>\n",
       "      <td>1</td>\n",
       "      <td>0.0</td>\n",
       "      <td>0.197110</td>\n",
       "      <td>0.430802</td>\n",
       "      <td>0.573785</td>\n",
       "      <td>0.432651</td>\n",
       "      <td>0.107023</td>\n",
       "      <td>...</td>\n",
       "      <td>NaN</td>\n",
       "      <td>NaN</td>\n",
       "      <td>NaN</td>\n",
       "      <td>NaN</td>\n",
       "      <td>NaN</td>\n",
       "      <td>NaN</td>\n",
       "      <td>NaN</td>\n",
       "      <td>NaN</td>\n",
       "      <td>NaN</td>\n",
       "      <td>NaN</td>\n",
       "    </tr>\n",
       "    <tr>\n",
       "      <th>4</th>\n",
       "      <td>100007</td>\n",
       "      <td>0</td>\n",
       "      <td>0</td>\n",
       "      <td>1</td>\n",
       "      <td>0.0</td>\n",
       "      <td>0.184605</td>\n",
       "      <td>0.540826</td>\n",
       "      <td>0.513513</td>\n",
       "      <td>0.551331</td>\n",
       "      <td>0.392880</td>\n",
       "      <td>...</td>\n",
       "      <td>0.000153</td>\n",
       "      <td>0.02051</td>\n",
       "      <td>0.000371</td>\n",
       "      <td>0.021291</td>\n",
       "      <td>0.0</td>\n",
       "      <td>0.0</td>\n",
       "      <td>NaN</td>\n",
       "      <td>NaN</td>\n",
       "      <td>NaN</td>\n",
       "      <td>NaN</td>\n",
       "    </tr>\n",
       "  </tbody>\n",
       "</table>\n",
       "<p>5 rows × 269 columns</p>\n",
       "</div>"
      ],
      "text/plain": [
       "   SK_ID_CURR  TARGET  FLAG_OWN_CAR  FLAG_OWN_REALTY  CNT_CHILDREN  \\\n",
       "0      100002       1             0                1           0.0   \n",
       "1      100003       0             0                0           0.0   \n",
       "2      100004       0             1                1           0.0   \n",
       "3      100006       0             0                1           0.0   \n",
       "4      100007       0             0                1           0.0   \n",
       "\n",
       "   AMT_INCOME_TOTAL  AMT_CREDIT  AMT_ANNUITY  AMT_GOODS_PRICE  \\\n",
       "0          0.245235    0.489168     0.537543         0.468926   \n",
       "1          0.279379    0.746353     0.610134         0.722716   \n",
       "2          0.114842    0.244146     0.281841         0.261439   \n",
       "3          0.197110    0.430802     0.573785         0.432651   \n",
       "4          0.184605    0.540826     0.513513         0.551331   \n",
       "\n",
       "   REGION_POPULATION_RELATIVE        ...         AMT_CREDIT_SUM_DEBT_MAX  \\\n",
       "0                    0.256321        ...                        0.001597   \n",
       "1                    0.045016        ...                        0.000153   \n",
       "2                    0.134897        ...                        0.000153   \n",
       "3                    0.107023        ...                             NaN   \n",
       "4                    0.392880        ...                        0.000153   \n",
       "\n",
       "   AMT_CREDIT_SUM_DEBT_MEAN  AMT_CREDIT_SUM_LIMIT_MAX  \\\n",
       "0                   0.02144                  0.007167   \n",
       "1                   0.02051                  0.172443   \n",
       "2                   0.02051                  0.000371   \n",
       "3                       NaN                       NaN   \n",
       "4                   0.02051                  0.000371   \n",
       "\n",
       "   AMT_CREDIT_SUM_LIMIT_MEAN  AMT_CREDIT_SUM_OVERDUE_MAX  \\\n",
       "0                   0.023030                         0.0   \n",
       "1                   0.065332                         0.0   \n",
       "2                   0.021291                         0.0   \n",
       "3                        NaN                         NaN   \n",
       "4                   0.021291                         0.0   \n",
       "\n",
       "   AMT_CREDIT_SUM_OVERDUE_MEAN  AMT_ANNUITY_MAX  AMT_ANNUITY_MEAN  \\\n",
       "0                          0.0              0.0               0.0   \n",
       "1                          0.0              NaN               NaN   \n",
       "2                          0.0              NaN               NaN   \n",
       "3                          NaN              NaN               NaN   \n",
       "4                          0.0              NaN               NaN   \n",
       "\n",
       "   STATUS_MAX_MAX  STATUS_MEAN_MEAN  \n",
       "0             0.2          0.059844  \n",
       "1             NaN               NaN  \n",
       "2             NaN               NaN  \n",
       "3             NaN               NaN  \n",
       "4             NaN               NaN  \n",
       "\n",
       "[5 rows x 269 columns]"
      ]
     },
     "execution_count": 200,
     "metadata": {},
     "output_type": "execute_result"
    }
   ],
   "source": [
    "merged_processed_app_train.head()"
   ]
  },
  {
   "cell_type": "markdown",
   "metadata": {},
   "source": [
    "## TABLE POS_CASH_balance.csv"
   ]
  },
  {
   "cell_type": "code",
   "execution_count": 9,
   "metadata": {},
   "outputs": [
    {
     "data": {
      "text/plain": [
       "(10001358, 8)"
      ]
     },
     "execution_count": 9,
     "metadata": {},
     "output_type": "execute_result"
    }
   ],
   "source": [
    "pos_cash = pd.read_csv(\"data/POS_CASH_balance.csv\")\n",
    "pos_cash.shape"
   ]
  },
  {
   "cell_type": "code",
   "execution_count": 202,
   "metadata": {},
   "outputs": [
    {
     "data": {
      "text/html": [
       "<div>\n",
       "<style scoped>\n",
       "    .dataframe tbody tr th:only-of-type {\n",
       "        vertical-align: middle;\n",
       "    }\n",
       "\n",
       "    .dataframe tbody tr th {\n",
       "        vertical-align: top;\n",
       "    }\n",
       "\n",
       "    .dataframe thead th {\n",
       "        text-align: right;\n",
       "    }\n",
       "</style>\n",
       "<table border=\"1\" class=\"dataframe\">\n",
       "  <thead>\n",
       "    <tr style=\"text-align: right;\">\n",
       "      <th></th>\n",
       "      <th>SK_ID_PREV</th>\n",
       "      <th>SK_ID_CURR</th>\n",
       "      <th>MONTHS_BALANCE</th>\n",
       "      <th>CNT_INSTALMENT</th>\n",
       "      <th>CNT_INSTALMENT_FUTURE</th>\n",
       "      <th>NAME_CONTRACT_STATUS</th>\n",
       "      <th>SK_DPD</th>\n",
       "      <th>SK_DPD_DEF</th>\n",
       "    </tr>\n",
       "  </thead>\n",
       "  <tbody>\n",
       "    <tr>\n",
       "      <th>0</th>\n",
       "      <td>1803195</td>\n",
       "      <td>182943</td>\n",
       "      <td>-31</td>\n",
       "      <td>48.0</td>\n",
       "      <td>45.0</td>\n",
       "      <td>Active</td>\n",
       "      <td>0</td>\n",
       "      <td>0</td>\n",
       "    </tr>\n",
       "    <tr>\n",
       "      <th>1</th>\n",
       "      <td>1715348</td>\n",
       "      <td>367990</td>\n",
       "      <td>-33</td>\n",
       "      <td>36.0</td>\n",
       "      <td>35.0</td>\n",
       "      <td>Active</td>\n",
       "      <td>0</td>\n",
       "      <td>0</td>\n",
       "    </tr>\n",
       "    <tr>\n",
       "      <th>2</th>\n",
       "      <td>1784872</td>\n",
       "      <td>397406</td>\n",
       "      <td>-32</td>\n",
       "      <td>12.0</td>\n",
       "      <td>9.0</td>\n",
       "      <td>Active</td>\n",
       "      <td>0</td>\n",
       "      <td>0</td>\n",
       "    </tr>\n",
       "    <tr>\n",
       "      <th>3</th>\n",
       "      <td>1903291</td>\n",
       "      <td>269225</td>\n",
       "      <td>-35</td>\n",
       "      <td>48.0</td>\n",
       "      <td>42.0</td>\n",
       "      <td>Active</td>\n",
       "      <td>0</td>\n",
       "      <td>0</td>\n",
       "    </tr>\n",
       "    <tr>\n",
       "      <th>4</th>\n",
       "      <td>2341044</td>\n",
       "      <td>334279</td>\n",
       "      <td>-35</td>\n",
       "      <td>36.0</td>\n",
       "      <td>35.0</td>\n",
       "      <td>Active</td>\n",
       "      <td>0</td>\n",
       "      <td>0</td>\n",
       "    </tr>\n",
       "  </tbody>\n",
       "</table>\n",
       "</div>"
      ],
      "text/plain": [
       "   SK_ID_PREV  SK_ID_CURR  MONTHS_BALANCE  CNT_INSTALMENT  \\\n",
       "0     1803195      182943             -31            48.0   \n",
       "1     1715348      367990             -33            36.0   \n",
       "2     1784872      397406             -32            12.0   \n",
       "3     1903291      269225             -35            48.0   \n",
       "4     2341044      334279             -35            36.0   \n",
       "\n",
       "   CNT_INSTALMENT_FUTURE NAME_CONTRACT_STATUS  SK_DPD  SK_DPD_DEF  \n",
       "0                   45.0               Active       0           0  \n",
       "1                   35.0               Active       0           0  \n",
       "2                    9.0               Active       0           0  \n",
       "3                   42.0               Active       0           0  \n",
       "4                   35.0               Active       0           0  "
      ]
     },
     "execution_count": 202,
     "metadata": {},
     "output_type": "execute_result"
    }
   ],
   "source": [
    "pos_cash.head()"
   ]
  },
  {
   "cell_type": "code",
   "execution_count": 203,
   "metadata": {},
   "outputs": [
    {
     "data": {
      "text/html": [
       "<div>\n",
       "<style scoped>\n",
       "    .dataframe tbody tr th:only-of-type {\n",
       "        vertical-align: middle;\n",
       "    }\n",
       "\n",
       "    .dataframe tbody tr th {\n",
       "        vertical-align: top;\n",
       "    }\n",
       "\n",
       "    .dataframe thead th {\n",
       "        text-align: right;\n",
       "    }\n",
       "</style>\n",
       "<table border=\"1\" class=\"dataframe\">\n",
       "  <thead>\n",
       "    <tr style=\"text-align: right;\">\n",
       "      <th></th>\n",
       "      <th>SK_ID_CURR</th>\n",
       "      <th>CNT_INSTALMENT_MAX</th>\n",
       "      <th>CNT_INSTALMENT_MEAN</th>\n",
       "      <th>CNT_INSTALMENT_FUTURE_MAX</th>\n",
       "      <th>CNT_INSTALMENT_FUTURE_MEAN</th>\n",
       "      <th>SK_DPD_MAX</th>\n",
       "      <th>SK_DPD_MEAN</th>\n",
       "      <th>SK_DPD_DEF_MAX</th>\n",
       "      <th>SK_DPD_DEF_MEAN</th>\n",
       "    </tr>\n",
       "  </thead>\n",
       "  <tbody>\n",
       "    <tr>\n",
       "      <th>0</th>\n",
       "      <td>100001</td>\n",
       "      <td>4.0</td>\n",
       "      <td>4.000000</td>\n",
       "      <td>4.0</td>\n",
       "      <td>1.444444</td>\n",
       "      <td>7</td>\n",
       "      <td>0.777778</td>\n",
       "      <td>7</td>\n",
       "      <td>0.777778</td>\n",
       "    </tr>\n",
       "    <tr>\n",
       "      <th>1</th>\n",
       "      <td>100002</td>\n",
       "      <td>24.0</td>\n",
       "      <td>24.000000</td>\n",
       "      <td>24.0</td>\n",
       "      <td>15.000000</td>\n",
       "      <td>0</td>\n",
       "      <td>0.000000</td>\n",
       "      <td>0</td>\n",
       "      <td>0.000000</td>\n",
       "    </tr>\n",
       "    <tr>\n",
       "      <th>2</th>\n",
       "      <td>100003</td>\n",
       "      <td>12.0</td>\n",
       "      <td>10.107143</td>\n",
       "      <td>12.0</td>\n",
       "      <td>5.785714</td>\n",
       "      <td>0</td>\n",
       "      <td>0.000000</td>\n",
       "      <td>0</td>\n",
       "      <td>0.000000</td>\n",
       "    </tr>\n",
       "    <tr>\n",
       "      <th>3</th>\n",
       "      <td>100004</td>\n",
       "      <td>4.0</td>\n",
       "      <td>3.750000</td>\n",
       "      <td>4.0</td>\n",
       "      <td>2.250000</td>\n",
       "      <td>0</td>\n",
       "      <td>0.000000</td>\n",
       "      <td>0</td>\n",
       "      <td>0.000000</td>\n",
       "    </tr>\n",
       "    <tr>\n",
       "      <th>4</th>\n",
       "      <td>100005</td>\n",
       "      <td>12.0</td>\n",
       "      <td>11.700000</td>\n",
       "      <td>12.0</td>\n",
       "      <td>7.200000</td>\n",
       "      <td>0</td>\n",
       "      <td>0.000000</td>\n",
       "      <td>0</td>\n",
       "      <td>0.000000</td>\n",
       "    </tr>\n",
       "  </tbody>\n",
       "</table>\n",
       "</div>"
      ],
      "text/plain": [
       "   SK_ID_CURR  CNT_INSTALMENT_MAX  CNT_INSTALMENT_MEAN  \\\n",
       "0      100001                 4.0             4.000000   \n",
       "1      100002                24.0            24.000000   \n",
       "2      100003                12.0            10.107143   \n",
       "3      100004                 4.0             3.750000   \n",
       "4      100005                12.0            11.700000   \n",
       "\n",
       "   CNT_INSTALMENT_FUTURE_MAX  CNT_INSTALMENT_FUTURE_MEAN  SK_DPD_MAX  \\\n",
       "0                        4.0                    1.444444           7   \n",
       "1                       24.0                   15.000000           0   \n",
       "2                       12.0                    5.785714           0   \n",
       "3                        4.0                    2.250000           0   \n",
       "4                       12.0                    7.200000           0   \n",
       "\n",
       "   SK_DPD_MEAN  SK_DPD_DEF_MAX  SK_DPD_DEF_MEAN  \n",
       "0     0.777778               7         0.777778  \n",
       "1     0.000000               0         0.000000  \n",
       "2     0.000000               0         0.000000  \n",
       "3     0.000000               0         0.000000  \n",
       "4     0.000000               0         0.000000  "
      ]
     },
     "execution_count": 203,
     "metadata": {},
     "output_type": "execute_result"
    }
   ],
   "source": [
    "agg_pos_cash = pos_cash.groupby('SK_ID_CURR').agg({'CNT_INSTALMENT':['max', 'mean'],\n",
    "                                                      'CNT_INSTALMENT_FUTURE':['max', 'mean'],\n",
    "                                                      'SK_DPD':['max', 'mean'],\n",
    "                                                      'SK_DPD_DEF':['max', 'mean']})\n",
    "agg_pos_cash.columns = agg_pos_cash.columns.map('_'.join).str.strip('_')\n",
    "agg_pos_cash.columns = map(str.upper, agg_pos_cash.columns)\n",
    "agg_pos_cash.reset_index(inplace=True)\n",
    "agg_pos_cash.head()"
   ]
  },
  {
   "cell_type": "code",
   "execution_count": 204,
   "metadata": {},
   "outputs": [],
   "source": [
    "# Feature scaling (min-max normalization)\n",
    "agg_pos_cash['CNT_INSTALMENT_MAX'] = ((agg_pos_cash['CNT_INSTALMENT_MAX'] - agg_pos_cash['CNT_INSTALMENT_MAX'].min())/(agg_pos_cash['CNT_INSTALMENT_MAX'].max() - agg_pos_cash['CNT_INSTALMENT_MAX'].min()))\n",
    "agg_pos_cash['CNT_INSTALMENT_MEAN'] = ((agg_pos_cash['CNT_INSTALMENT_MEAN'] - agg_pos_cash['CNT_INSTALMENT_MEAN'].min())/(agg_pos_cash['CNT_INSTALMENT_MEAN'].max() - agg_pos_cash['CNT_INSTALMENT_MEAN'].min()))\n",
    "agg_pos_cash['CNT_INSTALMENT_FUTURE_MAX'] = ((agg_pos_cash['CNT_INSTALMENT_FUTURE_MAX'] - agg_pos_cash['CNT_INSTALMENT_FUTURE_MAX'].min())/(agg_pos_cash['CNT_INSTALMENT_FUTURE_MAX'].max() - agg_pos_cash['CNT_INSTALMENT_FUTURE_MAX'].min()))\n",
    "agg_pos_cash['CNT_INSTALMENT_FUTURE_MEAN'] = ((agg_pos_cash['CNT_INSTALMENT_FUTURE_MEAN'] - agg_pos_cash['CNT_INSTALMENT_FUTURE_MEAN'].min())/(agg_pos_cash['CNT_INSTALMENT_FUTURE_MEAN'].max() - agg_pos_cash['CNT_INSTALMENT_FUTURE_MEAN'].min()))\n",
    "agg_pos_cash['SK_DPD_MAX'] = ((agg_pos_cash['SK_DPD_MAX'] - agg_pos_cash['SK_DPD_MAX'].min())/(agg_pos_cash['SK_DPD_MAX'].max() - agg_pos_cash['SK_DPD_MAX'].min()))\n",
    "agg_pos_cash['SK_DPD_MEAN'] = ((agg_pos_cash['SK_DPD_MEAN'] - agg_pos_cash['SK_DPD_MEAN'].min())/(agg_pos_cash['SK_DPD_MEAN'].max() - agg_pos_cash['SK_DPD_MEAN'].min()))\n",
    "agg_pos_cash['SK_DPD_DEF_MAX'] = ((agg_pos_cash['SK_DPD_DEF_MAX'] - agg_pos_cash['SK_DPD_DEF_MAX'].min())/(agg_pos_cash['SK_DPD_DEF_MAX'].max() - agg_pos_cash['SK_DPD_DEF_MAX'].min()))\n",
    "agg_pos_cash['SK_DPD_DEF_MEAN'] = ((agg_pos_cash['SK_DPD_DEF_MEAN'] - agg_pos_cash['SK_DPD_DEF_MEAN'].min())/(agg_pos_cash['SK_DPD_DEF_MEAN'].max() - agg_pos_cash['SK_DPD_DEF_MEAN'].min()))"
   ]
  },
  {
   "cell_type": "code",
   "execution_count": 205,
   "metadata": {},
   "outputs": [],
   "source": [
    "merged_processed_app_train = pd.merge(merged_processed_app_train, agg_pos_cash, how='left', on='SK_ID_CURR')"
   ]
  },
  {
   "cell_type": "markdown",
   "metadata": {},
   "source": [
    "## TABLE credit_card_balance.csv"
   ]
  },
  {
   "cell_type": "code",
   "execution_count": 8,
   "metadata": {},
   "outputs": [
    {
     "data": {
      "text/plain": [
       "(3840312, 23)"
      ]
     },
     "execution_count": 8,
     "metadata": {},
     "output_type": "execute_result"
    }
   ],
   "source": [
    "credit_card = pd.read_csv(\"data/credit_card_balance.csv\")\n",
    "credit_card.shape"
   ]
  },
  {
   "cell_type": "code",
   "execution_count": 207,
   "metadata": {
    "scrolled": true
   },
   "outputs": [
    {
     "data": {
      "text/html": [
       "<div>\n",
       "<style scoped>\n",
       "    .dataframe tbody tr th:only-of-type {\n",
       "        vertical-align: middle;\n",
       "    }\n",
       "\n",
       "    .dataframe tbody tr th {\n",
       "        vertical-align: top;\n",
       "    }\n",
       "\n",
       "    .dataframe thead th {\n",
       "        text-align: right;\n",
       "    }\n",
       "</style>\n",
       "<table border=\"1\" class=\"dataframe\">\n",
       "  <thead>\n",
       "    <tr style=\"text-align: right;\">\n",
       "      <th></th>\n",
       "      <th>SK_ID_PREV</th>\n",
       "      <th>SK_ID_CURR</th>\n",
       "      <th>MONTHS_BALANCE</th>\n",
       "      <th>AMT_BALANCE</th>\n",
       "      <th>AMT_CREDIT_LIMIT_ACTUAL</th>\n",
       "      <th>AMT_DRAWINGS_ATM_CURRENT</th>\n",
       "      <th>AMT_DRAWINGS_CURRENT</th>\n",
       "      <th>AMT_DRAWINGS_OTHER_CURRENT</th>\n",
       "      <th>AMT_DRAWINGS_POS_CURRENT</th>\n",
       "      <th>AMT_INST_MIN_REGULARITY</th>\n",
       "      <th>...</th>\n",
       "      <th>AMT_RECIVABLE</th>\n",
       "      <th>AMT_TOTAL_RECEIVABLE</th>\n",
       "      <th>CNT_DRAWINGS_ATM_CURRENT</th>\n",
       "      <th>CNT_DRAWINGS_CURRENT</th>\n",
       "      <th>CNT_DRAWINGS_OTHER_CURRENT</th>\n",
       "      <th>CNT_DRAWINGS_POS_CURRENT</th>\n",
       "      <th>CNT_INSTALMENT_MATURE_CUM</th>\n",
       "      <th>NAME_CONTRACT_STATUS</th>\n",
       "      <th>SK_DPD</th>\n",
       "      <th>SK_DPD_DEF</th>\n",
       "    </tr>\n",
       "  </thead>\n",
       "  <tbody>\n",
       "    <tr>\n",
       "      <th>0</th>\n",
       "      <td>2562384</td>\n",
       "      <td>378907</td>\n",
       "      <td>-6</td>\n",
       "      <td>56.970</td>\n",
       "      <td>135000</td>\n",
       "      <td>0.0</td>\n",
       "      <td>877.5</td>\n",
       "      <td>0.0</td>\n",
       "      <td>877.5</td>\n",
       "      <td>1700.325</td>\n",
       "      <td>...</td>\n",
       "      <td>0.000</td>\n",
       "      <td>0.000</td>\n",
       "      <td>0.0</td>\n",
       "      <td>1</td>\n",
       "      <td>0.0</td>\n",
       "      <td>1.0</td>\n",
       "      <td>35.0</td>\n",
       "      <td>Active</td>\n",
       "      <td>0</td>\n",
       "      <td>0</td>\n",
       "    </tr>\n",
       "    <tr>\n",
       "      <th>1</th>\n",
       "      <td>2582071</td>\n",
       "      <td>363914</td>\n",
       "      <td>-1</td>\n",
       "      <td>63975.555</td>\n",
       "      <td>45000</td>\n",
       "      <td>2250.0</td>\n",
       "      <td>2250.0</td>\n",
       "      <td>0.0</td>\n",
       "      <td>0.0</td>\n",
       "      <td>2250.000</td>\n",
       "      <td>...</td>\n",
       "      <td>64875.555</td>\n",
       "      <td>64875.555</td>\n",
       "      <td>1.0</td>\n",
       "      <td>1</td>\n",
       "      <td>0.0</td>\n",
       "      <td>0.0</td>\n",
       "      <td>69.0</td>\n",
       "      <td>Active</td>\n",
       "      <td>0</td>\n",
       "      <td>0</td>\n",
       "    </tr>\n",
       "    <tr>\n",
       "      <th>2</th>\n",
       "      <td>1740877</td>\n",
       "      <td>371185</td>\n",
       "      <td>-7</td>\n",
       "      <td>31815.225</td>\n",
       "      <td>450000</td>\n",
       "      <td>0.0</td>\n",
       "      <td>0.0</td>\n",
       "      <td>0.0</td>\n",
       "      <td>0.0</td>\n",
       "      <td>2250.000</td>\n",
       "      <td>...</td>\n",
       "      <td>31460.085</td>\n",
       "      <td>31460.085</td>\n",
       "      <td>0.0</td>\n",
       "      <td>0</td>\n",
       "      <td>0.0</td>\n",
       "      <td>0.0</td>\n",
       "      <td>30.0</td>\n",
       "      <td>Active</td>\n",
       "      <td>0</td>\n",
       "      <td>0</td>\n",
       "    </tr>\n",
       "    <tr>\n",
       "      <th>3</th>\n",
       "      <td>1389973</td>\n",
       "      <td>337855</td>\n",
       "      <td>-4</td>\n",
       "      <td>236572.110</td>\n",
       "      <td>225000</td>\n",
       "      <td>2250.0</td>\n",
       "      <td>2250.0</td>\n",
       "      <td>0.0</td>\n",
       "      <td>0.0</td>\n",
       "      <td>11795.760</td>\n",
       "      <td>...</td>\n",
       "      <td>233048.970</td>\n",
       "      <td>233048.970</td>\n",
       "      <td>1.0</td>\n",
       "      <td>1</td>\n",
       "      <td>0.0</td>\n",
       "      <td>0.0</td>\n",
       "      <td>10.0</td>\n",
       "      <td>Active</td>\n",
       "      <td>0</td>\n",
       "      <td>0</td>\n",
       "    </tr>\n",
       "    <tr>\n",
       "      <th>4</th>\n",
       "      <td>1891521</td>\n",
       "      <td>126868</td>\n",
       "      <td>-1</td>\n",
       "      <td>453919.455</td>\n",
       "      <td>450000</td>\n",
       "      <td>0.0</td>\n",
       "      <td>11547.0</td>\n",
       "      <td>0.0</td>\n",
       "      <td>11547.0</td>\n",
       "      <td>22924.890</td>\n",
       "      <td>...</td>\n",
       "      <td>453919.455</td>\n",
       "      <td>453919.455</td>\n",
       "      <td>0.0</td>\n",
       "      <td>1</td>\n",
       "      <td>0.0</td>\n",
       "      <td>1.0</td>\n",
       "      <td>101.0</td>\n",
       "      <td>Active</td>\n",
       "      <td>0</td>\n",
       "      <td>0</td>\n",
       "    </tr>\n",
       "  </tbody>\n",
       "</table>\n",
       "<p>5 rows × 23 columns</p>\n",
       "</div>"
      ],
      "text/plain": [
       "   SK_ID_PREV  SK_ID_CURR  MONTHS_BALANCE  AMT_BALANCE  \\\n",
       "0     2562384      378907              -6       56.970   \n",
       "1     2582071      363914              -1    63975.555   \n",
       "2     1740877      371185              -7    31815.225   \n",
       "3     1389973      337855              -4   236572.110   \n",
       "4     1891521      126868              -1   453919.455   \n",
       "\n",
       "   AMT_CREDIT_LIMIT_ACTUAL  AMT_DRAWINGS_ATM_CURRENT  AMT_DRAWINGS_CURRENT  \\\n",
       "0                   135000                       0.0                 877.5   \n",
       "1                    45000                    2250.0                2250.0   \n",
       "2                   450000                       0.0                   0.0   \n",
       "3                   225000                    2250.0                2250.0   \n",
       "4                   450000                       0.0               11547.0   \n",
       "\n",
       "   AMT_DRAWINGS_OTHER_CURRENT  AMT_DRAWINGS_POS_CURRENT  \\\n",
       "0                         0.0                     877.5   \n",
       "1                         0.0                       0.0   \n",
       "2                         0.0                       0.0   \n",
       "3                         0.0                       0.0   \n",
       "4                         0.0                   11547.0   \n",
       "\n",
       "   AMT_INST_MIN_REGULARITY     ...      AMT_RECIVABLE  AMT_TOTAL_RECEIVABLE  \\\n",
       "0                 1700.325     ...              0.000                 0.000   \n",
       "1                 2250.000     ...          64875.555             64875.555   \n",
       "2                 2250.000     ...          31460.085             31460.085   \n",
       "3                11795.760     ...         233048.970            233048.970   \n",
       "4                22924.890     ...         453919.455            453919.455   \n",
       "\n",
       "   CNT_DRAWINGS_ATM_CURRENT  CNT_DRAWINGS_CURRENT  CNT_DRAWINGS_OTHER_CURRENT  \\\n",
       "0                       0.0                     1                         0.0   \n",
       "1                       1.0                     1                         0.0   \n",
       "2                       0.0                     0                         0.0   \n",
       "3                       1.0                     1                         0.0   \n",
       "4                       0.0                     1                         0.0   \n",
       "\n",
       "   CNT_DRAWINGS_POS_CURRENT  CNT_INSTALMENT_MATURE_CUM  NAME_CONTRACT_STATUS  \\\n",
       "0                       1.0                       35.0                Active   \n",
       "1                       0.0                       69.0                Active   \n",
       "2                       0.0                       30.0                Active   \n",
       "3                       0.0                       10.0                Active   \n",
       "4                       1.0                      101.0                Active   \n",
       "\n",
       "   SK_DPD  SK_DPD_DEF  \n",
       "0       0           0  \n",
       "1       0           0  \n",
       "2       0           0  \n",
       "3       0           0  \n",
       "4       0           0  \n",
       "\n",
       "[5 rows x 23 columns]"
      ]
     },
     "execution_count": 207,
     "metadata": {},
     "output_type": "execute_result"
    }
   ],
   "source": [
    "credit_card.head()"
   ]
  },
  {
   "cell_type": "code",
   "execution_count": 208,
   "metadata": {},
   "outputs": [
    {
     "data": {
      "text/html": [
       "<div>\n",
       "<style scoped>\n",
       "    .dataframe tbody tr th:only-of-type {\n",
       "        vertical-align: middle;\n",
       "    }\n",
       "\n",
       "    .dataframe tbody tr th {\n",
       "        vertical-align: top;\n",
       "    }\n",
       "\n",
       "    .dataframe thead th {\n",
       "        text-align: right;\n",
       "    }\n",
       "</style>\n",
       "<table border=\"1\" class=\"dataframe\">\n",
       "  <thead>\n",
       "    <tr style=\"text-align: right;\">\n",
       "      <th></th>\n",
       "      <th>SK_ID_CURR</th>\n",
       "      <th>AMT_BALANCE_MAX</th>\n",
       "      <th>AMT_BALANCE_MEAN</th>\n",
       "      <th>AMT_CREDIT_LIMIT_ACTUAL_MAX</th>\n",
       "      <th>AMT_CREDIT_LIMIT_ACTUAL_MEAN</th>\n",
       "      <th>CNT_DRAWINGS_ATM_CURRENT_MAX</th>\n",
       "      <th>CNT_DRAWINGS_ATM_CURRENT_MEAN</th>\n",
       "      <th>CNT_INSTALMENT_MATURE_CUM_MAX</th>\n",
       "      <th>CNT_INSTALMENT_MATURE_CUM_MEAN</th>\n",
       "      <th>SK_DPD_MAX</th>\n",
       "      <th>SK_DPD_MEAN</th>\n",
       "      <th>SK_DPD_DEF_MAX</th>\n",
       "      <th>SK_DPD_DEF_MEAN</th>\n",
       "    </tr>\n",
       "  </thead>\n",
       "  <tbody>\n",
       "    <tr>\n",
       "      <th>0</th>\n",
       "      <td>100006</td>\n",
       "      <td>0.00</td>\n",
       "      <td>0.000000</td>\n",
       "      <td>270000</td>\n",
       "      <td>270000.000000</td>\n",
       "      <td>NaN</td>\n",
       "      <td>NaN</td>\n",
       "      <td>0.0</td>\n",
       "      <td>0.000000</td>\n",
       "      <td>0</td>\n",
       "      <td>0.000000</td>\n",
       "      <td>0</td>\n",
       "      <td>0.000000</td>\n",
       "    </tr>\n",
       "    <tr>\n",
       "      <th>1</th>\n",
       "      <td>100011</td>\n",
       "      <td>189000.00</td>\n",
       "      <td>54482.111149</td>\n",
       "      <td>180000</td>\n",
       "      <td>164189.189189</td>\n",
       "      <td>4.0</td>\n",
       "      <td>0.054054</td>\n",
       "      <td>33.0</td>\n",
       "      <td>25.767123</td>\n",
       "      <td>0</td>\n",
       "      <td>0.000000</td>\n",
       "      <td>0</td>\n",
       "      <td>0.000000</td>\n",
       "    </tr>\n",
       "    <tr>\n",
       "      <th>2</th>\n",
       "      <td>100013</td>\n",
       "      <td>161420.22</td>\n",
       "      <td>18159.919219</td>\n",
       "      <td>157500</td>\n",
       "      <td>131718.750000</td>\n",
       "      <td>7.0</td>\n",
       "      <td>0.255556</td>\n",
       "      <td>22.0</td>\n",
       "      <td>18.719101</td>\n",
       "      <td>1</td>\n",
       "      <td>0.010417</td>\n",
       "      <td>1</td>\n",
       "      <td>0.010417</td>\n",
       "    </tr>\n",
       "    <tr>\n",
       "      <th>3</th>\n",
       "      <td>100021</td>\n",
       "      <td>0.00</td>\n",
       "      <td>0.000000</td>\n",
       "      <td>675000</td>\n",
       "      <td>675000.000000</td>\n",
       "      <td>NaN</td>\n",
       "      <td>NaN</td>\n",
       "      <td>0.0</td>\n",
       "      <td>0.000000</td>\n",
       "      <td>0</td>\n",
       "      <td>0.000000</td>\n",
       "      <td>0</td>\n",
       "      <td>0.000000</td>\n",
       "    </tr>\n",
       "    <tr>\n",
       "      <th>4</th>\n",
       "      <td>100023</td>\n",
       "      <td>0.00</td>\n",
       "      <td>0.000000</td>\n",
       "      <td>225000</td>\n",
       "      <td>135000.000000</td>\n",
       "      <td>NaN</td>\n",
       "      <td>NaN</td>\n",
       "      <td>0.0</td>\n",
       "      <td>0.000000</td>\n",
       "      <td>0</td>\n",
       "      <td>0.000000</td>\n",
       "      <td>0</td>\n",
       "      <td>0.000000</td>\n",
       "    </tr>\n",
       "  </tbody>\n",
       "</table>\n",
       "</div>"
      ],
      "text/plain": [
       "   SK_ID_CURR  AMT_BALANCE_MAX  AMT_BALANCE_MEAN  AMT_CREDIT_LIMIT_ACTUAL_MAX  \\\n",
       "0      100006             0.00          0.000000                       270000   \n",
       "1      100011        189000.00      54482.111149                       180000   \n",
       "2      100013        161420.22      18159.919219                       157500   \n",
       "3      100021             0.00          0.000000                       675000   \n",
       "4      100023             0.00          0.000000                       225000   \n",
       "\n",
       "   AMT_CREDIT_LIMIT_ACTUAL_MEAN  CNT_DRAWINGS_ATM_CURRENT_MAX  \\\n",
       "0                 270000.000000                           NaN   \n",
       "1                 164189.189189                           4.0   \n",
       "2                 131718.750000                           7.0   \n",
       "3                 675000.000000                           NaN   \n",
       "4                 135000.000000                           NaN   \n",
       "\n",
       "   CNT_DRAWINGS_ATM_CURRENT_MEAN  CNT_INSTALMENT_MATURE_CUM_MAX  \\\n",
       "0                            NaN                            0.0   \n",
       "1                       0.054054                           33.0   \n",
       "2                       0.255556                           22.0   \n",
       "3                            NaN                            0.0   \n",
       "4                            NaN                            0.0   \n",
       "\n",
       "   CNT_INSTALMENT_MATURE_CUM_MEAN  SK_DPD_MAX  SK_DPD_MEAN  SK_DPD_DEF_MAX  \\\n",
       "0                        0.000000           0     0.000000               0   \n",
       "1                       25.767123           0     0.000000               0   \n",
       "2                       18.719101           1     0.010417               1   \n",
       "3                        0.000000           0     0.000000               0   \n",
       "4                        0.000000           0     0.000000               0   \n",
       "\n",
       "   SK_DPD_DEF_MEAN  \n",
       "0         0.000000  \n",
       "1         0.000000  \n",
       "2         0.010417  \n",
       "3         0.000000  \n",
       "4         0.000000  "
      ]
     },
     "execution_count": 208,
     "metadata": {},
     "output_type": "execute_result"
    }
   ],
   "source": [
    "agg_credit_card = credit_card.groupby('SK_ID_CURR').agg({'AMT_BALANCE':['max', 'mean'],\n",
    "                                                     'AMT_CREDIT_LIMIT_ACTUAL':['max', 'mean'],\n",
    "                                                     'CNT_DRAWINGS_ATM_CURRENT':['max', 'mean'],\n",
    "                                                     'CNT_INSTALMENT_MATURE_CUM':['max', 'mean'],\n",
    "                                                     'SK_DPD':['max', 'mean'],\n",
    "                                                     'SK_DPD_DEF':['max', 'mean']})\n",
    "agg_credit_card.columns = agg_credit_card.columns.map('_'.join).str.strip('_')\n",
    "agg_credit_card.columns = map(str.upper, agg_credit_card.columns)\n",
    "agg_credit_card.reset_index(inplace=True)\n",
    "agg_credit_card.head()"
   ]
  },
  {
   "cell_type": "code",
   "execution_count": 209,
   "metadata": {},
   "outputs": [],
   "source": [
    "# Feature scaling (min-max normalization)\n",
    "agg_credit_card['AMT_BALANCE_MAX'] = ((agg_credit_card['AMT_BALANCE_MAX'] - agg_credit_card['AMT_BALANCE_MAX'].min())/(agg_credit_card['AMT_BALANCE_MAX'].max() - agg_credit_card['AMT_BALANCE_MAX'].min()))\n",
    "agg_credit_card['AMT_BALANCE_MEAN'] = ((agg_credit_card['AMT_BALANCE_MEAN'] - agg_credit_card['AMT_BALANCE_MEAN'].min())/(agg_credit_card['AMT_BALANCE_MEAN'].max() - agg_credit_card['AMT_BALANCE_MEAN'].min()))\n",
    "agg_credit_card['AMT_CREDIT_LIMIT_ACTUAL_MAX'] = ((agg_credit_card['AMT_CREDIT_LIMIT_ACTUAL_MAX'] - agg_credit_card['AMT_CREDIT_LIMIT_ACTUAL_MAX'].min())/(agg_credit_card['AMT_CREDIT_LIMIT_ACTUAL_MAX'].max() - agg_credit_card['AMT_CREDIT_LIMIT_ACTUAL_MAX'].min()))\n",
    "agg_credit_card['AMT_CREDIT_LIMIT_ACTUAL_MEAN'] = ((agg_credit_card['AMT_CREDIT_LIMIT_ACTUAL_MEAN'] - agg_credit_card['AMT_CREDIT_LIMIT_ACTUAL_MEAN'].min())/(agg_credit_card['AMT_CREDIT_LIMIT_ACTUAL_MEAN'].max() - agg_credit_card['AMT_CREDIT_LIMIT_ACTUAL_MEAN'].min()))\n",
    "agg_credit_card['CNT_DRAWINGS_ATM_CURRENT_MAX'] = ((agg_credit_card['CNT_DRAWINGS_ATM_CURRENT_MAX'] - agg_credit_card['CNT_DRAWINGS_ATM_CURRENT_MAX'].min())/(agg_credit_card['CNT_DRAWINGS_ATM_CURRENT_MAX'].max() - agg_credit_card['CNT_DRAWINGS_ATM_CURRENT_MAX'].min()))\n",
    "agg_credit_card['CNT_DRAWINGS_ATM_CURRENT_MEAN'] = ((agg_credit_card['CNT_DRAWINGS_ATM_CURRENT_MEAN'] - agg_credit_card['CNT_DRAWINGS_ATM_CURRENT_MEAN'].min())/(agg_credit_card['CNT_DRAWINGS_ATM_CURRENT_MEAN'].max() - agg_credit_card['CNT_DRAWINGS_ATM_CURRENT_MEAN'].min()))\n",
    "agg_credit_card['CNT_INSTALMENT_MATURE_CUM_MAX'] = ((agg_credit_card['CNT_INSTALMENT_MATURE_CUM_MAX'] - agg_credit_card['CNT_INSTALMENT_MATURE_CUM_MAX'].min())/(agg_credit_card['CNT_INSTALMENT_MATURE_CUM_MAX'].max() - agg_credit_card['CNT_INSTALMENT_MATURE_CUM_MAX'].min()))\n",
    "agg_credit_card['CNT_INSTALMENT_MATURE_CUM_MEAN'] = ((agg_credit_card['CNT_INSTALMENT_MATURE_CUM_MEAN'] - agg_credit_card['CNT_INSTALMENT_MATURE_CUM_MEAN'].min())/(agg_credit_card['CNT_INSTALMENT_MATURE_CUM_MEAN'].max() - agg_credit_card['CNT_INSTALMENT_MATURE_CUM_MEAN'].min()))\n",
    "agg_credit_card['SK_DPD_MAX'] = ((agg_credit_card['SK_DPD_MAX'] - agg_credit_card['SK_DPD_MAX'].min())/(agg_credit_card['SK_DPD_MAX'].max() - agg_credit_card['SK_DPD_MAX'].min()))\n",
    "agg_credit_card['SK_DPD_MEAN'] = ((agg_credit_card['SK_DPD_MEAN'] - agg_credit_card['SK_DPD_MEAN'].min())/(agg_credit_card['SK_DPD_MEAN'].max() - agg_credit_card['SK_DPD_MEAN'].min()))\n",
    "agg_credit_card['SK_DPD_DEF_MAX'] = ((agg_credit_card['SK_DPD_DEF_MAX'] - agg_credit_card['SK_DPD_DEF_MAX'].min())/(agg_credit_card['SK_DPD_DEF_MAX'].max() - agg_credit_card['SK_DPD_DEF_MAX'].min()))\n",
    "agg_credit_card['SK_DPD_DEF_MEAN'] = ((agg_credit_card['SK_DPD_DEF_MEAN'] - agg_credit_card['SK_DPD_DEF_MEAN'].min())/(agg_credit_card['SK_DPD_DEF_MEAN'].max() - agg_credit_card['SK_DPD_DEF_MEAN'].min()))"
   ]
  },
  {
   "cell_type": "code",
   "execution_count": 210,
   "metadata": {},
   "outputs": [],
   "source": [
    "merged_processed_app_train = pd.merge(merged_processed_app_train, agg_credit_card, how='left', on='SK_ID_CURR')"
   ]
  },
  {
   "cell_type": "markdown",
   "metadata": {},
   "source": [
    "## TABLE previous_application.csv"
   ]
  },
  {
   "cell_type": "code",
   "execution_count": 7,
   "metadata": {},
   "outputs": [
    {
     "data": {
      "text/plain": [
       "(1670214, 37)"
      ]
     },
     "execution_count": 7,
     "metadata": {},
     "output_type": "execute_result"
    }
   ],
   "source": [
    "previous_application = pd.read_csv(\"data/previous_application.csv\")\n",
    "previous_application.shape"
   ]
  },
  {
   "cell_type": "code",
   "execution_count": 212,
   "metadata": {},
   "outputs": [
    {
     "data": {
      "text/html": [
       "<div>\n",
       "<style scoped>\n",
       "    .dataframe tbody tr th:only-of-type {\n",
       "        vertical-align: middle;\n",
       "    }\n",
       "\n",
       "    .dataframe tbody tr th {\n",
       "        vertical-align: top;\n",
       "    }\n",
       "\n",
       "    .dataframe thead th {\n",
       "        text-align: right;\n",
       "    }\n",
       "</style>\n",
       "<table border=\"1\" class=\"dataframe\">\n",
       "  <thead>\n",
       "    <tr style=\"text-align: right;\">\n",
       "      <th></th>\n",
       "      <th>SK_ID_PREV</th>\n",
       "      <th>SK_ID_CURR</th>\n",
       "      <th>NAME_CONTRACT_TYPE</th>\n",
       "      <th>AMT_ANNUITY</th>\n",
       "      <th>AMT_APPLICATION</th>\n",
       "      <th>AMT_CREDIT</th>\n",
       "      <th>AMT_DOWN_PAYMENT</th>\n",
       "      <th>AMT_GOODS_PRICE</th>\n",
       "      <th>WEEKDAY_APPR_PROCESS_START</th>\n",
       "      <th>HOUR_APPR_PROCESS_START</th>\n",
       "      <th>...</th>\n",
       "      <th>NAME_SELLER_INDUSTRY</th>\n",
       "      <th>CNT_PAYMENT</th>\n",
       "      <th>NAME_YIELD_GROUP</th>\n",
       "      <th>PRODUCT_COMBINATION</th>\n",
       "      <th>DAYS_FIRST_DRAWING</th>\n",
       "      <th>DAYS_FIRST_DUE</th>\n",
       "      <th>DAYS_LAST_DUE_1ST_VERSION</th>\n",
       "      <th>DAYS_LAST_DUE</th>\n",
       "      <th>DAYS_TERMINATION</th>\n",
       "      <th>NFLAG_INSURED_ON_APPROVAL</th>\n",
       "    </tr>\n",
       "  </thead>\n",
       "  <tbody>\n",
       "    <tr>\n",
       "      <th>0</th>\n",
       "      <td>2030495</td>\n",
       "      <td>271877</td>\n",
       "      <td>Consumer loans</td>\n",
       "      <td>1730.430</td>\n",
       "      <td>17145.0</td>\n",
       "      <td>17145.0</td>\n",
       "      <td>0.0</td>\n",
       "      <td>17145.0</td>\n",
       "      <td>SATURDAY</td>\n",
       "      <td>15</td>\n",
       "      <td>...</td>\n",
       "      <td>Connectivity</td>\n",
       "      <td>12.0</td>\n",
       "      <td>middle</td>\n",
       "      <td>POS mobile with interest</td>\n",
       "      <td>365243.0</td>\n",
       "      <td>-42.0</td>\n",
       "      <td>300.0</td>\n",
       "      <td>-42.0</td>\n",
       "      <td>-37.0</td>\n",
       "      <td>0.0</td>\n",
       "    </tr>\n",
       "    <tr>\n",
       "      <th>1</th>\n",
       "      <td>2802425</td>\n",
       "      <td>108129</td>\n",
       "      <td>Cash loans</td>\n",
       "      <td>25188.615</td>\n",
       "      <td>607500.0</td>\n",
       "      <td>679671.0</td>\n",
       "      <td>NaN</td>\n",
       "      <td>607500.0</td>\n",
       "      <td>THURSDAY</td>\n",
       "      <td>11</td>\n",
       "      <td>...</td>\n",
       "      <td>XNA</td>\n",
       "      <td>36.0</td>\n",
       "      <td>low_action</td>\n",
       "      <td>Cash X-Sell: low</td>\n",
       "      <td>365243.0</td>\n",
       "      <td>-134.0</td>\n",
       "      <td>916.0</td>\n",
       "      <td>365243.0</td>\n",
       "      <td>365243.0</td>\n",
       "      <td>1.0</td>\n",
       "    </tr>\n",
       "    <tr>\n",
       "      <th>2</th>\n",
       "      <td>2523466</td>\n",
       "      <td>122040</td>\n",
       "      <td>Cash loans</td>\n",
       "      <td>15060.735</td>\n",
       "      <td>112500.0</td>\n",
       "      <td>136444.5</td>\n",
       "      <td>NaN</td>\n",
       "      <td>112500.0</td>\n",
       "      <td>TUESDAY</td>\n",
       "      <td>11</td>\n",
       "      <td>...</td>\n",
       "      <td>XNA</td>\n",
       "      <td>12.0</td>\n",
       "      <td>high</td>\n",
       "      <td>Cash X-Sell: high</td>\n",
       "      <td>365243.0</td>\n",
       "      <td>-271.0</td>\n",
       "      <td>59.0</td>\n",
       "      <td>365243.0</td>\n",
       "      <td>365243.0</td>\n",
       "      <td>1.0</td>\n",
       "    </tr>\n",
       "    <tr>\n",
       "      <th>3</th>\n",
       "      <td>2819243</td>\n",
       "      <td>176158</td>\n",
       "      <td>Cash loans</td>\n",
       "      <td>47041.335</td>\n",
       "      <td>450000.0</td>\n",
       "      <td>470790.0</td>\n",
       "      <td>NaN</td>\n",
       "      <td>450000.0</td>\n",
       "      <td>MONDAY</td>\n",
       "      <td>7</td>\n",
       "      <td>...</td>\n",
       "      <td>XNA</td>\n",
       "      <td>12.0</td>\n",
       "      <td>middle</td>\n",
       "      <td>Cash X-Sell: middle</td>\n",
       "      <td>365243.0</td>\n",
       "      <td>-482.0</td>\n",
       "      <td>-152.0</td>\n",
       "      <td>-182.0</td>\n",
       "      <td>-177.0</td>\n",
       "      <td>1.0</td>\n",
       "    </tr>\n",
       "    <tr>\n",
       "      <th>4</th>\n",
       "      <td>1784265</td>\n",
       "      <td>202054</td>\n",
       "      <td>Cash loans</td>\n",
       "      <td>31924.395</td>\n",
       "      <td>337500.0</td>\n",
       "      <td>404055.0</td>\n",
       "      <td>NaN</td>\n",
       "      <td>337500.0</td>\n",
       "      <td>THURSDAY</td>\n",
       "      <td>9</td>\n",
       "      <td>...</td>\n",
       "      <td>XNA</td>\n",
       "      <td>24.0</td>\n",
       "      <td>high</td>\n",
       "      <td>Cash Street: high</td>\n",
       "      <td>NaN</td>\n",
       "      <td>NaN</td>\n",
       "      <td>NaN</td>\n",
       "      <td>NaN</td>\n",
       "      <td>NaN</td>\n",
       "      <td>NaN</td>\n",
       "    </tr>\n",
       "  </tbody>\n",
       "</table>\n",
       "<p>5 rows × 37 columns</p>\n",
       "</div>"
      ],
      "text/plain": [
       "   SK_ID_PREV  SK_ID_CURR NAME_CONTRACT_TYPE  AMT_ANNUITY  AMT_APPLICATION  \\\n",
       "0     2030495      271877     Consumer loans     1730.430          17145.0   \n",
       "1     2802425      108129         Cash loans    25188.615         607500.0   \n",
       "2     2523466      122040         Cash loans    15060.735         112500.0   \n",
       "3     2819243      176158         Cash loans    47041.335         450000.0   \n",
       "4     1784265      202054         Cash loans    31924.395         337500.0   \n",
       "\n",
       "   AMT_CREDIT  AMT_DOWN_PAYMENT  AMT_GOODS_PRICE WEEKDAY_APPR_PROCESS_START  \\\n",
       "0     17145.0               0.0          17145.0                   SATURDAY   \n",
       "1    679671.0               NaN         607500.0                   THURSDAY   \n",
       "2    136444.5               NaN         112500.0                    TUESDAY   \n",
       "3    470790.0               NaN         450000.0                     MONDAY   \n",
       "4    404055.0               NaN         337500.0                   THURSDAY   \n",
       "\n",
       "   HOUR_APPR_PROCESS_START            ...            NAME_SELLER_INDUSTRY  \\\n",
       "0                       15            ...                    Connectivity   \n",
       "1                       11            ...                             XNA   \n",
       "2                       11            ...                             XNA   \n",
       "3                        7            ...                             XNA   \n",
       "4                        9            ...                             XNA   \n",
       "\n",
       "   CNT_PAYMENT  NAME_YIELD_GROUP       PRODUCT_COMBINATION  \\\n",
       "0         12.0            middle  POS mobile with interest   \n",
       "1         36.0        low_action          Cash X-Sell: low   \n",
       "2         12.0              high         Cash X-Sell: high   \n",
       "3         12.0            middle       Cash X-Sell: middle   \n",
       "4         24.0              high         Cash Street: high   \n",
       "\n",
       "   DAYS_FIRST_DRAWING DAYS_FIRST_DUE DAYS_LAST_DUE_1ST_VERSION  DAYS_LAST_DUE  \\\n",
       "0            365243.0          -42.0                     300.0          -42.0   \n",
       "1            365243.0         -134.0                     916.0       365243.0   \n",
       "2            365243.0         -271.0                      59.0       365243.0   \n",
       "3            365243.0         -482.0                    -152.0         -182.0   \n",
       "4                 NaN            NaN                       NaN            NaN   \n",
       "\n",
       "  DAYS_TERMINATION NFLAG_INSURED_ON_APPROVAL  \n",
       "0            -37.0                       0.0  \n",
       "1         365243.0                       1.0  \n",
       "2         365243.0                       1.0  \n",
       "3           -177.0                       1.0  \n",
       "4              NaN                       NaN  \n",
       "\n",
       "[5 rows x 37 columns]"
      ]
     },
     "execution_count": 212,
     "metadata": {},
     "output_type": "execute_result"
    }
   ],
   "source": [
    "previous_application.head()"
   ]
  },
  {
   "cell_type": "code",
   "execution_count": 213,
   "metadata": {},
   "outputs": [
    {
     "data": {
      "text/html": [
       "<div>\n",
       "<style scoped>\n",
       "    .dataframe tbody tr th:only-of-type {\n",
       "        vertical-align: middle;\n",
       "    }\n",
       "\n",
       "    .dataframe tbody tr th {\n",
       "        vertical-align: top;\n",
       "    }\n",
       "\n",
       "    .dataframe thead th {\n",
       "        text-align: right;\n",
       "    }\n",
       "</style>\n",
       "<table border=\"1\" class=\"dataframe\">\n",
       "  <thead>\n",
       "    <tr style=\"text-align: right;\">\n",
       "      <th></th>\n",
       "      <th>SK_ID_CURR</th>\n",
       "      <th>AMT_ANNUITY_MAX</th>\n",
       "      <th>AMT_ANNUITY_MEAN</th>\n",
       "      <th>AMT_APPLICATION_MAX</th>\n",
       "      <th>AMT_APPLICATION_MEAN</th>\n",
       "      <th>AMT_DOWN_PAYMENT_MAX</th>\n",
       "      <th>AMT_DOWN_PAYMENT_MEAN</th>\n",
       "      <th>RATE_INTEREST_PRIMARY_MAX</th>\n",
       "      <th>RATE_INTEREST_PRIMARY_MEAN</th>\n",
       "      <th>RATE_INTEREST_PRIVILEGED_MAX</th>\n",
       "      <th>RATE_INTEREST_PRIVILEGED_MEAN</th>\n",
       "    </tr>\n",
       "  </thead>\n",
       "  <tbody>\n",
       "    <tr>\n",
       "      <th>0</th>\n",
       "      <td>100001</td>\n",
       "      <td>3951.000</td>\n",
       "      <td>3951.000</td>\n",
       "      <td>24835.5</td>\n",
       "      <td>24835.50</td>\n",
       "      <td>2520.0</td>\n",
       "      <td>2520.0</td>\n",
       "      <td>NaN</td>\n",
       "      <td>NaN</td>\n",
       "      <td>NaN</td>\n",
       "      <td>NaN</td>\n",
       "    </tr>\n",
       "    <tr>\n",
       "      <th>1</th>\n",
       "      <td>100002</td>\n",
       "      <td>9251.775</td>\n",
       "      <td>9251.775</td>\n",
       "      <td>179055.0</td>\n",
       "      <td>179055.00</td>\n",
       "      <td>0.0</td>\n",
       "      <td>0.0</td>\n",
       "      <td>NaN</td>\n",
       "      <td>NaN</td>\n",
       "      <td>NaN</td>\n",
       "      <td>NaN</td>\n",
       "    </tr>\n",
       "    <tr>\n",
       "      <th>2</th>\n",
       "      <td>100003</td>\n",
       "      <td>98356.995</td>\n",
       "      <td>56553.990</td>\n",
       "      <td>900000.0</td>\n",
       "      <td>435436.50</td>\n",
       "      <td>6885.0</td>\n",
       "      <td>3442.5</td>\n",
       "      <td>NaN</td>\n",
       "      <td>NaN</td>\n",
       "      <td>NaN</td>\n",
       "      <td>NaN</td>\n",
       "    </tr>\n",
       "    <tr>\n",
       "      <th>3</th>\n",
       "      <td>100004</td>\n",
       "      <td>5357.250</td>\n",
       "      <td>5357.250</td>\n",
       "      <td>24282.0</td>\n",
       "      <td>24282.00</td>\n",
       "      <td>4860.0</td>\n",
       "      <td>4860.0</td>\n",
       "      <td>NaN</td>\n",
       "      <td>NaN</td>\n",
       "      <td>NaN</td>\n",
       "      <td>NaN</td>\n",
       "    </tr>\n",
       "    <tr>\n",
       "      <th>4</th>\n",
       "      <td>100005</td>\n",
       "      <td>4813.200</td>\n",
       "      <td>4813.200</td>\n",
       "      <td>44617.5</td>\n",
       "      <td>22308.75</td>\n",
       "      <td>4464.0</td>\n",
       "      <td>4464.0</td>\n",
       "      <td>NaN</td>\n",
       "      <td>NaN</td>\n",
       "      <td>NaN</td>\n",
       "      <td>NaN</td>\n",
       "    </tr>\n",
       "  </tbody>\n",
       "</table>\n",
       "</div>"
      ],
      "text/plain": [
       "   SK_ID_CURR  AMT_ANNUITY_MAX  AMT_ANNUITY_MEAN  AMT_APPLICATION_MAX  \\\n",
       "0      100001         3951.000          3951.000              24835.5   \n",
       "1      100002         9251.775          9251.775             179055.0   \n",
       "2      100003        98356.995         56553.990             900000.0   \n",
       "3      100004         5357.250          5357.250              24282.0   \n",
       "4      100005         4813.200          4813.200              44617.5   \n",
       "\n",
       "   AMT_APPLICATION_MEAN  AMT_DOWN_PAYMENT_MAX  AMT_DOWN_PAYMENT_MEAN  \\\n",
       "0              24835.50                2520.0                 2520.0   \n",
       "1             179055.00                   0.0                    0.0   \n",
       "2             435436.50                6885.0                 3442.5   \n",
       "3              24282.00                4860.0                 4860.0   \n",
       "4              22308.75                4464.0                 4464.0   \n",
       "\n",
       "   RATE_INTEREST_PRIMARY_MAX  RATE_INTEREST_PRIMARY_MEAN  \\\n",
       "0                        NaN                         NaN   \n",
       "1                        NaN                         NaN   \n",
       "2                        NaN                         NaN   \n",
       "3                        NaN                         NaN   \n",
       "4                        NaN                         NaN   \n",
       "\n",
       "   RATE_INTEREST_PRIVILEGED_MAX  RATE_INTEREST_PRIVILEGED_MEAN  \n",
       "0                           NaN                            NaN  \n",
       "1                           NaN                            NaN  \n",
       "2                           NaN                            NaN  \n",
       "3                           NaN                            NaN  \n",
       "4                           NaN                            NaN  "
      ]
     },
     "execution_count": 213,
     "metadata": {},
     "output_type": "execute_result"
    }
   ],
   "source": [
    "agg_previous_app = previous_application.groupby('SK_ID_CURR').agg({'AMT_ANNUITY':['max', 'mean'],\n",
    "                                                     'AMT_APPLICATION':['max', 'mean'],\n",
    "                                                     'AMT_DOWN_PAYMENT':['max', 'mean'],\n",
    "                                                     'RATE_INTEREST_PRIMARY':['max', 'mean'],\n",
    "                                                     'RATE_INTEREST_PRIVILEGED':['max', 'mean']})\n",
    "agg_previous_app.columns = agg_previous_app.columns.map('_'.join).str.strip('_')\n",
    "agg_previous_app.columns = map(str.upper, agg_previous_app.columns)\n",
    "agg_previous_app.reset_index(inplace=True)\n",
    "agg_previous_app.head()"
   ]
  },
  {
   "cell_type": "code",
   "execution_count": 214,
   "metadata": {},
   "outputs": [],
   "source": [
    "# Feature scaling (min-max normalization)\n",
    "agg_previous_app['AMT_ANNUITY_MAX'] = ((agg_previous_app['AMT_ANNUITY_MAX'] - agg_previous_app['AMT_ANNUITY_MAX'].min())/(agg_previous_app['AMT_ANNUITY_MAX'].max() - agg_previous_app['AMT_ANNUITY_MAX'].min()))\n",
    "agg_previous_app['AMT_ANNUITY_MEAN'] = ((agg_previous_app['AMT_ANNUITY_MEAN'] - agg_previous_app['AMT_ANNUITY_MEAN'].min())/(agg_previous_app['AMT_ANNUITY_MEAN'].max() - agg_previous_app['AMT_ANNUITY_MEAN'].min()))\n",
    "agg_previous_app['AMT_APPLICATION_MAX'] = ((agg_previous_app['AMT_APPLICATION_MAX'] - agg_previous_app['AMT_APPLICATION_MAX'].min())/(agg_previous_app['AMT_APPLICATION_MAX'].max() - agg_previous_app['AMT_APPLICATION_MAX'].min()))\n",
    "agg_previous_app['AMT_APPLICATION_MEAN'] = ((agg_previous_app['AMT_APPLICATION_MEAN'] - agg_previous_app['AMT_APPLICATION_MEAN'].min())/(agg_previous_app['AMT_APPLICATION_MEAN'].max() - agg_previous_app['AMT_APPLICATION_MEAN'].min()))\n",
    "agg_previous_app['AMT_DOWN_PAYMENT_MAX'] = ((agg_previous_app['AMT_DOWN_PAYMENT_MAX'] - agg_previous_app['AMT_DOWN_PAYMENT_MAX'].min())/(agg_previous_app['AMT_DOWN_PAYMENT_MAX'].max() - agg_previous_app['AMT_DOWN_PAYMENT_MAX'].min()))\n",
    "agg_previous_app['AMT_DOWN_PAYMENT_MEAN'] = ((agg_previous_app['AMT_DOWN_PAYMENT_MEAN'] - agg_previous_app['AMT_DOWN_PAYMENT_MEAN'].min())/(agg_previous_app['AMT_DOWN_PAYMENT_MEAN'].max() - agg_previous_app['AMT_DOWN_PAYMENT_MEAN'].min()))\n",
    "agg_previous_app['RATE_INTEREST_PRIMARY_MAX'] = ((agg_previous_app['RATE_INTEREST_PRIMARY_MAX'] - agg_previous_app['RATE_INTEREST_PRIMARY_MAX'].min())/(agg_previous_app['RATE_INTEREST_PRIMARY_MAX'].max() - agg_previous_app['RATE_INTEREST_PRIMARY_MAX'].min()))\n",
    "agg_previous_app['RATE_INTEREST_PRIMARY_MEAN'] = ((agg_previous_app['RATE_INTEREST_PRIMARY_MEAN'] - agg_previous_app['RATE_INTEREST_PRIMARY_MEAN'].min())/(agg_previous_app['RATE_INTEREST_PRIMARY_MEAN'].max() - agg_previous_app['RATE_INTEREST_PRIMARY_MEAN'].min()))\n",
    "agg_previous_app['RATE_INTEREST_PRIVILEGED_MAX'] = ((agg_previous_app['RATE_INTEREST_PRIVILEGED_MAX'] - agg_previous_app['RATE_INTEREST_PRIVILEGED_MAX'].min())/(agg_previous_app['RATE_INTEREST_PRIVILEGED_MAX'].max() - agg_previous_app['RATE_INTEREST_PRIVILEGED_MAX'].min()))\n",
    "agg_previous_app['RATE_INTEREST_PRIVILEGED_MEAN'] = ((agg_previous_app['RATE_INTEREST_PRIVILEGED_MEAN'] - agg_previous_app['RATE_INTEREST_PRIVILEGED_MEAN'].min())/(agg_previous_app['RATE_INTEREST_PRIVILEGED_MEAN'].max() - agg_previous_app['RATE_INTEREST_PRIVILEGED_MEAN'].min()))"
   ]
  },
  {
   "cell_type": "code",
   "execution_count": 215,
   "metadata": {},
   "outputs": [],
   "source": [
    "merged_processed_app_train = pd.merge(merged_processed_app_train, agg_previous_app, how='left', on='SK_ID_CURR')"
   ]
  },
  {
   "cell_type": "code",
   "execution_count": 216,
   "metadata": {},
   "outputs": [],
   "source": [
    "# get approved apps count\n",
    "approved_previous_app = previous_application[previous_application['NAME_CONTRACT_STATUS'] == 'Approved'].groupby('SK_ID_CURR').size().reset_index(name='APPROVED_COUNT')\n",
    "approved_previous_app['APPROVED_COUNT'] = ((approved_previous_app['APPROVED_COUNT'] - approved_previous_app['APPROVED_COUNT'].min())/(approved_previous_app['APPROVED_COUNT'].max() - approved_previous_app['APPROVED_COUNT'].min()))\n",
    "merged_processed_app_train = pd.merge(merged_processed_app_train, approved_previous_app, how='left', on='SK_ID_CURR')\n",
    "\n",
    "# get refused apps count\n",
    "refused_previous_app = previous_application[previous_application['NAME_CONTRACT_STATUS'] == 'Refused'].groupby('SK_ID_CURR').size().reset_index(name='REFUSED_COUNT')\n",
    "refused_previous_app['REFUSED_COUNT'] = ((refused_previous_app['REFUSED_COUNT'] - refused_previous_app['REFUSED_COUNT'].min())/(refused_previous_app['REFUSED_COUNT'].max() - refused_previous_app['REFUSED_COUNT'].min()))\n",
    "merged_processed_app_train = pd.merge(merged_processed_app_train, refused_previous_app, how='left', on='SK_ID_CURR')\n",
    "\n",
    "# include approved count minus refused count\n",
    "merged_processed_app_train['DIFF_APPROVED_REFUSED'] = merged_processed_app_train['APPROVED_COUNT'] - merged_processed_app_train['REFUSED_COUNT']\n"
   ]
  },
  {
   "cell_type": "code",
   "execution_count": 217,
   "metadata": {},
   "outputs": [
    {
     "data": {
      "text/plain": [
       "count    5951.000000\n",
       "mean        0.188357\n",
       "std         0.087671\n",
       "min         0.034781\n",
       "25%         0.160716\n",
       "50%         0.189122\n",
       "75%         0.193330\n",
       "max         1.000000\n",
       "Name: RATE_INTEREST_PRIMARY, dtype: float64"
      ]
     },
     "execution_count": 217,
     "metadata": {},
     "output_type": "execute_result"
    }
   ],
   "source": [
    "previous_application['RATE_INTEREST_PRIMARY'].describe()"
   ]
  },
  {
   "cell_type": "markdown",
   "metadata": {},
   "source": [
    "## TABLE installments_payments.csv"
   ]
  },
  {
   "cell_type": "code",
   "execution_count": 10,
   "metadata": {},
   "outputs": [
    {
     "data": {
      "text/plain": [
       "(13605401, 8)"
      ]
     },
     "execution_count": 10,
     "metadata": {},
     "output_type": "execute_result"
    }
   ],
   "source": [
    "installments_payments = pd.read_csv(\"data/installments_payments.csv\")\n",
    "installments_payments.shape"
   ]
  },
  {
   "cell_type": "code",
   "execution_count": 219,
   "metadata": {},
   "outputs": [
    {
     "data": {
      "text/html": [
       "<div>\n",
       "<style scoped>\n",
       "    .dataframe tbody tr th:only-of-type {\n",
       "        vertical-align: middle;\n",
       "    }\n",
       "\n",
       "    .dataframe tbody tr th {\n",
       "        vertical-align: top;\n",
       "    }\n",
       "\n",
       "    .dataframe thead th {\n",
       "        text-align: right;\n",
       "    }\n",
       "</style>\n",
       "<table border=\"1\" class=\"dataframe\">\n",
       "  <thead>\n",
       "    <tr style=\"text-align: right;\">\n",
       "      <th></th>\n",
       "      <th>SK_ID_PREV</th>\n",
       "      <th>SK_ID_CURR</th>\n",
       "      <th>NUM_INSTALMENT_VERSION</th>\n",
       "      <th>NUM_INSTALMENT_NUMBER</th>\n",
       "      <th>DAYS_INSTALMENT</th>\n",
       "      <th>DAYS_ENTRY_PAYMENT</th>\n",
       "      <th>AMT_INSTALMENT</th>\n",
       "      <th>AMT_PAYMENT</th>\n",
       "    </tr>\n",
       "  </thead>\n",
       "  <tbody>\n",
       "    <tr>\n",
       "      <th>0</th>\n",
       "      <td>1054186</td>\n",
       "      <td>161674</td>\n",
       "      <td>1.0</td>\n",
       "      <td>6</td>\n",
       "      <td>-1180.0</td>\n",
       "      <td>-1187.0</td>\n",
       "      <td>6948.360</td>\n",
       "      <td>6948.360</td>\n",
       "    </tr>\n",
       "    <tr>\n",
       "      <th>1</th>\n",
       "      <td>1330831</td>\n",
       "      <td>151639</td>\n",
       "      <td>0.0</td>\n",
       "      <td>34</td>\n",
       "      <td>-2156.0</td>\n",
       "      <td>-2156.0</td>\n",
       "      <td>1716.525</td>\n",
       "      <td>1716.525</td>\n",
       "    </tr>\n",
       "    <tr>\n",
       "      <th>2</th>\n",
       "      <td>2085231</td>\n",
       "      <td>193053</td>\n",
       "      <td>2.0</td>\n",
       "      <td>1</td>\n",
       "      <td>-63.0</td>\n",
       "      <td>-63.0</td>\n",
       "      <td>25425.000</td>\n",
       "      <td>25425.000</td>\n",
       "    </tr>\n",
       "    <tr>\n",
       "      <th>3</th>\n",
       "      <td>2452527</td>\n",
       "      <td>199697</td>\n",
       "      <td>1.0</td>\n",
       "      <td>3</td>\n",
       "      <td>-2418.0</td>\n",
       "      <td>-2426.0</td>\n",
       "      <td>24350.130</td>\n",
       "      <td>24350.130</td>\n",
       "    </tr>\n",
       "    <tr>\n",
       "      <th>4</th>\n",
       "      <td>2714724</td>\n",
       "      <td>167756</td>\n",
       "      <td>1.0</td>\n",
       "      <td>2</td>\n",
       "      <td>-1383.0</td>\n",
       "      <td>-1366.0</td>\n",
       "      <td>2165.040</td>\n",
       "      <td>2160.585</td>\n",
       "    </tr>\n",
       "  </tbody>\n",
       "</table>\n",
       "</div>"
      ],
      "text/plain": [
       "   SK_ID_PREV  SK_ID_CURR  NUM_INSTALMENT_VERSION  NUM_INSTALMENT_NUMBER  \\\n",
       "0     1054186      161674                     1.0                      6   \n",
       "1     1330831      151639                     0.0                     34   \n",
       "2     2085231      193053                     2.0                      1   \n",
       "3     2452527      199697                     1.0                      3   \n",
       "4     2714724      167756                     1.0                      2   \n",
       "\n",
       "   DAYS_INSTALMENT  DAYS_ENTRY_PAYMENT  AMT_INSTALMENT  AMT_PAYMENT  \n",
       "0          -1180.0             -1187.0        6948.360     6948.360  \n",
       "1          -2156.0             -2156.0        1716.525     1716.525  \n",
       "2            -63.0               -63.0       25425.000    25425.000  \n",
       "3          -2418.0             -2426.0       24350.130    24350.130  \n",
       "4          -1383.0             -1366.0        2165.040     2160.585  "
      ]
     },
     "execution_count": 219,
     "metadata": {},
     "output_type": "execute_result"
    }
   ],
   "source": [
    "installments_payments.head()"
   ]
  },
  {
   "cell_type": "code",
   "execution_count": 220,
   "metadata": {
    "scrolled": true
   },
   "outputs": [
    {
     "data": {
      "text/html": [
       "<div>\n",
       "<style scoped>\n",
       "    .dataframe tbody tr th:only-of-type {\n",
       "        vertical-align: middle;\n",
       "    }\n",
       "\n",
       "    .dataframe tbody tr th {\n",
       "        vertical-align: top;\n",
       "    }\n",
       "\n",
       "    .dataframe thead th {\n",
       "        text-align: right;\n",
       "    }\n",
       "</style>\n",
       "<table border=\"1\" class=\"dataframe\">\n",
       "  <thead>\n",
       "    <tr style=\"text-align: right;\">\n",
       "      <th></th>\n",
       "      <th>SK_ID_PREV</th>\n",
       "      <th>SK_ID_CURR</th>\n",
       "      <th>NUM_INSTALMENT_VERSION</th>\n",
       "      <th>NUM_INSTALMENT_NUMBER</th>\n",
       "      <th>DAYS_INSTALMENT</th>\n",
       "      <th>DAYS_ENTRY_PAYMENT</th>\n",
       "      <th>AMT_INSTALMENT</th>\n",
       "      <th>AMT_PAYMENT</th>\n",
       "      <th>DIFF_INST_PAYMENT</th>\n",
       "    </tr>\n",
       "  </thead>\n",
       "  <tbody>\n",
       "    <tr>\n",
       "      <th>0</th>\n",
       "      <td>1054186</td>\n",
       "      <td>161674</td>\n",
       "      <td>1.0</td>\n",
       "      <td>6</td>\n",
       "      <td>-1180.0</td>\n",
       "      <td>-1187.0</td>\n",
       "      <td>6948.360</td>\n",
       "      <td>6948.360</td>\n",
       "      <td>0.000</td>\n",
       "    </tr>\n",
       "    <tr>\n",
       "      <th>1</th>\n",
       "      <td>1330831</td>\n",
       "      <td>151639</td>\n",
       "      <td>0.0</td>\n",
       "      <td>34</td>\n",
       "      <td>-2156.0</td>\n",
       "      <td>-2156.0</td>\n",
       "      <td>1716.525</td>\n",
       "      <td>1716.525</td>\n",
       "      <td>0.000</td>\n",
       "    </tr>\n",
       "    <tr>\n",
       "      <th>2</th>\n",
       "      <td>2085231</td>\n",
       "      <td>193053</td>\n",
       "      <td>2.0</td>\n",
       "      <td>1</td>\n",
       "      <td>-63.0</td>\n",
       "      <td>-63.0</td>\n",
       "      <td>25425.000</td>\n",
       "      <td>25425.000</td>\n",
       "      <td>0.000</td>\n",
       "    </tr>\n",
       "    <tr>\n",
       "      <th>3</th>\n",
       "      <td>2452527</td>\n",
       "      <td>199697</td>\n",
       "      <td>1.0</td>\n",
       "      <td>3</td>\n",
       "      <td>-2418.0</td>\n",
       "      <td>-2426.0</td>\n",
       "      <td>24350.130</td>\n",
       "      <td>24350.130</td>\n",
       "      <td>0.000</td>\n",
       "    </tr>\n",
       "    <tr>\n",
       "      <th>4</th>\n",
       "      <td>2714724</td>\n",
       "      <td>167756</td>\n",
       "      <td>1.0</td>\n",
       "      <td>2</td>\n",
       "      <td>-1383.0</td>\n",
       "      <td>-1366.0</td>\n",
       "      <td>2165.040</td>\n",
       "      <td>2160.585</td>\n",
       "      <td>4.455</td>\n",
       "    </tr>\n",
       "  </tbody>\n",
       "</table>\n",
       "</div>"
      ],
      "text/plain": [
       "   SK_ID_PREV  SK_ID_CURR  NUM_INSTALMENT_VERSION  NUM_INSTALMENT_NUMBER  \\\n",
       "0     1054186      161674                     1.0                      6   \n",
       "1     1330831      151639                     0.0                     34   \n",
       "2     2085231      193053                     2.0                      1   \n",
       "3     2452527      199697                     1.0                      3   \n",
       "4     2714724      167756                     1.0                      2   \n",
       "\n",
       "   DAYS_INSTALMENT  DAYS_ENTRY_PAYMENT  AMT_INSTALMENT  AMT_PAYMENT  \\\n",
       "0          -1180.0             -1187.0        6948.360     6948.360   \n",
       "1          -2156.0             -2156.0        1716.525     1716.525   \n",
       "2            -63.0               -63.0       25425.000    25425.000   \n",
       "3          -2418.0             -2426.0       24350.130    24350.130   \n",
       "4          -1383.0             -1366.0        2165.040     2160.585   \n",
       "\n",
       "   DIFF_INST_PAYMENT  \n",
       "0              0.000  \n",
       "1              0.000  \n",
       "2              0.000  \n",
       "3              0.000  \n",
       "4              4.455  "
      ]
     },
     "execution_count": 220,
     "metadata": {},
     "output_type": "execute_result"
    }
   ],
   "source": [
    "installments_payments['DIFF_INST_PAYMENT'] = (installments_payments['AMT_INSTALMENT'] - \n",
    "                                              installments_payments['AMT_PAYMENT'])\n",
    "installments_payments.head()"
   ]
  },
  {
   "cell_type": "code",
   "execution_count": 221,
   "metadata": {},
   "outputs": [
    {
     "data": {
      "text/html": [
       "<div>\n",
       "<style scoped>\n",
       "    .dataframe tbody tr th:only-of-type {\n",
       "        vertical-align: middle;\n",
       "    }\n",
       "\n",
       "    .dataframe tbody tr th {\n",
       "        vertical-align: top;\n",
       "    }\n",
       "\n",
       "    .dataframe thead th {\n",
       "        text-align: right;\n",
       "    }\n",
       "</style>\n",
       "<table border=\"1\" class=\"dataframe\">\n",
       "  <thead>\n",
       "    <tr style=\"text-align: right;\">\n",
       "      <th></th>\n",
       "      <th>SK_ID_CURR</th>\n",
       "      <th>AMT_INSTALMENT_MAX</th>\n",
       "      <th>AMT_INSTALMENT_MEAN</th>\n",
       "      <th>AMT_PAYMENT_MAX</th>\n",
       "      <th>AMT_PAYMENT_MEAN</th>\n",
       "      <th>DIFF_INST_PAYMENT_MAX</th>\n",
       "      <th>DIFF_INST_PAYMENT_MEAN</th>\n",
       "    </tr>\n",
       "  </thead>\n",
       "  <tbody>\n",
       "    <tr>\n",
       "      <th>0</th>\n",
       "      <td>100001</td>\n",
       "      <td>17397.900</td>\n",
       "      <td>5885.132143</td>\n",
       "      <td>17397.900</td>\n",
       "      <td>5885.132143</td>\n",
       "      <td>0.0</td>\n",
       "      <td>0.0</td>\n",
       "    </tr>\n",
       "    <tr>\n",
       "      <th>1</th>\n",
       "      <td>100002</td>\n",
       "      <td>53093.745</td>\n",
       "      <td>11559.247105</td>\n",
       "      <td>53093.745</td>\n",
       "      <td>11559.247105</td>\n",
       "      <td>0.0</td>\n",
       "      <td>0.0</td>\n",
       "    </tr>\n",
       "    <tr>\n",
       "      <th>2</th>\n",
       "      <td>100003</td>\n",
       "      <td>560835.360</td>\n",
       "      <td>64754.586000</td>\n",
       "      <td>560835.360</td>\n",
       "      <td>64754.586000</td>\n",
       "      <td>0.0</td>\n",
       "      <td>0.0</td>\n",
       "    </tr>\n",
       "    <tr>\n",
       "      <th>3</th>\n",
       "      <td>100004</td>\n",
       "      <td>10573.965</td>\n",
       "      <td>7096.155000</td>\n",
       "      <td>10573.965</td>\n",
       "      <td>7096.155000</td>\n",
       "      <td>0.0</td>\n",
       "      <td>0.0</td>\n",
       "    </tr>\n",
       "    <tr>\n",
       "      <th>4</th>\n",
       "      <td>100005</td>\n",
       "      <td>17656.245</td>\n",
       "      <td>6240.205000</td>\n",
       "      <td>17656.245</td>\n",
       "      <td>6240.205000</td>\n",
       "      <td>0.0</td>\n",
       "      <td>0.0</td>\n",
       "    </tr>\n",
       "  </tbody>\n",
       "</table>\n",
       "</div>"
      ],
      "text/plain": [
       "   SK_ID_CURR  AMT_INSTALMENT_MAX  AMT_INSTALMENT_MEAN  AMT_PAYMENT_MAX  \\\n",
       "0      100001           17397.900          5885.132143        17397.900   \n",
       "1      100002           53093.745         11559.247105        53093.745   \n",
       "2      100003          560835.360         64754.586000       560835.360   \n",
       "3      100004           10573.965          7096.155000        10573.965   \n",
       "4      100005           17656.245          6240.205000        17656.245   \n",
       "\n",
       "   AMT_PAYMENT_MEAN  DIFF_INST_PAYMENT_MAX  DIFF_INST_PAYMENT_MEAN  \n",
       "0       5885.132143                    0.0                     0.0  \n",
       "1      11559.247105                    0.0                     0.0  \n",
       "2      64754.586000                    0.0                     0.0  \n",
       "3       7096.155000                    0.0                     0.0  \n",
       "4       6240.205000                    0.0                     0.0  "
      ]
     },
     "execution_count": 221,
     "metadata": {},
     "output_type": "execute_result"
    }
   ],
   "source": [
    "agg_installments_payments = installments_payments.groupby('SK_ID_CURR').agg({'AMT_INSTALMENT':['max', 'mean'],\n",
    "                                                                   'AMT_PAYMENT':['max', 'mean'],\n",
    "                                                                   'DIFF_INST_PAYMENT':['max', 'mean']})\n",
    "agg_installments_payments.columns = agg_installments_payments.columns.map('_'.join).str.strip('_')\n",
    "agg_installments_payments.columns = map(str.upper, agg_installments_payments.columns)\n",
    "agg_installments_payments.reset_index(inplace=True)\n",
    "agg_installments_payments.head()"
   ]
  },
  {
   "cell_type": "code",
   "execution_count": 222,
   "metadata": {},
   "outputs": [],
   "source": [
    "# Feature scaling (min-max normalization)\n",
    "agg_installments_payments['AMT_INSTALMENT_MAX'] = ((agg_installments_payments['AMT_INSTALMENT_MAX'] - agg_installments_payments['AMT_INSTALMENT_MAX'].min())/(agg_installments_payments['AMT_INSTALMENT_MAX'].max() - agg_installments_payments['AMT_INSTALMENT_MAX'].min()))\n",
    "agg_installments_payments['AMT_INSTALMENT_MEAN'] = ((agg_installments_payments['AMT_INSTALMENT_MEAN'] - agg_installments_payments['AMT_INSTALMENT_MEAN'].min())/(agg_installments_payments['AMT_INSTALMENT_MEAN'].max() - agg_installments_payments['AMT_INSTALMENT_MEAN'].min()))\n",
    "agg_installments_payments['AMT_PAYMENT_MAX'] = ((agg_installments_payments['AMT_PAYMENT_MAX'] - agg_installments_payments['AMT_PAYMENT_MAX'].min())/(agg_installments_payments['AMT_PAYMENT_MAX'].max() - agg_installments_payments['AMT_PAYMENT_MAX'].min()))\n",
    "agg_installments_payments['AMT_PAYMENT_MEAN'] = ((agg_installments_payments['AMT_PAYMENT_MEAN'] - agg_installments_payments['AMT_PAYMENT_MEAN'].min())/(agg_installments_payments['AMT_PAYMENT_MEAN'].max() - agg_installments_payments['AMT_PAYMENT_MEAN'].min()))\n",
    "agg_installments_payments['DIFF_INST_PAYMENT_MAX'] = ((agg_installments_payments['DIFF_INST_PAYMENT_MAX'] - agg_installments_payments['DIFF_INST_PAYMENT_MAX'].min())/(agg_installments_payments['DIFF_INST_PAYMENT_MAX'].max() - agg_installments_payments['DIFF_INST_PAYMENT_MAX'].min()))\n",
    "agg_installments_payments['DIFF_INST_PAYMENT_MEAN'] = ((agg_installments_payments['DIFF_INST_PAYMENT_MEAN'] - agg_installments_payments['DIFF_INST_PAYMENT_MAX'].min())/(agg_installments_payments['DIFF_INST_PAYMENT_MEAN'].max() - agg_installments_payments['DIFF_INST_PAYMENT_MEAN'].min()))"
   ]
  },
  {
   "cell_type": "code",
   "execution_count": 223,
   "metadata": {},
   "outputs": [],
   "source": [
    "merged_processed_app_train = pd.merge(merged_processed_app_train, agg_installments_payments, how='left', on='SK_ID_CURR')"
   ]
  },
  {
   "cell_type": "markdown",
   "metadata": {},
   "source": [
    "## Debt to Income Ratio\n",
    "<p>Here I will calculate, using only the Credit Bureau information, an approximated debt to income ratio, that relates but not corresponds to the debt-to-income ratio (DTI) used in the mortgage industry.</p>\n",
    "<p> The total active debts divided by the applicant's income can be good estimator of his capacity to pay his debts."
   ]
  },
  {
   "cell_type": "code",
   "execution_count": 224,
   "metadata": {},
   "outputs": [],
   "source": [
    "active_bureau = bureau[bureau['CREDIT_ACTIVE'] == 'Active']\n",
    "agg_active_bureau = active_bureau.groupby('SK_ID_CURR').agg({'AMT_CREDIT_SUM_DEBT':['sum']})\n",
    "agg_active_bureau.columns = agg_active_bureau.columns.map('_'.join).str.strip('_')\n",
    "agg_active_bureau.columns = map(str.upper, agg_active_bureau.columns)\n",
    "agg_active_bureau.reset_index(inplace=True)\n",
    "agg_active_bureau.rename(columns={'AMT_CREDIT_SUM_DEBT_SUM':'TOTAL_ACTIVE_DEBT'}, \n",
    "                 inplace=True)"
   ]
  },
  {
   "cell_type": "code",
   "execution_count": 225,
   "metadata": {},
   "outputs": [
    {
     "data": {
      "text/html": [
       "<div>\n",
       "<style scoped>\n",
       "    .dataframe tbody tr th:only-of-type {\n",
       "        vertical-align: middle;\n",
       "    }\n",
       "\n",
       "    .dataframe tbody tr th {\n",
       "        vertical-align: top;\n",
       "    }\n",
       "\n",
       "    .dataframe thead th {\n",
       "        text-align: right;\n",
       "    }\n",
       "</style>\n",
       "<table border=\"1\" class=\"dataframe\">\n",
       "  <thead>\n",
       "    <tr style=\"text-align: right;\">\n",
       "      <th></th>\n",
       "      <th>SK_ID_CURR</th>\n",
       "      <th>TOTAL_ACTIVE_DEBT</th>\n",
       "    </tr>\n",
       "  </thead>\n",
       "  <tbody>\n",
       "    <tr>\n",
       "      <th>0</th>\n",
       "      <td>100001</td>\n",
       "      <td>596686.5</td>\n",
       "    </tr>\n",
       "    <tr>\n",
       "      <th>1</th>\n",
       "      <td>100002</td>\n",
       "      <td>245781.0</td>\n",
       "    </tr>\n",
       "    <tr>\n",
       "      <th>2</th>\n",
       "      <td>100003</td>\n",
       "      <td>0.0</td>\n",
       "    </tr>\n",
       "    <tr>\n",
       "      <th>3</th>\n",
       "      <td>100005</td>\n",
       "      <td>568408.5</td>\n",
       "    </tr>\n",
       "    <tr>\n",
       "      <th>4</th>\n",
       "      <td>100008</td>\n",
       "      <td>240057.0</td>\n",
       "    </tr>\n",
       "  </tbody>\n",
       "</table>\n",
       "</div>"
      ],
      "text/plain": [
       "   SK_ID_CURR  TOTAL_ACTIVE_DEBT\n",
       "0      100001           596686.5\n",
       "1      100002           245781.0\n",
       "2      100003                0.0\n",
       "3      100005           568408.5\n",
       "4      100008           240057.0"
      ]
     },
     "execution_count": 225,
     "metadata": {},
     "output_type": "execute_result"
    }
   ],
   "source": [
    "agg_active_bureau.head()"
   ]
  },
  {
   "cell_type": "code",
   "execution_count": 226,
   "metadata": {},
   "outputs": [],
   "source": [
    "merged_processed_app_train = pd.merge(merged_processed_app_train, agg_active_bureau, how='left', on='SK_ID_CURR')\n",
    "\n",
    "merged_processed_app_train['TOTAL_ACTIVE_DEBT'].fillna(value=0.,inplace=True)\n",
    "\n",
    "merged_processed_app_train['DEBIT_TO_INCOME'] = (merged_processed_app_train['TOTAL_ACTIVE_DEBT'] / \n",
    "                                                 merged_processed_app_train['AMT_INCOME_TOTAL'])\n",
    "merged_processed_app_train = merged_processed_app_train.drop('TOTAL_ACTIVE_DEBT', axis=1)\n",
    "\n",
    "# Feature scaling (min-max normalization)\n",
    "merged_processed_app_train['DEBIT_TO_INCOME'] = ((merged_processed_app_train['DEBIT_TO_INCOME'] -\n",
    "                                                  merged_processed_app_train['DEBIT_TO_INCOME'].min())/\n",
    "                                                 (merged_processed_app_train['DEBIT_TO_INCOME'].max() - \n",
    "                                                  merged_processed_app_train['DEBIT_TO_INCOME'].min()))"
   ]
  },
  {
   "cell_type": "code",
   "execution_count": 227,
   "metadata": {},
   "outputs": [],
   "source": [
    "# The remaining missing values will be replaced by the mean for each column\n",
    "merged_processed_app_train.fillna(value=merged_processed_app_train.mean(), inplace=True)\n",
    "merged_processed_app_train = merged_processed_app_train.drop('SK_ID_CURR', axis=1)"
   ]
  },
  {
   "cell_type": "code",
   "execution_count": 228,
   "metadata": {},
   "outputs": [],
   "source": [
    "merged_processed_app_train.to_pickle('data/processed_data')"
   ]
  },
  {
   "cell_type": "code",
   "execution_count": 229,
   "metadata": {},
   "outputs": [
    {
     "name": "stdout",
     "output_type": "stream",
     "text": [
      "\n",
      "Number of features: \t308\n",
      "Number of samples: \t302,054\n"
     ]
    }
   ],
   "source": [
    "print()\n",
    "print(\"Number of features: \\t{:,}\".format(len(merged_processed_app_train.columns)))\n",
    "print(\"Number of samples: \\t{:,}\".format(merged_processed_app_train.shape[0]))"
   ]
  }
 ],
 "metadata": {
  "kernelspec": {
   "display_name": "Python 3",
   "language": "python",
   "name": "python3"
  },
  "language_info": {
   "codemirror_mode": {
    "name": "ipython",
    "version": 3
   },
   "file_extension": ".py",
   "mimetype": "text/x-python",
   "name": "python",
   "nbconvert_exporter": "python",
   "pygments_lexer": "ipython3",
   "version": "3.7.1"
  }
 },
 "nbformat": 4,
 "nbformat_minor": 2
}
